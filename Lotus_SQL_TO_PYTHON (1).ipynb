{
  "nbformat": 4,
  "nbformat_minor": 0,
  "metadata": {
    "colab": {
      "provenance": []
    },
    "kernelspec": {
      "name": "python3",
      "display_name": "Python 3"
    },
    "language_info": {
      "name": "python"
    }
  },
  "cells": [
    {
      "cell_type": "code",
      "execution_count": null,
      "metadata": {
        "colab": {
          "base_uri": "https://localhost:8080/"
        },
        "id": "qFQRj9qfuxGf",
        "outputId": "26e481aa-61e7-47c0-cf1c-8f6cb09d69de"
      },
      "outputs": [
        {
          "output_type": "stream",
          "name": "stdout",
          "text": [
            "       rental_id              rental_date  inventory_id  customer_id  \\\n",
            "0              1  2005-05-24 22:53:30.000           367          130   \n",
            "1              2  2005-05-24 22:54:33.000          1525          459   \n",
            "2              3  2005-05-24 23:03:39.000          1711          408   \n",
            "3              4  2005-05-24 23:04:41.000          2452          333   \n",
            "4              5  2005-05-24 23:05:21.000          2079          222   \n",
            "...          ...                      ...           ...          ...   \n",
            "16039      16045  2005-08-23 22:25:26.000           772           14   \n",
            "16040      16046  2005-08-23 22:26:47.000          4364           74   \n",
            "16041      16047  2005-08-23 22:42:48.000          2088          114   \n",
            "16042      16048  2005-08-23 22:43:07.000          2019          103   \n",
            "16043      16049  2005-08-23 22:50:12.000          2666          393   \n",
            "\n",
            "                   return_date  staff_id          last_update  \n",
            "0      2005-05-26 22:04:30.000         1  2021-03-06 15:53:41  \n",
            "1      2005-05-28 19:40:33.000         1  2021-03-06 15:53:41  \n",
            "2      2005-06-01 22:12:39.000         1  2021-03-06 15:53:41  \n",
            "3      2005-06-03 01:43:41.000         2  2021-03-06 15:53:41  \n",
            "4      2005-06-02 04:33:21.000         1  2021-03-06 15:53:41  \n",
            "...                        ...       ...                  ...  \n",
            "16039  2005-08-25 23:54:26.000         1  2021-03-06 15:55:57  \n",
            "16040  2005-08-27 18:02:47.000         2  2021-03-06 15:55:57  \n",
            "16041  2005-08-25 02:48:48.000         2  2021-03-06 15:55:57  \n",
            "16042  2005-08-31 21:33:07.000         1  2021-03-06 15:55:57  \n",
            "16043  2005-08-30 01:01:12.000         2  2021-03-06 15:55:57  \n",
            "\n",
            "[16044 rows x 7 columns]\n"
          ]
        }
      ],
      "source": [
        "import pandas as pd\n",
        "import sqlite3\n",
        "conn = sqlite3.connect(\"/content/sqlite-sakila.db\")\n",
        "rental_df = pd.read_sql_query(\"SELECT * from rental\", conn)\n",
        "print(rental_df)"
      ]
    },
    {
      "cell_type": "code",
      "source": [
        "import pandas as pd\n",
        "import sqlite3\n",
        "# Veritabanına bağlantı kur\n",
        "conn =sqlite3.connect('/content/sqlite-sakila.db')\n",
        "# Gerekli tabloları pandas DataFrame olarak yükle\n",
        "film_df = pd.read_sql_query(\"SELECT * FROM film\", conn)\n",
        "film_actor_df = pd.read_sql_query(\"SELECT * FROM film_actor\", conn)\n",
        "actor_df = pd.read_sql_query(\"SELECT * FROM actor\", conn)\n",
        "# DataFrame'leri birleştir\n",
        "merged_df = pd.merge(film_df, film_actor_df, on='film_id')\n",
        "merged_df = pd.merge(merged_df, actor_df, on='actor_id')\n",
        "# İstenen sütunları seç\n",
        "result_df = merged_df[['title', 'first_name', 'last_name']]\n",
        "# Her filmde oynayan aktörleri göster\n",
        "print(result_df)"
      ],
      "metadata": {
        "colab": {
          "base_uri": "https://localhost:8080/"
        },
        "id": "dDGG86-8xP76",
        "outputId": "59132810-e099-4e98-a775-e9df0b74d44a"
      },
      "execution_count": null,
      "outputs": [
        {
          "output_type": "stream",
          "name": "stdout",
          "text": [
            "                  title first_name  last_name\n",
            "0      ACADEMY DINOSAUR   PENELOPE    GUINESS\n",
            "1      ACADEMY DINOSAUR  CHRISTIAN      GABLE\n",
            "2      ACADEMY DINOSAUR    LUCILLE      TRACY\n",
            "3      ACADEMY DINOSAUR     SANDRA       PECK\n",
            "4      ACADEMY DINOSAUR     JOHNNY       CAGE\n",
            "...                 ...        ...        ...\n",
            "5457  ZOOLANDER FICTION     WHOOPI       HURT\n",
            "5458  ZOOLANDER FICTION       JADA      RYDER\n",
            "5459          ZORRO ARK        IAN      TANDY\n",
            "5460          ZORRO ARK       NICK  DEGENERES\n",
            "5461          ZORRO ARK       LISA     MONROE\n",
            "\n",
            "[5462 rows x 3 columns]\n"
          ]
        }
      ]
    },
    {
      "cell_type": "markdown",
      "source": [
        "# **SORULAR**"
      ],
      "metadata": {
        "id": "CUPp-536x4iM"
      }
    },
    {
      "cell_type": "markdown",
      "source": [
        "**1. Soru : Tüm verileri göster  ==>  \" SQL: Select * from rental; \"**\n",
        "\n",
        "\n"
      ],
      "metadata": {
        "id": "NNg61CW9x9tK"
      }
    },
    {
      "cell_type": "code",
      "source": [
        "import sqlite3\n",
        "import pandas as pd\n",
        "\n",
        "\n",
        "conn = sqlite3.connect(\"/content/sqlite-sakila.db\")\n",
        "\n",
        "df = {}\n",
        "\n",
        "query = \"SELECT * FROM rental\"\n",
        "df['rental'] = pd.DataFrame(conn.execute(query).fetchall(), columns=[column[0] for column in conn.execute(query).description])\n",
        "\n",
        "conn.close()\n",
        "\n",
        "print(df['rental'])\n"
      ],
      "metadata": {
        "colab": {
          "base_uri": "https://localhost:8080/"
        },
        "id": "-hoAo6S7zN4i",
        "outputId": "08bd641d-f41f-449c-f10a-28caab300527"
      },
      "execution_count": null,
      "outputs": [
        {
          "output_type": "stream",
          "name": "stdout",
          "text": [
            "       rental_id              rental_date  inventory_id  customer_id  \\\n",
            "0              1  2005-05-24 22:53:30.000           367          130   \n",
            "1              2  2005-05-24 22:54:33.000          1525          459   \n",
            "2              3  2005-05-24 23:03:39.000          1711          408   \n",
            "3              4  2005-05-24 23:04:41.000          2452          333   \n",
            "4              5  2005-05-24 23:05:21.000          2079          222   \n",
            "...          ...                      ...           ...          ...   \n",
            "16039      16045  2005-08-23 22:25:26.000           772           14   \n",
            "16040      16046  2005-08-23 22:26:47.000          4364           74   \n",
            "16041      16047  2005-08-23 22:42:48.000          2088          114   \n",
            "16042      16048  2005-08-23 22:43:07.000          2019          103   \n",
            "16043      16049  2005-08-23 22:50:12.000          2666          393   \n",
            "\n",
            "                   return_date  staff_id          last_update  \n",
            "0      2005-05-26 22:04:30.000         1  2021-03-06 15:53:41  \n",
            "1      2005-05-28 19:40:33.000         1  2021-03-06 15:53:41  \n",
            "2      2005-06-01 22:12:39.000         1  2021-03-06 15:53:41  \n",
            "3      2005-06-03 01:43:41.000         2  2021-03-06 15:53:41  \n",
            "4      2005-06-02 04:33:21.000         1  2021-03-06 15:53:41  \n",
            "...                        ...       ...                  ...  \n",
            "16039  2005-08-25 23:54:26.000         1  2021-03-06 15:55:57  \n",
            "16040  2005-08-27 18:02:47.000         2  2021-03-06 15:55:57  \n",
            "16041  2005-08-25 02:48:48.000         2  2021-03-06 15:55:57  \n",
            "16042  2005-08-31 21:33:07.000         1  2021-03-06 15:55:57  \n",
            "16043  2005-08-30 01:01:12.000         2  2021-03-06 15:55:57  \n",
            "\n",
            "[16044 rows x 7 columns]\n"
          ]
        }
      ]
    },
    {
      "cell_type": "markdown",
      "source": [
        "**2. Soru : Her filmdeki oyuncuları listele  ==> \" SQL: SELECT film.title, actor.first_name, actor.last_name FROM film\n",
        "JOIN film actor ON film.film_id = film_actor.film_id JOIN actor ON film_actor.actor_id = actor.actor_id;\n",
        " \"**"
      ],
      "metadata": {
        "id": "d83gIQMuyvFI"
      }
    },
    {
      "cell_type": "code",
      "source": [
        "import pandas as pd\n",
        "import sqlite3\n",
        "\n",
        "\n",
        "conn = sqlite3.connect('sqlite-sakila.db')\n",
        "\n",
        "df = {}\n",
        "\n",
        "for table_name in ['film', 'actor', 'film_actor']:\n",
        "    query = f\"SELECT * FROM {table_name}\"\n",
        "    df[table_name] = pd.DataFrame(conn.execute(query).fetchall(), columns=[column[0] for column in conn.execute(query).description])\n",
        "\n",
        "film_actor_info = df['film'].merge(df['film_actor'], on='film_id', how='inner') \\\n",
        "                             .merge(df['actor'], on='actor_id', how='inner')\n",
        "\n",
        "result = film_actor_info[['title', 'first_name', 'last_name']]\n",
        "\n",
        "conn.close()\n",
        "\n",
        "print(result)\n"
      ],
      "metadata": {
        "colab": {
          "base_uri": "https://localhost:8080/"
        },
        "id": "bV_s4CkRd1Q6",
        "outputId": "03ef167a-5f1b-4f56-80a8-1f8ea4fd8409"
      },
      "execution_count": null,
      "outputs": [
        {
          "output_type": "stream",
          "name": "stdout",
          "text": [
            "                  title first_name  last_name\n",
            "0      ACADEMY DINOSAUR   PENELOPE    GUINESS\n",
            "1      ACADEMY DINOSAUR  CHRISTIAN      GABLE\n",
            "2      ACADEMY DINOSAUR    LUCILLE      TRACY\n",
            "3      ACADEMY DINOSAUR     SANDRA       PECK\n",
            "4      ACADEMY DINOSAUR     JOHNNY       CAGE\n",
            "...                 ...        ...        ...\n",
            "5457  ZOOLANDER FICTION     WHOOPI       HURT\n",
            "5458  ZOOLANDER FICTION       JADA      RYDER\n",
            "5459          ZORRO ARK        IAN      TANDY\n",
            "5460          ZORRO ARK       NICK  DEGENERES\n",
            "5461          ZORRO ARK       LISA     MONROE\n",
            "\n",
            "[5462 rows x 3 columns]\n"
          ]
        }
      ]
    },
    {
      "cell_type": "markdown",
      "source": [
        "**3. Soru : Her filmde kaç oyuncu oynadı?  ==> \" SQL: \"SELECT film.title, COUNT(actor.actor_id) AS actor_count FROM film\n",
        "JOIN film_actor ON film.film_id = film_actor.film_id\n",
        "JOIN actor ON film_actor.actor_id = actor.actor_id GROUP BY film.title; \"**"
      ],
      "metadata": {
        "id": "KOBh2IKH0UQo"
      }
    },
    {
      "cell_type": "code",
      "source": [
        "import pandas as pd\n",
        "import sqlite3\n",
        "\n",
        "conn = sqlite3.connect('sqlite-sakila.db')\n",
        "\n",
        "df = {}\n",
        "\n",
        "for table_name in ['film', 'actor', 'film_actor']:\n",
        "    query = f\"SELECT * FROM {table_name}\"\n",
        "    df[table_name] = pd.DataFrame(conn.execute(query).fetchall(), columns=[column[0] for column in conn.execute(query).description])\n",
        "\n",
        "film_actor_info = df['film'].merge(df['film_actor'], on='film_id', how='inner') \\\n",
        "                             .merge(df['actor'], on='actor_id', how='inner')\n",
        "\n",
        "actor_count = film_actor_info.groupby('title').size().reset_index(name='actor_count')\n",
        "\n",
        "result = actor_count\n",
        "\n",
        "conn.close()\n",
        "\n",
        "print(result)\n"
      ],
      "metadata": {
        "colab": {
          "base_uri": "https://localhost:8080/"
        },
        "id": "VtrcvDYu1EaL",
        "outputId": "14fedd12-1357-43e6-e85e-b7ac48c46eb5"
      },
      "execution_count": null,
      "outputs": [
        {
          "output_type": "stream",
          "name": "stdout",
          "text": [
            "                 title  actor_count\n",
            "0     ACADEMY DINOSAUR           10\n",
            "1       ACE GOLDFINGER            4\n",
            "2     ADAPTATION HOLES            5\n",
            "3     AFFAIR PREJUDICE            5\n",
            "4          AFRICAN EGG            5\n",
            "..                 ...          ...\n",
            "992     YOUNG LANGUAGE            5\n",
            "993         YOUTH KICK            5\n",
            "994       ZHIVAGO CORE            6\n",
            "995  ZOOLANDER FICTION            5\n",
            "996          ZORRO ARK            3\n",
            "\n",
            "[997 rows x 2 columns]\n"
          ]
        }
      ]
    },
    {
      "cell_type": "markdown",
      "source": [
        "**Soru 4: Her oyuncu kaç filmde oynadı?  ==>  \"SQL : SELECT actor.first_name, actor.last_name, COUNT(film.film_id) AS movie_count FROM actor\n",
        "JOIN film actor ON actor.actor_id = film_actor.actor_id\n",
        "JOIN film ON film actor.film_id = film.film_id\n",
        "GROUP BY actor.first_name, actor.last_name;  \"**"
      ],
      "metadata": {
        "id": "0KsY1eju1E4T"
      }
    },
    {
      "cell_type": "code",
      "source": [
        "import pandas as pd\n",
        "import sqlite3\n",
        "\n",
        "conn = sqlite3.connect('sqlite-sakila.db')\n",
        "\n",
        "df = {}\n",
        "\n",
        "for table_name in ['actor', 'film', 'film_actor']:\n",
        "    query = f\"SELECT * FROM {table_name}\"\n",
        "    df[table_name] = pd.DataFrame(conn.execute(query).fetchall(), columns=[column[0] for column in conn.execute(query).description])\n",
        "\n",
        "actor_film_info = df['actor'].merge(df['film_actor'], on='actor_id', how='inner') \\\n",
        "                             .merge(df['film'], on='film_id', how='inner')\n",
        "\n",
        "movie_count = actor_film_info.groupby(['first_name', 'last_name']).size().reset_index(name='movie_count')\n",
        "\n",
        "result = movie_count\n",
        "\n",
        "conn.close()\n",
        "\n",
        "print(result)\n"
      ],
      "metadata": {
        "colab": {
          "base_uri": "https://localhost:8080/"
        },
        "id": "_9R4kvv11lqL",
        "outputId": "07af6583-59c6-4e21-d684-efd4b450a099"
      },
      "execution_count": null,
      "outputs": [
        {
          "output_type": "stream",
          "name": "stdout",
          "text": [
            "    first_name  last_name  movie_count\n",
            "0         ADAM      GRANT           18\n",
            "1         ADAM     HOPPER           22\n",
            "2           AL    GARLAND           26\n",
            "3         ALAN   DREYFUSS           27\n",
            "4       ALBERT  JOHANSSON           33\n",
            "..         ...        ...          ...\n",
            "194       WILL     WILSON           31\n",
            "195    WILLIAM    HACKMAN           27\n",
            "196      WOODY    HOFFMAN           31\n",
            "197      WOODY      JOLIE           31\n",
            "198       ZERO       CAGE           25\n",
            "\n",
            "[199 rows x 3 columns]\n"
          ]
        }
      ]
    },
    {
      "cell_type": "markdown",
      "source": [
        "**Soru 5: Envanterde olmayan filmler var mı ve varsa kaç tane? ==> \" SQL:\n",
        "SELECT COUNT(*) AS not_in_inventory\n",
        "FROM film\n",
        "WHERE film_id NOT IN (SELECT film_id FROM inventory);\n",
        " \"**"
      ],
      "metadata": {
        "id": "RVmvpqlU1mI6"
      }
    },
    {
      "cell_type": "code",
      "source": [
        "import pandas as pd\n",
        "import sqlite3\n",
        "\n",
        "conn = sqlite3.connect('sqlite-sakila.db')\n",
        "\n",
        "df = {}\n",
        "\n",
        "for table_name in ['film', 'inventory']:\n",
        "    query = f\"SELECT * FROM {table_name}\"\n",
        "    df[table_name] = pd.DataFrame(conn.execute(query).fetchall(), columns=[column[0] for column in conn.execute(query).description])\n",
        "\n",
        "not_in_inventory_count = df['film'][~df['film']['film_id'].isin(df['inventory']['film_id'])].shape[0]\n",
        "result = pd.DataFrame({'not_in_inventory': [not_in_inventory_count]})\n",
        "\n",
        "conn.close()\n",
        "\n",
        "print(result)\n"
      ],
      "metadata": {
        "colab": {
          "base_uri": "https://localhost:8080/"
        },
        "id": "0NuU8MQQ1qEQ",
        "outputId": "cf0c1c85-2c6a-4f63-eb57-25c46a77e40b"
      },
      "execution_count": null,
      "outputs": [
        {
          "output_type": "stream",
          "name": "stdout",
          "text": [
            "   not_in_inventory\n",
            "0                42\n"
          ]
        }
      ]
    },
    {
      "cell_type": "markdown",
      "source": [
        "**Soru 6: Kiralanabilir olan her filmin kaç kez kiralandığını ve toplam gelirlerini getirin  ==> \" SQL:\n",
        "SELECT film.title, COUNT(rental.rental_id) AS rental_count, SUM(payment.amount) AS total_r\n",
        "FROM film\n",
        "JOIN inventory ON film.film_id = inventory.film_id\n",
        "JOIN rental ON inventory.inventory_id = rental.inventory_id\n",
        "JOIN payment ON rental.rental_id = payment.rental_id\n",
        "GROUP BY film.title;\n",
        ";\"**"
      ],
      "metadata": {
        "id": "hB5LaSkh1qWX"
      }
    },
    {
      "cell_type": "code",
      "source": [
        "import pandas as pd\n",
        "import sqlite3\n",
        "\n",
        "conn = sqlite3.connect('sqlite-sakila.db')\n",
        "\n",
        "df = {}\n",
        "\n",
        "for table_name in ['film', 'inventory', 'rental', 'payment']:\n",
        "    query = f\"SELECT * FROM {table_name}\"\n",
        "    df[table_name] = pd.DataFrame(conn.execute(query).fetchall(), columns=[column[0] for column in conn.execute(query).description])\n",
        "\n",
        "film_rental_info = df['film'] \\\n",
        "    .merge(df['inventory'], on='film_id', suffixes=('', '_inv')) \\\n",
        "    .merge(df['rental'], on='inventory_id', suffixes=('', '_rental')) \\\n",
        "    .merge(df['payment'], on='rental_id', suffixes=('', '_payment')) \\\n",
        "    .groupby('title').agg(\n",
        "        kiralama_sayisi=('rental_id', 'count'),\n",
        "        toplam_gelir=('amount', 'sum')\n",
        "    ).reset_index()\n",
        "\n",
        "conn.close()\n",
        "\n",
        "print(film_rental_info)\n"
      ],
      "metadata": {
        "colab": {
          "base_uri": "https://localhost:8080/"
        },
        "id": "g6sRsAOC2OGr",
        "outputId": "2185f2e7-df60-4c3f-f637-b919f63f2b06"
      },
      "execution_count": null,
      "outputs": [
        {
          "output_type": "stream",
          "name": "stdout",
          "text": [
            "                 title  kiralama_sayisi  toplam_gelir\n",
            "0     ACADEMY DINOSAUR               23         36.77\n",
            "1       ACE GOLDFINGER                7         52.93\n",
            "2     ADAPTATION HOLES               12         37.88\n",
            "3     AFFAIR PREJUDICE               23         91.77\n",
            "4          AFRICAN EGG               12         51.88\n",
            "..                 ...              ...           ...\n",
            "953     YOUNG LANGUAGE                7          6.93\n",
            "954         YOUTH KICK                6         16.94\n",
            "955       ZHIVAGO CORE                9         14.91\n",
            "956  ZOOLANDER FICTION               17         73.83\n",
            "957          ZORRO ARK               31        214.69\n",
            "\n",
            "[958 rows x 3 columns]\n"
          ]
        }
      ]
    },
    {
      "cell_type": "markdown",
      "source": [
        "**Soru 7: Envanterde olmayan filmlerin kira oranlarını getirin  ==>  \"SQL:\n",
        "SELECT title, rental_rate\n",
        "FROM film\n",
        "WHERE film_id NOT IN (SELECT film_id FROM inventory);\"**"
      ],
      "metadata": {
        "id": "ldJ6AGfa2P2W"
      }
    },
    {
      "cell_type": "code",
      "source": [
        "import pandas as pd\n",
        "import sqlite3\n",
        "\n",
        "conn = sqlite3.connect('sqlite-sakila.db')\n",
        "\n",
        "df = {}\n",
        "\n",
        "for table_name in ['film', 'inventory']:\n",
        "    query = f\"SELECT * FROM {table_name}\"\n",
        "    df[table_name] = pd.DataFrame(conn.execute(query).fetchall(), columns=[column[0] for column in conn.execute(query).description])\n",
        "\n",
        "film_not_in_inventory = df['film'][~df['film']['film_id'].isin(df['inventory']['film_id'])][['title', 'rental_rate']]\n",
        "\n",
        "film_not_in_inventory.columns = ['başlık', 'kiralama_tutarı']\n",
        "\n",
        "conn.close()\n",
        "\n",
        "print(film_not_in_inventory)\n"
      ],
      "metadata": {
        "colab": {
          "base_uri": "https://localhost:8080/"
        },
        "id": "D-tX7C8a8zeM",
        "outputId": "26ae377d-9aee-4d52-bb7f-4c780c9aa8ea"
      },
      "execution_count": null,
      "outputs": [
        {
          "output_type": "stream",
          "name": "stdout",
          "text": [
            "                     başlık  kiralama_tutarı\n",
            "13           ALICE FANTASIA             0.99\n",
            "32              APOLLO TEEN             2.99\n",
            "35           ARGONAUTS TOWN             0.99\n",
            "37            ARK RIDGEMONT             0.99\n",
            "40     ARSENIC INDEPENDENCE             0.99\n",
            "86        BOONDOCK BALLROOM             0.99\n",
            "107           BUTCH PANTHER             0.99\n",
            "127           CATCH AMISTAD             0.99\n",
            "143     CHINATOWN GLADIATOR             4.99\n",
            "147          CHOCOLATE DUCK             2.99\n",
            "170    COMMANDMENTS EXPRESS             4.99\n",
            "191        CROSSING DIVORCE             4.99\n",
            "194         CROWDS TELEMARK             4.99\n",
            "197        CRYSTAL BREAKING             2.99\n",
            "216              DAZED PUNK             4.99\n",
            "220  DELIVERANCE MULHOLLAND             0.99\n",
            "317       FIREHOUSE VIETNAM             0.99\n",
            "324           FLOATS GARDEN             2.99\n",
            "331   FRANKENSTEIN STRANGER             0.99\n",
            "358      GLADIATOR WESTWARD             4.99\n",
            "385               GUMP DATE             4.99\n",
            "403           HATE HANDICAP             0.99\n",
            "418             HOCUS FRIDA             2.99\n",
            "494        KENTUCKIAN GIANT             2.99\n",
            "496        KILL BROTHERHOOD             0.99\n",
            "606             MUPPET MILE             4.99\n",
            "641          ORDER BETRAYED             2.99\n",
            "668           PEARL DESTINY             2.99\n",
            "670         PERDITION FARGO             4.99\n",
            "700           PSYCHO SHRUNK             2.99\n",
            "711       RAIDERS ANTITRUST             0.99\n",
            "712           RAINBOW SHOCK             4.99\n",
            "741           ROOF CHAMPION             0.99\n",
            "800           SISTER FREDDY             4.99\n",
            "801             SKY MIRACLE             2.99\n",
            "859        SUICIDES SILENCE             4.99\n",
            "873            TADPOLE PARK             2.99\n",
            "908        TREASURE COMMAND             0.99\n",
            "942       VILLAIN DESPERATE             4.99\n",
            "949            VOLUME HOUSE             4.99\n",
            "953               WAKE JAWS             4.99\n",
            "954            WALLS ARTIST             4.99\n"
          ]
        }
      ]
    },
    {
      "cell_type": "markdown",
      "source": [
        "**Soru 8: Birden fazla DVD'yi iade etmeyen kaç müşteri var?  ==>  \"SQL: SELECT COUNT(DISTINCT customer_id) AS customer_count\n",
        "FROM rental\n",
        "WHERE return_date IS NULL\n",
        "GROUP BY customer_id  \"**"
      ],
      "metadata": {
        "id": "L419kGDt2XEN"
      }
    },
    {
      "cell_type": "code",
      "source": [
        "import pandas as pd\n",
        "import sqlite3\n",
        "\n",
        "conn = sqlite3.connect('sqlite-sakila.db')\n",
        "\n",
        "df = {}\n",
        "\n",
        "for table_name in ['rental']:\n",
        "    query = f\"SELECT * FROM {table_name}\"\n",
        "    df[table_name] = pd.DataFrame(conn.execute(query).fetchall(), columns=[column[0] for column in conn.execute(query).description])\n",
        "\n",
        "musteri_sayisi = df['rental'] \\\n",
        "    .query('return_date.isnull()', engine='python') \\\n",
        "    .customer_id.nunique()\n",
        "\n",
        "sonuc = pd.DataFrame({'musteri_sayisi': [musteri_sayisi]})\n",
        "\n",
        "conn.close()\n",
        "\n",
        "print(sonuc)\n"
      ],
      "metadata": {
        "colab": {
          "base_uri": "https://localhost:8080/"
        },
        "id": "UhOHfUo08z5j",
        "outputId": "1dac7cac-d844-4945-b9b7-33941f38d479"
      },
      "execution_count": null,
      "outputs": [
        {
          "output_type": "stream",
          "name": "stdout",
          "text": [
            "   musteri_sayisi\n",
            "0             159\n"
          ]
        }
      ]
    },
    {
      "cell_type": "markdown",
      "source": [
        "**Soru 9: Her müşteri kaç film kiraladı?  ==>  \"SQL:  SELECT customer.first_name, customer.last_name, COUNT(rental.rental_id) AS rental_count FROM customer\n",
        "JOIN rental ON customer.customer_id = rental.customer_id\n",
        "GROUP BY customer.first_name, customer.last_name; \"**"
      ],
      "metadata": {
        "id": "d0iVNcb32Xos"
      }
    },
    {
      "cell_type": "code",
      "source": [
        "import pandas as pd\n",
        "import sqlite3\n",
        "\n",
        "conn = sqlite3.connect('sqlite-sakila.db')\n",
        "\n",
        "df = {}\n",
        "\n",
        "for table_name in ['customer', 'rental']:\n",
        "    query = f\"SELECT * FROM {table_name}\"\n",
        "    df[table_name] = pd.DataFrame(conn.execute(query).fetchall(), columns=[column[0] for column in conn.execute(query).description])\n",
        "\n",
        "kiralama_sayilari = df['customer'] \\\n",
        "    .merge(df['rental'], on='customer_id', how='left') \\\n",
        "    .groupby(['first_name', 'last_name']).agg(\n",
        "        kiralama_sayisi=('rental_id', 'count')\n",
        "    ).reset_index()\n",
        "\n",
        "conn.close()\n",
        "\n",
        "print(kiralama_sayilari)\n"
      ],
      "metadata": {
        "colab": {
          "base_uri": "https://localhost:8080/"
        },
        "id": "GqTBbKk-9qlA",
        "outputId": "eb99c40a-4258-4087-8ceb-c75a8c43e578"
      },
      "execution_count": null,
      "outputs": [
        {
          "output_type": "stream",
          "name": "stdout",
          "text": [
            "    first_name last_name  kiralama_sayisi\n",
            "0        AARON     SELBY               24\n",
            "1         ADAM     GOOCH               22\n",
            "2       ADRIAN     CLARY               19\n",
            "3        AGNES    BISHOP               23\n",
            "4         ALAN      KAHN               26\n",
            "..         ...       ...              ...\n",
            "594     WILLIE   MARKHAM               25\n",
            "595      WILMA  RICHARDS               20\n",
            "596    YOLANDA    WEAVER               27\n",
            "597     YVONNE   WATKINS               21\n",
            "598    ZACHARY      HITE               31\n",
            "\n",
            "[599 rows x 3 columns]\n"
          ]
        }
      ]
    },
    {
      "cell_type": "markdown",
      "source": [
        "**Soru 10: Türlerine göre en çok kiralanan filmler ve bunlara ne kadar ödendi?  ==>  \"SQL:  SELECT film.title AS film_title,\n",
        "       category.name AS genre,\n",
        "       COUNT(rental.rental_id) AS rental_count,\n",
        "       SUM(payment.amount) AS total_revenue\n",
        "FROM film\n",
        "JOIN film_category ON film.film_id = film_category.film_id\n",
        "JOIN category ON film_category.category_id = category.category_id\n",
        "JOIN inventory ON film.film_id = inventory.film_id\n",
        "JOIN rental ON inventory.inventory_id = rental.inventory_id\n",
        "JOIN payment ON rental.rental_id = payment.rental_id\n",
        "GROUP BY film.title, category.name\n",
        "ORDER BY rental_count DESC; \"**"
      ],
      "metadata": {
        "id": "DH1A78a32YCG"
      }
    },
    {
      "cell_type": "code",
      "source": [
        "import pandas as pd\n",
        "import sqlite3\n",
        "\n",
        "conn = sqlite3.connect('sqlite-sakila.db')\n",
        "\n",
        "df = {}\n",
        "\n",
        "for table_name in ['film', 'film_category', 'category', 'inventory', 'rental', 'payment']:\n",
        "    query = f\"SELECT * FROM {table_name}\"\n",
        "    df[table_name] = pd.DataFrame(conn.execute(query).fetchall(), columns=[column[0] for column in conn.execute(query).description])\n",
        "\n",
        "film_kiralama_geliri = df['film'] \\\n",
        "    .merge(df['film_category'], on='film_id', suffixes=('', '_cat')) \\\n",
        "    .merge(df['category'], on='category_id', suffixes=('', '_cat2')) \\\n",
        "    .merge(df['inventory'], on='film_id', suffixes=('', '_inv')) \\\n",
        "    .merge(df['rental'], on='inventory_id', suffixes=('', '_rental')) \\\n",
        "    .merge(df['payment'], on='rental_id', suffixes=('', '_payment')) \\\n",
        "    .groupby(['title', 'name']).agg(\n",
        "        kiralama_sayisi=('rental_id', 'count'),\n",
        "        toplam_gelir=('amount', 'sum')\n",
        "    ).reset_index().sort_values(by='kiralama_sayisi', ascending=False)\n",
        "\n",
        "conn.close()\n",
        "\n",
        "print(film_kiralama_geliri)\n"
      ],
      "metadata": {
        "colab": {
          "base_uri": "https://localhost:8080/"
        },
        "id": "ujSbfw7RfE9u",
        "outputId": "327f5de5-9272-4213-feec-9de4e85f5a02"
      },
      "execution_count": null,
      "outputs": [
        {
          "output_type": "stream",
          "name": "stdout",
          "text": [
            "                   title         name  kiralama_sayisi  toplam_gelir\n",
            "96    BUCKET BROTHERHOOD       Travel               34        180.66\n",
            "705     ROCKETEER MOTHER      Foreign               33        116.67\n",
            "697  RIDGEMONT SUBMARINE          New               32        130.68\n",
            "361       GRIT CLOCKWORK        Games               32        110.68\n",
            "465       JUGGLER HARDLY    Animation               32         96.68\n",
            "..                   ...          ...              ...           ...\n",
            "323      FULL FLATLINERS     Children                5         16.95\n",
            "87      BRAVEHEART HUMAN       Family                5         16.95\n",
            "378       HARDLY ROBBERS  Documentary                4         15.96\n",
            "558          MIXED DOORS      Foreign                4         15.96\n",
            "866          TRAIN BUNCH       Horror                4         24.96\n",
            "\n",
            "[958 rows x 4 columns]\n"
          ]
        }
      ]
    },
    {
      "cell_type": "markdown",
      "source": [
        "**Soru 11: Tür ve Tarihe Göre Kiralama Sayısı ve Gelir  ==>  \"SQL:  SELECT category.name AS genre,\n",
        "       DATE(rental.rental_date) AS rental_date,\n",
        "       COUNT(rental.rental_id) AS rental_count,\n",
        "       SUM(payment.amount) AS total_revenue\n",
        "FROM category\n",
        "JOIN film_category ON category.category_id = film_category.category_id\n",
        "JOIN film ON film_category.film_id = film.film_id\n",
        "JOIN inventory ON film.film_id = inventory.film_id\n",
        "JOIN rental ON inventory.inventory_id = rental.inventory_id\n",
        "JOIN payment ON rental.rental_id = payment.rental_id\n",
        "GROUP BY genre, rental_date\n",
        "ORDER BY rental_date; \" \"**"
      ],
      "metadata": {
        "id": "xQ6athdG2Yaw"
      }
    },
    {
      "cell_type": "code",
      "source": [
        "import pandas as pd\n",
        "import sqlite3\n",
        "\n",
        "# Veritabanı bağlantısı\n",
        "conn = sqlite3.connect('sqlite-sakila.db')\n",
        "\n",
        "# Tabloları veritabanından çekme\n",
        "df = {}\n",
        "for table_name in ['category', 'film_category', 'film', 'inventory', 'rental', 'payment']:\n",
        "    query = f\"SELECT * FROM {table_name}\"\n",
        "    df[table_name] = pd.DataFrame(conn.execute(query).fetchall(),\n",
        "                                  columns=[column[0] for column in conn.execute(query).description])\n",
        "\n",
        "# Kiralama tarihine göre gelir hesaplama\n",
        "kiralama_tarihi_gelir = df['category'] \\\n",
        "    .merge(df['film_category'], on='category_id', suffixes=('', '_cat')) \\\n",
        "    .merge(df['film'], on='film_id', suffixes=('', '_film')) \\\n",
        "    .merge(df['inventory'], on='film_id', suffixes=('', '_inv')) \\\n",
        "    .merge(df['rental'], on='inventory_id', suffixes=('', '_rental')) \\\n",
        "    .merge(df['payment'], on='rental_id', suffixes=('', '_payment')) \\\n",
        "    .assign(rental_date=lambda x: pd.to_datetime(x['rental_date'])) \\\n",
        "    .groupby(['name', 'rental_date']).agg(\n",
        "        kiralama_sayisi=('rental_id', 'count'),\n",
        "        toplam_gelir=('amount', 'sum')\n",
        "    ).reset_index().sort_values(by='rental_date')\n",
        "\n",
        "conn.close()\n",
        "\n",
        "print(kiralama_tarihi_gelir)"
      ],
      "metadata": {
        "colab": {
          "base_uri": "https://localhost:8080/"
        },
        "id": "UAJ9uQXEfHza",
        "outputId": "f0535ac8-ead2-4176-d70e-41f0a12fcd9c"
      },
      "execution_count": null,
      "outputs": [
        {
          "output_type": "stream",
          "name": "stdout",
          "text": [
            "              name         rental_date  kiralama_sayisi  toplam_gelir\n",
            "7142        Family 2005-05-24 22:53:30                1          2.99\n",
            "11039        Music 2005-05-24 22:54:33                1          2.99\n",
            "2241      Children 2005-05-24 23:03:39                1          3.99\n",
            "10205       Horror 2005-05-24 23:04:41                1          4.99\n",
            "2242      Children 2005-05-24 23:05:21                1          6.99\n",
            "...            ...                 ...              ...           ...\n",
            "6088   Documentary 2006-02-14 15:16:03                6          7.96\n",
            "1095        Action 2006-02-14 15:16:03               17         55.80\n",
            "11038       Horror 2006-02-14 15:16:03               12         33.88\n",
            "12786          New 2006-02-14 15:16:03               13         30.89\n",
            "15872       Travel 2006-02-14 15:16:03               10         30.91\n",
            "\n",
            "[15873 rows x 4 columns]\n"
          ]
        }
      ]
    },
    {
      "cell_type": "markdown",
      "source": [
        "**Soru 12: Kiralanabilir Filmler İçin Türlerine Göre Her Filmin Kaç Kez Kiralandığı\n",
        "  ==>  \"SQL:  \n",
        "SELECT category.name AS genre, film.title, COUNT(rental.rental_id) AS rental_count FROM category\n",
        "JOIN film_category ON category.category_id\n",
        "=\n",
        "film_category.category_id\n",
        "JOIN film ON film_category.film_id = film.film_id\n",
        "JOIN inventory ON film.film_id = inventory.film_id\n",
        "JOIN rental ON inventory.inventory_id = rental.inventory_id GROUP BY genre, film.title; \"**"
      ],
      "metadata": {
        "id": "w4EJIEjl2Y3k"
      }
    },
    {
      "cell_type": "code",
      "source": [
        "import pandas as pd\n",
        "import sqlite3\n",
        "\n",
        "conn = sqlite3.connect('sqlite-sakila.db')\n",
        "\n",
        "df = {}\n",
        "\n",
        "for table_name in ['category', 'film_category', 'film', 'inventory', 'rental']:\n",
        "    query = f\"SELECT * FROM {table_name}\"\n",
        "    df[table_name] = pd.DataFrame(conn.execute(query).fetchall(), columns=[column[0] for column in conn.execute(query).description])\n",
        "\n",
        "\n",
        "film_kiralama_sayilari = df['category'] \\\n",
        "    .merge(df['film_category'], on='category_id', suffixes=('', '_cat')) \\\n",
        "    .merge(df['film'], on='film_id', suffixes=('', '_film')) \\\n",
        "    .merge(df['inventory'], on='film_id', suffixes=('', '_inv')) \\\n",
        "    .merge(df['rental'], on='inventory_id', suffixes=('', '_rental')) \\\n",
        "    .groupby(['name', 'title']).agg(\n",
        "        kiralama_sayisi=('rental_id', 'count')\n",
        "    ).reset_index()\n",
        "\n",
        "conn.close()\n",
        "\n",
        "print(film_kiralama_sayilari)\n"
      ],
      "metadata": {
        "colab": {
          "base_uri": "https://localhost:8080/"
        },
        "id": "6_w9SC9yfMLG",
        "outputId": "f294010e-0b00-41d8-c8b4-f8d268b66a07"
      },
      "execution_count": null,
      "outputs": [
        {
          "output_type": "stream",
          "name": "stdout",
          "text": [
            "       name                title  kiralama_sayisi\n",
            "0    Action         AMADEUS HOLY               21\n",
            "1    Action      AMERICAN CIRCUS               22\n",
            "2    Action   ANTITRUST TOMATOES               10\n",
            "3    Action  BAREFOOT MANCHURIAN               18\n",
            "4    Action         BERETS AGENT               21\n",
            "..      ...                  ...              ...\n",
            "953  Travel  VALENTINE VANISHING               12\n",
            "954  Travel          WINDOW SIDE               12\n",
            "955  Travel        WOLVES DESIRE               21\n",
            "956  Travel        WORKER TARZAN               15\n",
            "957  Travel  WORKING MICROCOSMOS               25\n",
            "\n",
            "[958 rows x 3 columns]\n"
          ]
        }
      ]
    },
    {
      "cell_type": "markdown",
      "source": [
        "**Soru 13: En çok rafta bekleyen filmler  ==>  \"SQL:\n",
        "SELECT film.title,\n",
        "       CAST(JULIANDAY('now') - JULIANDAY(rental.rental_date) AS INTEGER) AS days_on_shelf\n",
        "FROM film\n",
        "JOIN inventory ON film.film_id = inventory.film_id\n",
        "JOIN rental ON inventory.inventory_id = rental.inventory_id\n",
        "WHERE rental.return_date IS NULL\n",
        "ORDER BY days_on_shelf DESC;\n",
        "\"**"
      ],
      "metadata": {
        "id": "NCa7hICy2ZRR"
      }
    },
    {
      "cell_type": "code",
      "source": [
        "import pandas as pd\n",
        "import sqlite3\n",
        "\n",
        "conn = sqlite3.connect('sqlite-sakila.db')\n",
        "\n",
        "df = {}\n",
        "\n",
        "for table_name in ['film', 'inventory', 'rental']:\n",
        "    query = f\"SELECT * FROM {table_name}\"\n",
        "    df[table_name] = pd.DataFrame(conn.execute(query).fetchall(), columns=[column[0] for column in conn.execute(query).description])\n",
        "\n",
        "rafta_bekleyen_filmler = df['film'] \\\n",
        "    .merge(df['inventory'], on='film_id') \\\n",
        "    .merge(df['rental'], on='inventory_id', how='left') \\\n",
        "    .query('return_date.isnull()') \\\n",
        "    .assign(gun_sayisi=lambda x: (pd.to_datetime('now') - pd.to_datetime(x['rental_date'])).dt.days) \\\n",
        "    .sort_values(by='gun_sayisi', ascending=False)\n",
        "\n",
        "conn.close()\n",
        "\n",
        "print(rafta_bekleyen_filmler[['title', 'gun_sayisi']])\n"
      ],
      "metadata": {
        "colab": {
          "base_uri": "https://localhost:8080/"
        },
        "id": "wDn6FWPDfPC6",
        "outputId": "d878ac29-2528-4399-fb46-92d3dab14d46"
      },
      "execution_count": null,
      "outputs": [
        {
          "output_type": "stream",
          "name": "stdout",
          "text": [
            "                       title  gun_sayisi\n",
            "17          ACADEMY DINOSAUR      7003.0\n",
            "9692         MUMMY CREATURES      6825.0\n",
            "10017           NONE SPIKING      6825.0\n",
            "10188    OPERATION OPERATION      6825.0\n",
            "10224      OPPOSITE NECKLACE      6825.0\n",
            "...                      ...         ...\n",
            "5030        FIGHT JAWBREAKER      6825.0\n",
            "5211             FLYING HOOK      6825.0\n",
            "5292   FORRESTER COMANCHEROS      6825.0\n",
            "15996           ZHIVAGO CORE      6825.0\n",
            "12          ACADEMY DINOSAUR         NaN\n",
            "\n",
            "[184 rows x 2 columns]\n"
          ]
        }
      ]
    },
    {
      "cell_type": "markdown",
      "source": [
        "**Soru 14: Geç, Erken ve Zamanında İade Edilen Kiralanmış Filmler ==>  \"SQL:\n",
        "SELECT\n",
        "    SUM(CASE WHEN return_date > DATE(rental_date, '+7 days') THEN 1 ELSE 0 END) AS late_returns,\n",
        "    SUM(CASE WHEN return_date < DATE(rental_date, '+7 days') THEN 1 ELSE 0 END) AS early_returns,\n",
        "    SUM(CASE WHEN return_date = DATE(rental_date, '+7 days') THEN 1 ELSE 0 END) AS on_time_returns\n",
        "FROM rental;\n",
        "\"**"
      ],
      "metadata": {
        "id": "8e1KOfOQ2ZpF"
      }
    },
    {
      "cell_type": "code",
      "source": [
        "import pandas as pd\n",
        "import sqlite3\n",
        "\n",
        "conn = sqlite3.connect('sqlite-sakila.db')\n",
        "\n",
        "df = {}\n",
        "\n",
        "for table_name in ['rental']:\n",
        "    query = f\"SELECT * FROM {table_name}\"\n",
        "    df[table_name] = pd.DataFrame(conn.execute(query).fetchall(), columns=[column[0] for column in conn.execute(query).description])\n",
        "\n",
        "rental_data = df['rental']\n",
        "\n",
        "rental_data['rental_date'] = pd.to_datetime(rental_data['rental_date'])\n",
        "rental_data['return_date'] = pd.to_datetime(rental_data['return_date'])\n",
        "\n",
        "gecikmeli_iadeler = rental_data[rental_data['return_date'] > (rental_data['rental_date'] + pd.Timedelta(days=7))].shape[0]\n",
        "erken_iadeler = rental_data[rental_data['return_date'] < (rental_data['rental_date'] + pd.Timedelta(days=7))].shape[0]\n",
        "zamanda_iadeler = rental_data[rental_data['return_date'] == (rental_data['rental_date'] + pd.Timedelta(days=7))].shape[0]\n",
        "\n",
        "print(f\"Gecikmeli iadeler: {gecikmeli_iadeler}\")\n",
        "print(f\"Erken iadeler: {erken_iadeler}\")\n",
        "print(f\"Zamanında iadeler: {zamanda_iadeler}\")\n",
        "\n",
        "conn.close()\n"
      ],
      "metadata": {
        "colab": {
          "base_uri": "https://localhost:8080/"
        },
        "id": "2r5Xi6spfRm2",
        "outputId": "105ba7e0-822b-4d4f-c31c-0dfaf92d1581"
      },
      "execution_count": null,
      "outputs": [
        {
          "output_type": "stream",
          "name": "stdout",
          "text": [
            "Gecikmeli iadeler: 4494\n",
            "Erken iadeler: 11364\n",
            "Zamanında iadeler: 3\n"
          ]
        }
      ]
    },
    {
      "cell_type": "markdown",
      "source": [
        "**Soru 15: Hangi müşteri en çok DVD kiralamış?  ==>  \"SQL: SELECT customer.first_name,\n",
        "       customer.last_name,\n",
        "       COUNT(rental.rental_id) AS rental_count\n",
        "FROM customer\n",
        "JOIN rental ON customer.customer_id = rental.customer_id\n",
        "GROUP BY customer.first_name, customer.last_name\n",
        "ORDER BY rental_count DESC\n",
        "LIMIT 1;\n",
        " \"**"
      ],
      "metadata": {
        "id": "bkv_kE8u2aSE"
      }
    },
    {
      "cell_type": "code",
      "source": [
        "import pandas as pd\n",
        "import sqlite3\n",
        "\n",
        "conn = sqlite3.connect('sqlite-sakila.db')\n",
        "\n",
        "df = {}\n",
        "\n",
        "for table_name in ['customer', 'rental', 'inventory']:\n",
        "    query = f\"SELECT * FROM {table_name}\"\n",
        "    df[table_name] = pd.DataFrame(conn.execute(query).fetchall(), columns=[column[0] for column in conn.execute(query).description])\n",
        "\n",
        "en_cok_dvd_kiralayan = df['customer'] \\\n",
        "    .merge(df['rental'], on='customer_id', how='left') \\\n",
        "    .merge(df['inventory'], on='inventory_id') \\\n",
        "    .groupby(['first_name', 'last_name']).agg(\n",
        "        kiralama_sayisi=('rental_id', 'count')\n",
        "    ).reset_index() \\\n",
        "    .sort_values(by='kiralama_sayisi', ascending=False).head(1)\n",
        "\n",
        "conn.close()\n",
        "\n",
        "print(en_cok_dvd_kiralayan)\n"
      ],
      "metadata": {
        "colab": {
          "base_uri": "https://localhost:8080/"
        },
        "id": "EGUMakaefUdC",
        "outputId": "c1f8624f-5087-4eca-b18d-ce73eb8c82ea"
      },
      "execution_count": null,
      "outputs": [
        {
          "output_type": "stream",
          "name": "stdout",
          "text": [
            "    first_name last_name  kiralama_sayisi\n",
            "175    ELEANOR      HUNT               46\n"
          ]
        }
      ]
    },
    {
      "cell_type": "markdown",
      "source": [
        "**Soru 16: En popüler film kategorisi nedir?  ==>  \"SQL:\n",
        "SELECT category.name, COUNT(rental.rental_id) AS rental_count\n",
        "FROM category\n",
        "JOIN film_category ON category.category_id = film_category.category_id\n",
        "JOIN film ON film_category.film_id = film.film_id\n",
        "JOIN inventory ON film.film_id = inventory.film_id\n",
        "JOIN rental ON inventory.inventory_id = rental.inventory_id\n",
        "GROUP BY category.name\n",
        "ORDER BY rental_count DESC\n",
        "LIMIT 1; \"**"
      ],
      "metadata": {
        "id": "X1dm727W2ani"
      }
    },
    {
      "cell_type": "code",
      "source": [
        "import pandas as pd\n",
        "import sqlite3\n",
        "\n",
        "conn = sqlite3.connect('sqlite-sakila.db')\n",
        "\n",
        "df = {}\n",
        "\n",
        "for table_name in ['category', 'film_category', 'film', 'inventory', 'rental']:\n",
        "    query = f\"SELECT * FROM {table_name}\"\n",
        "    df[table_name] = pd.DataFrame(conn.execute(query).fetchall(), columns=[column[0] for column in conn.execute(query).description])\n",
        "\n",
        "populer_kategori = df['category'] \\\n",
        "    .merge(df['film_category'], on='category_id', suffixes=('_category', '_film_category')) \\\n",
        "    .merge(df['film'], on='film_id', suffixes=('_film_category', '_film')) \\\n",
        "    .merge(df['inventory'], on='film_id', suffixes=('_film', '_inventory')) \\\n",
        "    .merge(df['rental'], on='inventory_id', suffixes=('_inventory', '_rental')) \\\n",
        "    .groupby('name').agg(\n",
        "        kiralama_sayisi=('rental_id', 'count')\n",
        "    ).reset_index() \\\n",
        "    .sort_values(by='kiralama_sayisi', ascending=False).head(1)\n",
        "\n",
        "conn.close()\n",
        "\n",
        "print(populer_kategori)\n"
      ],
      "metadata": {
        "colab": {
          "base_uri": "https://localhost:8080/"
        },
        "id": "EwuhNhnRfWv9",
        "outputId": "7dc07aa9-65cc-4543-e1fa-198ea8bc627c"
      },
      "execution_count": null,
      "outputs": [
        {
          "output_type": "stream",
          "name": "stdout",
          "text": [
            "      name  kiralama_sayisi\n",
            "14  Sports             1179\n"
          ]
        }
      ]
    },
    {
      "cell_type": "markdown",
      "source": [
        "**Soru 17: Hangi çalışan en çok kiralama işlemi gerçekleştirmiş?  ==>  \"SQL:  SELECT staff.first_name,\n",
        "       staff.last_name,\n",
        "       COUNT(rental.rental_id) AS rental_count\n",
        "FROM staff\n",
        "JOIN rental ON staff.staff_id = rental.staff_id\n",
        "GROUP BY staff.first_name, staff.last_name\n",
        "ORDER BY rental_count DESC\n",
        "LIMIT 1;\n",
        " \"**"
      ],
      "metadata": {
        "id": "11zYZyUe2a9N"
      }
    },
    {
      "cell_type": "code",
      "source": [
        "import pandas as pd\n",
        "import sqlite3\n",
        "\n",
        "conn = sqlite3.connect('sqlite-sakila.db')\n",
        "\n",
        "df = {}\n",
        "\n",
        "for table_name in ['staff', 'rental']:\n",
        "    query = f\"SELECT * FROM {table_name}\"\n",
        "    df[table_name] = pd.DataFrame(conn.execute(query).fetchall(), columns=[column[0] for column in conn.execute(query).description])\n",
        "\n",
        "en_cok_kiralama_yapan = df['staff'] \\\n",
        "    .merge(df['rental'], on='staff_id', how='left') \\\n",
        "    .groupby(['first_name', 'last_name']).agg(\n",
        "        kiralama_sayisi=('rental_id', 'count')\n",
        "    ).reset_index() \\\n",
        "    .sort_values(by='kiralama_sayisi', ascending=False).head(1)\n",
        "\n",
        "conn.close()\n",
        "\n",
        "print(en_cok_kiralama_yapan)\n"
      ],
      "metadata": {
        "colab": {
          "base_uri": "https://localhost:8080/"
        },
        "id": "d6pbSqbRfZOK",
        "outputId": "b46f3c83-cc8e-4c97-c0e0-839190183190"
      },
      "execution_count": null,
      "outputs": [
        {
          "output_type": "stream",
          "name": "stdout",
          "text": [
            "  first_name last_name  kiralama_sayisi\n",
            "1       Mike   Hillyer             8040\n"
          ]
        }
      ]
    },
    {
      "cell_type": "markdown",
      "source": [
        "**Soru 18: En çok geliri hangi film getirmiş?  ==>  \"SQL:\n",
        "SELECT film.title, SUM(payment.amount) AS total_revenue\n",
        "FROM film\n",
        "JOIN inventory ON film.film_id = inventory.film_id\n",
        "JOIN rental ON inventory.inventory_id = rental.inventory_id JOIN payment ON rental.rental_id = payment.rental_id\n",
        "GROUP BY film.title\n",
        "ORDER BY total_revenue DESC\n",
        "LIMIT 1;  \"**"
      ],
      "metadata": {
        "id": "wiHxpnQY2bSN"
      }
    },
    {
      "cell_type": "code",
      "source": [
        "import pandas as pd\n",
        "import sqlite3\n",
        "\n",
        "conn = sqlite3.connect('sqlite-sakila.db')\n",
        "\n",
        "df = {}\n",
        "for table_name in ['film', 'inventory', 'rental', 'payment']:\n",
        "    query = f\"SELECT * FROM {table_name}\"\n",
        "    df[table_name] = pd.DataFrame(conn.execute(query).fetchall(), columns=[column[0] for column in conn.execute(query).description])\n",
        "\n",
        "en_cok_gelir_film = df['film'] \\\n",
        "    .merge(df['inventory'], on='film_id', suffixes=('', '_inventory')) \\\n",
        "    .merge(df['rental'], on='inventory_id', suffixes=('', '_rental')) \\\n",
        "    .merge(df['payment'], on='rental_id', suffixes=('', '_payment')) \\\n",
        "    .groupby('title').agg(toplam_gelir=('amount', 'sum')) \\\n",
        "    .reset_index() \\\n",
        "    .sort_values(by='toplam_gelir', ascending=False) \\\n",
        "    .head(1)\n",
        "\n",
        "conn.close()\n",
        "\n",
        "print(en_cok_gelir_film)\n"
      ],
      "metadata": {
        "colab": {
          "base_uri": "https://localhost:8080/"
        },
        "id": "2Xb9siXKhKKi",
        "outputId": "14fc1ee0-75a6-4c90-d82c-7ff91474edbc"
      },
      "execution_count": null,
      "outputs": [
        {
          "output_type": "stream",
          "name": "stdout",
          "text": [
            "                title  toplam_gelir\n",
            "841  TELEGRAPH VOYAGE        231.73\n"
          ]
        }
      ]
    },
    {
      "cell_type": "markdown",
      "source": [
        "**Soru 19: Her müşteri için toplam harcama miktarını bulun  ==>  \"SQL: SELECT\n",
        "    customer.first_name AS musteri_ad,\n",
        "    customer.last_name AS musteri_soyad,\n",
        "    SUM(payment.amount) AS toplam_harcama\n",
        "FROM\n",
        "    customer\n",
        "JOIN\n",
        "    rental ON customer.customer_id = rental.customer_id\n",
        "JOIN\n",
        "    payment ON rental.rental_id = payment.rental_id\n",
        "GROUP BY\n",
        "    customer.first_name,\n",
        "    customer.last_name;\n",
        " \"**"
      ],
      "metadata": {
        "id": "aLcJcOjU2bo3"
      }
    },
    {
      "cell_type": "code",
      "source": [
        "import pandas as pd\n",
        "import sqlite3\n",
        "\n",
        "conn = sqlite3.connect('sqlite-sakila.db')\n",
        "\n",
        "df = {}\n",
        "for table_name in ['customer', 'rental', 'payment']:\n",
        "    query = f\"SELECT * FROM {table_name}\"\n",
        "    df[table_name] = pd.DataFrame(conn.execute(query).fetchall(), columns=[column[0] for column in conn.execute(query).description])\n",
        "\n",
        "toplam_harcama = df['customer'] \\\n",
        "    .merge(df['rental'], on='customer_id') \\\n",
        "    .merge(df['payment'], on='rental_id') \\\n",
        "    .groupby(['first_name', 'last_name']).agg(toplam_harcama=('amount', 'sum')) \\\n",
        "    .reset_index()\n",
        "\n",
        "conn.close()\n",
        "\n",
        "print(toplam_harcama)\n"
      ],
      "metadata": {
        "colab": {
          "base_uri": "https://localhost:8080/"
        },
        "id": "swFflXdhhNBK",
        "outputId": "3aa19175-fad2-4a46-85f6-4c1f627bd2cf"
      },
      "execution_count": null,
      "outputs": [
        {
          "output_type": "stream",
          "name": "stdout",
          "text": [
            "    first_name last_name  toplam_harcama\n",
            "0        AARON     SELBY          110.76\n",
            "1         ADAM     GOOCH          101.78\n",
            "2       ADRIAN     CLARY           74.81\n",
            "3        AGNES    BISHOP           98.77\n",
            "4         ALAN      KAHN          124.74\n",
            "..         ...       ...             ...\n",
            "594     WILLIE   MARKHAM          101.75\n",
            "595      WILMA  RICHARDS           91.80\n",
            "596    YOLANDA    WEAVER          110.73\n",
            "597     YVONNE   WATKINS           92.79\n",
            "598    ZACHARY      HITE          146.69\n",
            "\n",
            "[599 rows x 3 columns]\n"
          ]
        }
      ]
    },
    {
      "cell_type": "markdown",
      "source": [
        "**Soru 20: Her kategorideki toplam kiralama sayısını ve gelirleri bulun  ==>  \"SQL: SELECT\n",
        "    category.name AS category_name,\n",
        "    COUNT(rental.rental_id) AS rental_count,\n",
        "    SUM(payment.amount) AS total_payment\n",
        "FROM\n",
        "    category\n",
        "JOIN\n",
        "    film_category ON category.category_id = film_category.category_id\n",
        "JOIN\n",
        "    film ON film_category.film_id = film.film_id\n",
        "JOIN\n",
        "    inventory ON film.film_id = inventory.film_id\n",
        "JOIN\n",
        "    rental ON inventory.inventory_id = rental.inventory_id\n",
        "JOIN\n",
        "    payment ON rental.rental_id = payment.rental_id\n",
        "GROUP BY\n",
        "    category.name;\n",
        " \"**"
      ],
      "metadata": {
        "id": "Cjn6QcQx2b-o"
      }
    },
    {
      "cell_type": "code",
      "source": [
        "import pandas as pd\n",
        "import sqlite3\n",
        "\n",
        "conn = sqlite3.connect('sqlite-sakila.db')\n",
        "\n",
        "df = {}\n",
        "for table_name in ['category', 'film_category', 'film', 'inventory', 'rental', 'payment']:\n",
        "    query = f\"SELECT * FROM {table_name}\"\n",
        "    df[table_name] = pd.DataFrame(conn.execute(query).fetchall(), columns=[column[0] for column in conn.execute(query).description])\n",
        "\n",
        "kategori_kiralama = df['category'] \\\n",
        "    .merge(df['film_category'], on='category_id', suffixes=('', '_film_category')) \\\n",
        "    .merge(df['film'], on='film_id', suffixes=('', '_film')) \\\n",
        "    .merge(df['inventory'], on='film_id', suffixes=('', '_inventory')) \\\n",
        "    .merge(df['rental'], on='inventory_id', suffixes=('', '_rental')) \\\n",
        "    .merge(df['payment'], on='rental_id', suffixes=('', '_payment')) \\\n",
        "    .groupby('name').agg(\n",
        "        kiralama_sayisi=('rental_id', 'count'),\n",
        "        toplam_gelir=('amount', 'sum')\n",
        "    ).reset_index()\n",
        "\n",
        "conn.close()\n",
        "\n",
        "print(kategori_kiralama)\n"
      ],
      "metadata": {
        "colab": {
          "base_uri": "https://localhost:8080/"
        },
        "id": "nLrFpw3jhPQS",
        "outputId": "712ab16b-61d8-45d2-91d9-dc84cdb4b9bb"
      },
      "execution_count": null,
      "outputs": [
        {
          "output_type": "stream",
          "name": "stdout",
          "text": [
            "           name  kiralama_sayisi  toplam_gelir\n",
            "0        Action             1112       4375.85\n",
            "1     Animation             1166       4656.30\n",
            "2      Children              945       3655.55\n",
            "3      Classics              939       3639.59\n",
            "4        Comedy              941       4383.58\n",
            "5   Documentary             1050       4217.52\n",
            "6         Drama             1060       4587.39\n",
            "7        Family             1096       4226.07\n",
            "8       Foreign             1033       4270.67\n",
            "9         Games              969       4281.33\n",
            "10       Horror              846       3722.54\n",
            "11        Music              830       3417.72\n",
            "12          New              940       4351.62\n",
            "13       Sci-Fi             1101       4756.98\n",
            "14       Sports             1179       5314.21\n",
            "15       Travel              837       3549.64\n"
          ]
        }
      ]
    },
    {
      "cell_type": "markdown",
      "source": [
        "**Soru 21: En uzun süre kirada kalmış filmleri bulun  ==>  \"SQL:  SELECT\n",
        "    film.title,\n",
        "    MAX(julianday(rental.return_date) - julianday(rental.rental_date)) AS max_rental_duration\n",
        "FROM\n",
        "    film\n",
        "JOIN\n",
        "    inventory ON film.film_id = inventory.film_id\n",
        "JOIN\n",
        "    rental ON inventory.inventory_id = rental.inventory_id\n",
        "WHERE\n",
        "    rental.return_date IS NOT NULL\n",
        "GROUP BY\n",
        "    film.title\n",
        "ORDER BY\n",
        "    max_rental_duration DESC\n",
        "LIMIT 10;\n",
        " \"**"
      ],
      "metadata": {
        "id": "zBF56guH2cVu"
      }
    },
    {
      "cell_type": "code",
      "source": [
        "import pandas as pd\n",
        "import sqlite3\n",
        "\n",
        "# SQLite bağlantısını oluştur\n",
        "conn = sqlite3.connect('sqlite-sakila.db')\n",
        "\n",
        "# Tabloları df sözlüğüne yükle\n",
        "df = {}\n",
        "for table_name in ['film', 'inventory', 'rental']:\n",
        "    query = f\"SELECT * FROM {table_name}\"\n",
        "    df[table_name] = pd.DataFrame(conn.execute(query).fetchall(), columns=[column[0] for column in conn.execute(query).description])\n",
        "\n",
        "# Gerekli join işlemlerini yaparak maksimum kiralama süresi sorgusunu oluştur\n",
        "film_kiralama = df['film'] \\\n",
        "    .merge(df['inventory'], on='film_id', suffixes=('', '_inventory')) \\\n",
        "    .merge(df['rental'], on='inventory_id', suffixes=('', '_rental')) \\\n",
        "    .query(\"return_date.notnull()\") \\\n",
        "    .assign(kiralama_suresi=lambda x: (pd.to_datetime(x['return_date']) - pd.to_datetime(x['rental_date'])).dt.total_seconds() / 86400) \\\n",
        "    .groupby('title').agg(\n",
        "        max_kiralama_suresi=('kiralama_suresi', 'max')\n",
        "    ).reset_index()\n",
        "\n",
        "# En uzun kiralamaları al\n",
        "film_kiralama = film_kiralama.sort_values(by='max_kiralama_suresi', ascending=False).head(10)\n",
        "\n",
        "# Veritabanı bağlantısını kapat\n",
        "conn.close()\n",
        "\n",
        "print(film_kiralama)\n"
      ],
      "metadata": {
        "colab": {
          "base_uri": "https://localhost:8080/"
        },
        "id": "ImwjvULKhq-r",
        "outputId": "bd38cb60-efa0-4f09-ed6b-c99b308d8a4a"
      },
      "execution_count": null,
      "outputs": [
        {
          "output_type": "stream",
          "name": "stdout",
          "text": [
            "                  title  max_kiralama_suresi\n",
            "400  HOLOCAUST HIGHBALL             9.249306\n",
            "393     HIGHBALL POTTER             9.249306\n",
            "160   CONEHEADS SMOOCHY             9.248611\n",
            "625          PANIC CLUB             9.248611\n",
            "535          MASK PEACH             9.248611\n",
            "868        TRAMP OTHERS             9.248611\n",
            "602   NOTORIOUS REUNION             9.247222\n",
            "38         ATTACKS HATE             9.247222\n",
            "863         TRACY CIDER             9.246528\n",
            "461        JERSEY SASSY             9.246528\n"
          ]
        }
      ]
    },
    {
      "cell_type": "markdown",
      "source": [
        "**Soru 22: En az kiralanan 5 film hangileridir?  ==>  \"SQL:\n",
        "SELECT film.title, COUNT(rental.rental_id) AS rental_count FROM film\n",
        "JOIN inventory ON film.film_id = inventory.film_id\n",
        "JOIN rental ON inventory.inventory_id = rental.inventory_id GROUP BY film.title\n",
        "ORDER BY rental_count ASC\n",
        "LIMIT 5;\"**"
      ],
      "metadata": {
        "id": "fsWwtjdE2cwK"
      }
    },
    {
      "cell_type": "code",
      "source": [
        "import pandas as pd\n",
        "import sqlite3\n",
        "\n",
        "conn = sqlite3.connect('sqlite-sakila.db')\n",
        "\n",
        "df = {}\n",
        "for table_name in ['film', 'inventory', 'rental']:\n",
        "    query = f\"SELECT * FROM {table_name}\"\n",
        "    df[table_name] = pd.DataFrame(conn.execute(query).fetchall(), columns=[column[0] for column in conn.execute(query).description])\n",
        "\n",
        "en_az_kiralanan_filmler = df['film'] \\\n",
        "    .merge(df['inventory'], on='film_id') \\\n",
        "    .merge(df['rental'], on='inventory_id') \\\n",
        "    .groupby('title').agg(kiralama_sayisi=('rental_id', 'count')) \\\n",
        "    .reset_index() \\\n",
        "    .sort_values(by='kiralama_sayisi') \\\n",
        "    .head(5)\n",
        "\n",
        "conn.close()\n",
        "\n",
        "print(en_az_kiralanan_filmler)\n"
      ],
      "metadata": {
        "colab": {
          "base_uri": "https://localhost:8080/"
        },
        "id": "1h3RGYMMhz-O",
        "outputId": "5cd10a01-1533-4dec-81e1-6541d6a0a114"
      },
      "execution_count": null,
      "outputs": [
        {
          "output_type": "stream",
          "name": "stdout",
          "text": [
            "                  title  kiralama_sayisi\n",
            "558         MIXED DOORS                4\n",
            "866         TRAIN BUNCH                4\n",
            "378      HARDLY ROBBERS                4\n",
            "585  MUSSOLINI SPOILERS                5\n",
            "315   FREEDOM CLEOPATRA                5\n"
          ]
        }
      ]
    },
    {
      "cell_type": "markdown",
      "source": [
        "**Soru 24: En fazla kazanç sağlayan 5 müşteriyi bulun  ==>  \"SQL: SELECT\n",
        "    customer.first_name,\n",
        "    customer.last_name,\n",
        "    SUM(payment.amount) AS total_spent\n",
        "FROM\n",
        "    customer\n",
        "JOIN\n",
        "    rental ON customer.customer_id = rental.customer_id\n",
        "JOIN\n",
        "    payment ON rental.rental_id = payment.rental_id\n",
        "GROUP BY\n",
        "    customer.first_name, customer.last_name\n",
        "ORDER BY\n",
        "    total_spent DESC\n",
        "LIMIT 5;\n",
        " \"**"
      ],
      "metadata": {
        "id": "CIpo_-Bf2dFO"
      }
    },
    {
      "cell_type": "code",
      "source": [
        "import pandas as pd\n",
        "import sqlite3\n",
        "\n",
        "conn = sqlite3.connect('sqlite-sakila.db')\n",
        "\n",
        "df = {}\n",
        "for table_name in ['customer', 'rental', 'payment']:\n",
        "    query = f\"SELECT * FROM {table_name}\"\n",
        "    df[table_name] = pd.DataFrame(conn.execute(query).fetchall(), columns=[column[0] for column in conn.execute(query).description])\n",
        "\n",
        "en_fazla_kazanc_musteri = df['customer'] \\\n",
        "    .merge(df['rental'], on='customer_id') \\\n",
        "    .merge(df['payment'], on='rental_id') \\\n",
        "    .groupby(['first_name', 'last_name']).agg(toplam_harcama=('amount', 'sum')) \\\n",
        "    .reset_index() \\\n",
        "    .sort_values(by='toplam_harcama', ascending=False) \\\n",
        "    .head(5)\n",
        "\n",
        "conn.close()\n",
        "\n",
        "print(en_fazla_kazanc_musteri)\n"
      ],
      "metadata": {
        "colab": {
          "base_uri": "https://localhost:8080/"
        },
        "id": "LQuCz5OTh3nh",
        "outputId": "0b5aedcf-7946-4eda-ea03-828bd70105df"
      },
      "execution_count": null,
      "outputs": [
        {
          "output_type": "stream",
          "name": "stdout",
          "text": [
            "    first_name last_name  toplam_harcama\n",
            "318       KARL      SEAL          221.55\n",
            "175    ELEANOR      HUNT          216.54\n",
            "105      CLARA      SHAW          195.58\n",
            "474     RHONDA   KENNEDY          194.61\n",
            "389     MARION    SNYDER          194.61\n"
          ]
        }
      ]
    },
    {
      "cell_type": "markdown",
      "source": [
        "**Soru 25: Her filmin ortalama kiralanma süresini bulun  ==>  \"SQL: SELECT\n",
        "    film.title,\n",
        "    AVG(julianday(rental.return_date) - julianday(rental.rental_date)) AS avg_rental_duration\n",
        "FROM\n",
        "    film\n",
        "JOIN\n",
        "    inventory ON film.film_id = inventory.film_id\n",
        "JOIN\n",
        "    rental ON inventory.inventory_id = rental.inventory_id\n",
        "WHERE\n",
        "    rental.return_date IS NOT NULL\n",
        "GROUP BY\n",
        "    film.title;\n",
        " \"**"
      ],
      "metadata": {
        "id": "RMTNy7QW2dZJ"
      }
    },
    {
      "cell_type": "code",
      "source": [
        "import pandas as pd\n",
        "import sqlite3\n",
        "\n",
        "# SQLite bağlantısını oluştur\n",
        "conn = sqlite3.connect('sqlite-sakila.db')\n",
        "\n",
        "# Tabloları df sözlüğüne yükle\n",
        "df = {}\n",
        "for table_name in ['film', 'inventory', 'rental']:\n",
        "    query = f\"SELECT * FROM {table_name}\"\n",
        "    df[table_name] = pd.DataFrame(conn.execute(query).fetchall(),\n",
        "                                  columns=[column[0] for column in conn.execute(query).description])\n",
        "\n",
        "# Gerekli join işlemlerini yaparak ortalama kiralama süresi sorgusunu oluştur\n",
        "ortalama_kiralama_suresi = df['film'] \\\n",
        "    .merge(df['inventory'], on='film_id') \\\n",
        "    .merge(df['rental'], on='inventory_id') \\\n",
        "    .query(\"return_date.notnull()\") \\\n",
        "    .assign(kiralama_suresi=lambda x: (pd.to_datetime(x['return_date']) - pd.to_datetime(x['rental_date'])).dt.total_seconds() / 86400) \\\n",
        "    .groupby('title').agg(avg_rental_duration=('kiralama_suresi', 'mean')) \\\n",
        "    .reset_index()\n",
        "\n",
        "# Veritabanı bağlantısını kapat\n",
        "conn.close()\n",
        "\n",
        "print(ortalama_kiralama_suresi)\n"
      ],
      "metadata": {
        "colab": {
          "base_uri": "https://localhost:8080/"
        },
        "id": "ovn4UAH6iGUG",
        "outputId": "e047ee37-e610-4e50-8b6c-35b60280bc77"
      },
      "execution_count": null,
      "outputs": [
        {
          "output_type": "stream",
          "name": "stdout",
          "text": [
            "                 title  avg_rental_duration\n",
            "0     ACADEMY DINOSAUR             4.997128\n",
            "1       ACE GOLDFINGER             5.642708\n",
            "2     ADAPTATION HOLES             3.465625\n",
            "3     AFFAIR PREJUDICE             4.758333\n",
            "4          AFRICAN EGG             7.106629\n",
            "..                 ...                  ...\n",
            "953     YOUNG LANGUAGE             4.624405\n",
            "954         YOUTH KICK             5.562963\n",
            "955       ZHIVAGO CORE             5.950087\n",
            "956  ZOOLANDER FICTION             5.542647\n",
            "957          ZORRO ARK             4.539180\n",
            "\n",
            "[958 rows x 2 columns]\n"
          ]
        }
      ]
    },
    {
      "cell_type": "markdown",
      "source": [
        "**Soru 26: Her türde en popüler filmi bulun ==>  \"SQL: SELECT\n",
        "    category.name AS genre,\n",
        "    film.title,\n",
        "    COUNT(rental.rental_id) AS rental_count\n",
        "FROM\n",
        "    category\n",
        "JOIN\n",
        "    film_category ON category.category_id = film_category.category_id\n",
        "JOIN\n",
        "    film ON film_category.film_id = film.film_id\n",
        "JOIN\n",
        "    inventory ON film.film_id = inventory.film_id\n",
        "JOIN\n",
        "    rental ON inventory.inventory_id = rental.inventory_id\n",
        "GROUP BY\n",
        "    genre, film.title\n",
        "ORDER BY\n",
        "    rental_count DESC\n",
        "LIMIT 1;\n",
        " \"**"
      ],
      "metadata": {
        "id": "Ca0G2FCy2duP"
      }
    },
    {
      "cell_type": "code",
      "source": [
        "import pandas as pd\n",
        "import sqlite3\n",
        "\n",
        "conn = sqlite3.connect('sqlite-sakila.db')\n",
        "\n",
        "df = {}\n",
        "for table_name in ['category', 'film_category', 'film', 'inventory', 'rental']:\n",
        "    query = f\"SELECT * FROM {table_name}\"\n",
        "    df[table_name] = pd.DataFrame(conn.execute(query).fetchall(),\n",
        "                                  columns=[column[0] for column in conn.execute(query).description])\n",
        "\n",
        "populer_film = df['category'] \\\n",
        "    .merge(df['film_category'], on='category_id', suffixes=('', '_film_category')) \\\n",
        "    .merge(df['film'], on='film_id', suffixes=('', '_film')) \\\n",
        "    .merge(df['inventory'], on='film_id', suffixes=('', '_inventory')) \\\n",
        "    .merge(df['rental'], on='inventory_id', suffixes=('', '_rental')) \\\n",
        "    .groupby(['name', 'title']).agg(\n",
        "        rental_count=('rental_id', 'count')\n",
        "    ).reset_index() \\\n",
        "    .rename(columns={'name': 'genre'}) \\\n",
        "    .sort_values(by='rental_count', ascending=False) \\\n",
        "    .head(1)\n",
        "\n",
        "conn.close()\n",
        "\n",
        "print(populer_film)\n"
      ],
      "metadata": {
        "colab": {
          "base_uri": "https://localhost:8080/"
        },
        "id": "tFGwWls8iI-d",
        "outputId": "6eab43ce-a392-4cee-87f4-8c303e15ea84"
      },
      "execution_count": null,
      "outputs": [
        {
          "output_type": "stream",
          "name": "stdout",
          "text": [
            "      genre               title  rental_count\n",
            "909  Travel  BUCKET BROTHERHOOD            34\n"
          ]
        }
      ]
    },
    {
      "cell_type": "markdown",
      "source": [
        "**Soru 27: Her türde en fazla gelir sağlayan filmi bulun  ==>  \"SQL: SELECT\n",
        "    category.name AS genre,\n",
        "    film.title,\n",
        "    SUM(payment.amount) AS total_revenue\n",
        "FROM\n",
        "    category\n",
        "JOIN\n",
        "    film_category ON category.category_id = film_category.category_id\n",
        "JOIN\n",
        "    film ON film_category.film_id = film.film_id\n",
        "JOIN\n",
        "    inventory ON film.film_id = inventory.film_id\n",
        "JOIN\n",
        "    rental ON inventory.inventory_id = rental.inventory_id\n",
        "JOIN\n",
        "    payment ON rental.rental_id = payment.rental_id\n",
        "GROUP BY\n",
        "    genre, film.title\n",
        "ORDER BY\n",
        "    total_revenue DESC\n",
        "LIMIT 1;\n",
        " \"**"
      ],
      "metadata": {
        "id": "t2BiHEqf4Lhj"
      }
    },
    {
      "cell_type": "code",
      "source": [
        "import pandas as pd\n",
        "import sqlite3\n",
        "\n",
        "# SQLite bağlantısını oluştur\n",
        "conn = sqlite3.connect('sqlite-sakila.db')\n",
        "\n",
        "# Tabloları df sözlüğüne yükle\n",
        "df = {}\n",
        "for table_name in ['category', 'film_category', 'film', 'inventory', 'rental', 'payment']:\n",
        "    query = f\"SELECT * FROM {table_name}\"\n",
        "    df[table_name] = pd.DataFrame(conn.execute(query).fetchall(),\n",
        "                                  columns=[column[0] for column in conn.execute(query).description])\n",
        "\n",
        "# Gerekli join işlemlerini yaparak en yüksek toplam gelire sahip filmi ve türünü bul\n",
        "en_yuksek_gelir_film = df['category'] \\\n",
        "    .merge(df['film_category'], on='category_id', suffixes=('_category', '_film_category')) \\\n",
        "    .merge(df['film'], on='film_id', suffixes=('', '_film')) \\\n",
        "    .merge(df['inventory'], on='film_id', suffixes=('', '_inventory')) \\\n",
        "    .merge(df['rental'], on='inventory_id', suffixes=('', '_rental')) \\\n",
        "    .merge(df['payment'], on='rental_id', suffixes=('', '_payment')) \\\n",
        "    .groupby(['name', 'title']).agg(\n",
        "        total_revenue=('amount', 'sum')\n",
        "    ).reset_index() \\\n",
        "    .rename(columns={'name': 'genre'}) \\\n",
        "    .sort_values(by='total_revenue', ascending=False) \\\n",
        "    .head(1)\n",
        "\n",
        "# Veritabanı bağlantısını kapat\n",
        "conn.close()\n",
        "\n",
        "print(en_yuksek_gelir_film)\n"
      ],
      "metadata": {
        "colab": {
          "base_uri": "https://localhost:8080/"
        },
        "id": "1RN1gOCribXZ",
        "outputId": "0b1a506d-2671-4503-ba60-12d6c1e075c8"
      },
      "execution_count": null,
      "outputs": [
        {
          "output_type": "stream",
          "name": "stdout",
          "text": [
            "     genre             title  total_revenue\n",
            "705  Music  TELEGRAPH VOYAGE         231.73\n"
          ]
        }
      ]
    },
    {
      "cell_type": "markdown",
      "source": [
        "**Soru 28: En çok DVD iade etmeyen müşteriyi bulun  ==>  \"SQL: SELECT\n",
        "    customer.first_name,\n",
        "    customer.last_name,\n",
        "    COUNT(rental.rental_id) AS unreturned_count\n",
        "FROM\n",
        "    customer\n",
        "JOIN\n",
        "    rental ON customer.customer_id = rental.customer_id\n",
        "WHERE\n",
        "    rental.return_date IS NULL\n",
        "GROUP BY\n",
        "    customer.first_name, customer.last_name\n",
        "ORDER BY\n",
        "    unreturned_count DESC\n",
        "LIMIT 1;**"
      ],
      "metadata": {
        "id": "3D8p4sCf4MCs"
      }
    },
    {
      "cell_type": "code",
      "source": [
        "import pandas as pd\n",
        "import sqlite3\n",
        "\n",
        "conn = sqlite3.connect('sqlite-sakila.db')\n",
        "\n",
        "df = {}\n",
        "for table_name in ['customer', 'rental']:\n",
        "    query = f\"SELECT * FROM {table_name}\"\n",
        "    df[table_name] = pd.DataFrame(conn.execute(query).fetchall(),\n",
        "                                  columns=[column[0] for column in conn.execute(query).description])\n",
        "\n",
        "en_cok_dvd_iade_etmeyen_musteri = df['customer'] \\\n",
        "    .merge(df['rental'], on='customer_id') \\\n",
        "    .query(\"return_date.isnull()\") \\\n",
        "    .groupby(['first_name', 'last_name']).agg(unreturned_count=('rental_id', 'count')) \\\n",
        "    .reset_index() \\\n",
        "    .sort_values(by='unreturned_count', ascending=False) \\\n",
        "    .head(1)\n",
        "\n",
        "conn.close()\n",
        "\n",
        "print(\"En Çok DVD İade Etmeyen Müşteri:\")\n",
        "print(en_cok_dvd_iade_etmeyen_musteri)"
      ],
      "metadata": {
        "colab": {
          "base_uri": "https://localhost:8080/"
        },
        "id": "SkSQzJUIin0l",
        "outputId": "8f72ef62-c0a9-43b0-ca80-c6bb8c42d4fc"
      },
      "execution_count": null,
      "outputs": [
        {
          "output_type": "stream",
          "name": "stdout",
          "text": [
            "En Çok DVD İade Etmeyen Müşteri:\n",
            "    first_name last_name  unreturned_count\n",
            "144      TAMMY   SANDERS                 3\n"
          ]
        }
      ]
    },
    {
      "cell_type": "markdown",
      "source": [
        "**Soru 29: En fazla kiralama yapan 5 çalışanı bulun  ==>  \"SQL: SELECT\n",
        "    staff.first_name,\n",
        "    staff.last_name,\n",
        "    COUNT(rental.rental_id) AS rental_count\n",
        "FROM\n",
        "    staff\n",
        "JOIN\n",
        "    rental ON staff.staff_id = rental.staff_id\n",
        "GROUP BY\n",
        "    staff.first_name, staff.last_name\n",
        "ORDER BY\n",
        "    rental_count DESC\n",
        "LIMIT 5;\n",
        "\"**"
      ],
      "metadata": {
        "id": "hWwvfpMP4MfQ"
      }
    },
    {
      "cell_type": "code",
      "source": [
        "import pandas as pd\n",
        "import sqlite3\n",
        "\n",
        "conn = sqlite3.connect('sqlite-sakila.db')\n",
        "\n",
        "df = {}\n",
        "for table_name in ['staff', 'rental']:\n",
        "    query = f\"SELECT * FROM {table_name}\"\n",
        "    df[table_name] = pd.DataFrame(conn.execute(query).fetchall(), columns=[column[0] for column in conn.execute(query).description])\n",
        "\n",
        "en_fazla_kiralama_yapan_calisan = df['staff'] \\\n",
        "    .merge(df['rental'], on='staff_id') \\\n",
        "    .groupby(['first_name', 'last_name']).agg(kiralama_sayisi=('rental_id', 'count')) \\\n",
        "    .reset_index() \\\n",
        "    .sort_values(by='kiralama_sayisi', ascending=False) \\\n",
        "    .head(5)\n",
        "\n",
        "conn.close()\n",
        "\n",
        "print(en_fazla_kiralama_yapan_calisan)\n"
      ],
      "metadata": {
        "colab": {
          "base_uri": "https://localhost:8080/"
        },
        "id": "Ed6Ovfqmiq4y",
        "outputId": "c6ee60d6-92e3-429e-fb3a-1d16d924be6b"
      },
      "execution_count": null,
      "outputs": [
        {
          "output_type": "stream",
          "name": "stdout",
          "text": [
            "  first_name last_name  kiralama_sayisi\n",
            "1       Mike   Hillyer             8040\n",
            "0        Jon  Stephens             8004\n"
          ]
        }
      ]
    },
    {
      "cell_type": "markdown",
      "source": [
        "**Soru 30: En fazla kiralama yapan 5 müşteri hangi şubeden kiralama yapmış?  ==>  \"SQL:  SELECT\n",
        "    store.store_id,\n",
        "    customer.first_name,\n",
        "    customer.last_name,\n",
        "    COUNT(rental.rental_id) AS rental_count\n",
        "FROM\n",
        "    customer\n",
        "JOIN\n",
        "    rental ON customer.customer_id = rental.customer_id\n",
        "JOIN\n",
        "    inventory ON rental.inventory_id = inventory.inventory_id\n",
        "JOIN\n",
        "    store ON inventory.store_id = store.store_id\n",
        "GROUP BY\n",
        "    store.store_id, customer.first_name, customer.last_name\n",
        "ORDER BY\n",
        "    rental_count DESC\n",
        "LIMIT 5;\n",
        " \"**"
      ],
      "metadata": {
        "id": "25pgsYWC4NPR"
      }
    },
    {
      "cell_type": "code",
      "source": [
        "import pandas as pd\n",
        "import sqlite3\n",
        "\n",
        "# SQLite bağlantısını oluştur\n",
        "conn = sqlite3.connect('sqlite-sakila.db')\n",
        "\n",
        "# Tabloları df sözlüğüne yükle\n",
        "df = {}\n",
        "for table_name in ['customer', 'rental', 'inventory', 'store']:\n",
        "    query = f\"SELECT * FROM {table_name}\"\n",
        "    df[table_name] = pd.DataFrame(conn.execute(query).fetchall(),\n",
        "                                  columns=[column[0] for column in conn.execute(query).description])\n",
        "    print(f\"{table_name} DataFrame:\\n\", df[table_name].head(), \"\\n\")  # Her DataFrame'in başını yazdır\n",
        "\n",
        "# Gerekli join işlemlerini yaparak her bir müşteri için kiralama sayısını hesapla\n",
        "en_cok_kiralayan_musteriler = df['customer'] \\\n",
        "    .merge(df['rental'], on='customer_id') \\\n",
        "    .merge(df['inventory'], on='inventory_id') \\\n",
        "    # The 'store_id' is in the inventory table, so we should merge based on that first\n",
        "    .merge(df['store'], on='store_id') \\ # This line was indented too much, causing the error.\n",
        "    .groupby(['store_id', 'first_name', 'last_name']).agg(\n",
        "        rental_count=('rental_id', 'count')\n",
        "    ).reset_index() \\\n",
        "    .sort_values(by='rental_count', ascending=False) \\\n",
        "    .head(5)\n",
        "\n",
        "# Veritabanı bağlantısını kapat\n",
        "conn.close()\n",
        "\n",
        "print(en_cok_kiralayan_musteriler)"
      ],
      "metadata": {
        "colab": {
          "base_uri": "https://localhost:8080/",
          "height": 106
        },
        "id": "tqUaNHwyjNCJ",
        "outputId": "9f76a3d4-e908-4736-dbde-3170fd0d1085"
      },
      "execution_count": null,
      "outputs": [
        {
          "output_type": "error",
          "ename": "IndentationError",
          "evalue": "unexpected indent (<ipython-input-26-c0d51baa95e5>, line 20)",
          "traceback": [
            "\u001b[0;36m  File \u001b[0;32m\"<ipython-input-26-c0d51baa95e5>\"\u001b[0;36m, line \u001b[0;32m20\u001b[0m\n\u001b[0;31m    .merge(df['store'], on='store_id') \\ # This line was indented too much, causing the error.\u001b[0m\n\u001b[0m    ^\u001b[0m\n\u001b[0;31mIndentationError\u001b[0m\u001b[0;31m:\u001b[0m unexpected indent\n"
          ]
        }
      ]
    },
    {
      "cell_type": "markdown",
      "source": [
        "**Soru 31: Her türde en az kiralanan filmi bulun  ==>  \"SQL: SELECT\n",
        "    category.name AS genre,\n",
        "    film.title,\n",
        "    COUNT(rental.rental_id) AS rental_count\n",
        "FROM\n",
        "    category\n",
        "JOIN\n",
        "    film_category ON category.category_id = film_category.category_id\n",
        "JOIN\n",
        "    film ON film_category.film_id = film.film_id\n",
        "JOIN\n",
        "    inventory ON film.film_id = inventory.film_id\n",
        "JOIN\n",
        "    rental ON inventory.inventory_id = rental.inventory_id\n",
        "GROUP BY\n",
        "    genre, film.title\n",
        "ORDER BY\n",
        "    rental_count ASC\n",
        "LIMIT 1;\n",
        " \"**"
      ],
      "metadata": {
        "id": "SqtN7MZH4OiL"
      }
    },
    {
      "cell_type": "code",
      "source": [
        "import pandas as pd\n",
        "import sqlite3\n",
        "\n",
        "conn = sqlite3.connect('sqlite-sakila.db')\n",
        "\n",
        "df = {}\n",
        "for table_name in ['category', 'film_category', 'film', 'inventory', 'rental']:\n",
        "    query = f\"SELECT * FROM {table_name}\"\n",
        "    df[table_name] = pd.DataFrame(conn.execute(query).fetchall(), columns=[column[0] for column in conn.execute(query).description])\n",
        "\n",
        "en_az_kiralanan_film = df['category'] \\\n",
        "    .merge(df['film_category'], on='category_id') \\\n",
        "    .merge(df['film'], on='film_id') \\\n",
        "    .merge(df['inventory'], on='film_id', suffixes=('', '_inventory')) \\\n",
        "    .merge(df['rental'], on='inventory_id', suffixes=('', '_rental')) \\\n",
        "    .groupby(['name', 'title']).agg(kiralama_sayisi=('rental_id', 'count')) \\\n",
        "    .reset_index() \\\n",
        "    .sort_values(by='kiralama_sayisi', ascending=True) \\\n",
        "    .head(1) \\\n",
        "    .rename(columns={'name': 'kategori', 'title': 'film_adı', 'kiralama_sayısı': 'kiralama_sayısı'})\n",
        "\n",
        "conn.close()\n",
        "\n",
        "print(\"Her Türde En Az Kiralanan Film:\")\n",
        "print(en_az_kiralanan_film)\n"
      ],
      "metadata": {
        "colab": {
          "base_uri": "https://localhost:8080/"
        },
        "id": "ur7qXxJnjwse",
        "outputId": "134dbdc1-2be2-4310-d921-fe05c2be8163"
      },
      "execution_count": null,
      "outputs": [
        {
          "output_type": "stream",
          "name": "stdout",
          "text": [
            "Her Türde En Az Kiralanan Film:\n",
            "        kategori        film_adı  kiralama_sayisi\n",
            "315  Documentary  HARDLY ROBBERS                4\n"
          ]
        }
      ]
    },
    {
      "cell_type": "markdown",
      "source": [
        "**Soru 32: En çok kiralama yapan 5 müşteri hangi şehirde?  ==>  \"SQL: SELECT\n",
        "    city.city,\n",
        "    customer.first_name,\n",
        "    customer.last_name,\n",
        "    COUNT(rental.rental_id) AS rental_count\n",
        "FROM\n",
        "    customer\n",
        "JOIN\n",
        "    address ON customer.address_id = address.address_id\n",
        "JOIN\n",
        "    city ON address.city_id = city.city_id\n",
        "JOIN\n",
        "    rental ON customer.customer_id = rental.customer_id\n",
        "GROUP BY\n",
        "    city.city, customer.first_name, customer.last_name\n",
        "ORDER BY\n",
        "    rental_count DESC\n",
        "LIMIT 5;\n",
        "\"**"
      ],
      "metadata": {
        "id": "QprR4F5t4O-g"
      }
    },
    {
      "cell_type": "code",
      "source": [
        "import pandas as pd\n",
        "import sqlite3\n",
        "\n",
        "conn = sqlite3.connect('sqlite-sakila.db')\n",
        "\n",
        "df = {}\n",
        "for table_name in ['customer', 'address', 'city', 'rental']:\n",
        "    query = f\"SELECT * FROM {table_name}\"\n",
        "    df[table_name] = pd.DataFrame(conn.execute(query).fetchall(), columns=[column[0] for column in conn.execute(query).description])\n",
        "\n",
        "en_cok_kiralama_yapan_musteri = df['customer'] \\\n",
        "    .merge(df['address'], on='address_id', suffixes=('', '_address')) \\\n",
        "    .merge(df['city'], on='city_id', suffixes=('', '_city')) \\\n",
        "    .merge(df['rental'], on='customer_id', suffixes=('', '_rental')) \\\n",
        "    .groupby(['city', 'first_name', 'last_name']).agg(kiralama_sayisi=('rental_id', 'count')) \\\n",
        "    .reset_index() \\\n",
        "    .sort_values(by='kiralama_sayisi', ascending=False) \\\n",
        "    .head(5) \\\n",
        "    .rename(columns={'city': 'şehir', 'first_name': 'isim', 'last_name': 'soyisim'})\n",
        "\n",
        "conn.close()\n",
        "\n",
        "print(\"En Çok Kiralama Yapan 5 Müşteri:\")\n",
        "print(en_cok_kiralama_yapan_musteri)\n"
      ],
      "metadata": {
        "colab": {
          "base_uri": "https://localhost:8080/"
        },
        "id": "O1yo3A7Sj0L5",
        "outputId": "137d24dd-f7b7-4582-e646-91d1443a1fe3"
      },
      "execution_count": null,
      "outputs": [
        {
          "output_type": "stream",
          "name": "stdout",
          "text": [
            "En Çok Kiralama Yapan 5 Müşteri:\n",
            "           şehir     isim  soyisim  kiralama_sayisi\n",
            "433  Saint-Denis  ELEANOR     HUNT               46\n",
            "96    Cape Coral     KARL     SEAL               45\n",
            "333    Molodetno    CLARA     SHAW               42\n",
            "518        Tanza   MARCIA     DEAN               42\n",
            "103     Changhwa    TAMMY  SANDERS               41\n"
          ]
        }
      ]
    },
    {
      "cell_type": "markdown",
      "source": [
        "**Soru 33: En çok kazanç sağlayan 5 müşteriyi hangi şehirde bulun?  ==>  \"SQL: SELECT\n",
        "    city.city,\n",
        "    customer.first_name,\n",
        "    customer.last_name,\n",
        "    SUM(payment.amount) AS total_spent\n",
        "FROM\n",
        "    customer\n",
        "JOIN\n",
        "    address ON customer.address_id = address.address_id\n",
        "JOIN\n",
        "    city ON address.city_id = city.city_id\n",
        "JOIN\n",
        "    rental ON customer.customer_id = rental.customer_id\n",
        "JOIN\n",
        "    payment ON rental.rental_id = payment.rental_id\n",
        "GROUP BY\n",
        "    city.city, customer.first_name, customer.last_name\n",
        "ORDER BY\n",
        "    total_spent DESC\n",
        "LIMIT 5;\n",
        "\"**"
      ],
      "metadata": {
        "id": "BhVXuERj4PWY"
      }
    },
    {
      "cell_type": "code",
      "source": [
        "import sqlite3\n",
        "import pandas as pd\n",
        "\n",
        "# Veritabanı bağlantısı\n",
        "conn = sqlite3.connect('sqlite-sakila.db')\n",
        "\n",
        "# Tabloları veritabanından çekme\n",
        "df = {}\n",
        "for table_name in ['customer', 'address', 'city', 'rental', 'payment']:\n",
        "    query = f\"SELECT * FROM {table_name}\"\n",
        "    df[table_name] = pd.DataFrame(conn.execute(query).fetchall(),\n",
        "                                  columns=[column[0] for column in conn.execute(query).description])\n",
        "\n",
        "# En çok kazanç sağlayan 5 müşteriyi ve şehirlerini bulma\n",
        "soru_33 = df['customer'] \\\n",
        "    .merge(df['address'], on='address_id', suffixes=('', '_address')) \\\n",
        "    .merge(df['city'], on='city_id', suffixes=('', '_city')) \\\n",
        "    .merge(df['rental'], on='customer_id', suffixes=('', '_rental')) \\\n",
        "    .merge(df['payment'], on='rental_id', suffixes=('', '_payment')) \\\n",
        "    .groupby(['city', 'first_name', 'last_name']) \\\n",
        "    .agg(toplam_harcama=('amount', 'sum')) \\\n",
        "    .reset_index() \\\n",
        "    .sort_values(by='toplam_harcama', ascending=False) \\\n",
        "    .head(5)  # En çok harcama yapan 5 müşteri\n",
        "\n",
        "print(\"En çok kazanç sağlayan 5 müşteri ve şehirleri:\")\n",
        "print(soru_33[['city', 'first_name', 'last_name', 'toplam_harcama']])\n",
        "\n",
        "# Bağlantıyı kapatma\n",
        "conn.close()\n"
      ],
      "metadata": {
        "colab": {
          "base_uri": "https://localhost:8080/"
        },
        "id": "uOOiLl8DkkuB",
        "outputId": "8833f543-9025-47fd-eb20-c883cfd63682"
      },
      "execution_count": null,
      "outputs": [
        {
          "output_type": "stream",
          "name": "stdout",
          "text": [
            "En çok kazanç sağlayan 5 müşteri ve şehirleri:\n",
            "                    city first_name last_name  toplam_harcama\n",
            "96            Cape Coral       KARL      SEAL          221.55\n",
            "433          Saint-Denis    ELEANOR      HUNT          216.54\n",
            "333            Molodetno      CLARA      SHAW          195.58\n",
            "23             Apeldoorn     RHONDA   KENNEDY          194.61\n",
            "447  Santa Brbara dOeste     MARION    SNYDER          194.61\n"
          ]
        }
      ]
    },
    {
      "cell_type": "markdown",
      "source": [
        "**Soru 34: En çok kiralanan 5 filmi hangi şehirde bulun?  ==>  \"SQL: SELECT\n",
        "    city.city,\n",
        "    film.title,\n",
        "    COUNT(rental.rental_id) AS rental_count\n",
        "FROM\n",
        "    city\n",
        "JOIN\n",
        "    address ON city.city_id = address.city_id\n",
        "JOIN\n",
        "    customer ON address.address_id = customer.address_id\n",
        "JOIN\n",
        "    rental ON customer.customer_id = rental.customer_id\n",
        "JOIN\n",
        "    inventory ON rental.inventory_id = inventory.inventory_id\n",
        "JOIN\n",
        "    film ON inventory.film_id = film.film_id\n",
        "GROUP BY\n",
        "    city.city, film.title\n",
        "ORDER BY\n",
        "    rental_count DESC\n",
        "LIMIT 5;\n",
        "\"**"
      ],
      "metadata": {
        "id": "BEWLSL3W4Pt4"
      }
    },
    {
      "cell_type": "code",
      "source": [
        "import pandas as pd\n",
        "import sqlite3\n",
        "\n",
        "# SQLite bağlantısını oluştur\n",
        "conn = sqlite3.connect('sqlite-sakila.db')\n",
        "\n",
        "# Tabloları df sözlüğüne yükle\n",
        "df = {}\n",
        "for table_name in ['city', 'address', 'customer', 'rental', 'inventory', 'film']:\n",
        "    query = f\"SELECT * FROM {table_name}\"\n",
        "    df[table_name] = pd.DataFrame(conn.execute(query).fetchall(),\n",
        "                                  columns=[column[0] for column in conn.execute(query).description])\n",
        "\n",
        "# Gerekli join işlemlerini yaparak şehir ve film bazında kiralama sayısını hesapla\n",
        "en_cok_kiralayan_filmler_sehir_bazinda = df['city'] \\\n",
        "    .merge(df['address'], on='city_id', suffixes=('', '_address')) \\\n",
        "    .merge(df['customer'], on='address_id', suffixes=('', '_customer')) \\\n",
        "    .merge(df['rental'], on='customer_id', suffixes=('', '_rental')) \\\n",
        "    .merge(df['inventory'], on='inventory_id', suffixes=('', '_inventory')) \\\n",
        "    .merge(df['film'], on='film_id', suffixes=('', '_film')) \\\n",
        "    .groupby(['city', 'title']).agg(\n",
        "        rental_count=('rental_id', 'count')\n",
        "    ).reset_index() \\\n",
        "    .sort_values(by='rental_count', ascending=False) \\\n",
        "    .head(5)\n",
        "\n",
        "# Veritabanı bağlantısını kapat\n",
        "conn.close()\n",
        "\n",
        "print(en_cok_kiralayan_filmler_sehir_bazinda)\n"
      ],
      "metadata": {
        "colab": {
          "base_uri": "https://localhost:8080/"
        },
        "id": "1ispyMvdkixB",
        "outputId": "3fbd0994-cc46-42be-bc23-f7a9de4b42a3"
      },
      "execution_count": null,
      "outputs": [
        {
          "output_type": "stream",
          "name": "stdout",
          "text": [
            "           city              title  rental_count\n",
            "14182   Trshavn  FLATLINERS KILLER             3\n",
            "12735  Sorocaba    CADDYSHACK JEDI             3\n",
            "7308     Kurgan   DETECTIVE VISION             3\n",
            "7828       Lima    DISCIPLE MOTHER             3\n",
            "2598    Caracas   AFFAIR PREJUDICE             2\n"
          ]
        }
      ]
    },
    {
      "cell_type": "markdown",
      "source": [
        "**Soru 35: En az kiralanan 5 filmi hangi şehirde bulun?  ==>  \"SQL: SELECT\n",
        "    city.city,\n",
        "    film.title,\n",
        "    COUNT(rental.rental_id) AS rental_count\n",
        "FROM\n",
        "    city\n",
        "JOIN\n",
        "    address ON city.city_id = address.city_id\n",
        "JOIN\n",
        "    customer ON address.address_id = customer.address_id\n",
        "JOIN\n",
        "    rental ON customer.customer_id = rental.customer_id\n",
        "JOIN\n",
        "    inventory ON rental.inventory_id = inventory.inventory_id\n",
        "JOIN\n",
        "    film ON inventory.film_id = film.film_id\n",
        "GROUP BY\n",
        "    city.city, film.title\n",
        "ORDER BY\n",
        "    rental_count ASC\n",
        "LIMIT 5;\n",
        " \"**"
      ],
      "metadata": {
        "id": "1mGdciLV4QBS"
      }
    },
    {
      "cell_type": "code",
      "source": [
        "import pandas as pd\n",
        "import sqlite3\n",
        "\n",
        "conn = sqlite3.connect('sqlite-sakila.db')\n",
        "\n",
        "df = {}\n",
        "for table_name in ['city', 'address', 'customer', 'rental', 'inventory', 'film']:\n",
        "    query = f\"SELECT * FROM {table_name}\"\n",
        "    df[table_name] = pd.DataFrame(conn.execute(query).fetchall(), columns=[column[0] for column in conn.execute(query).description])\n",
        "\n",
        "en_az_kiralanan_film = df['city'] \\\n",
        "    .merge(df['address'], on='city_id', suffixes=('', '_address')) \\\n",
        "    .merge(df['customer'], on='address_id', suffixes=('', '_customer')) \\\n",
        "    .merge(df['rental'], on='customer_id', suffixes=('', '_rental')) \\\n",
        "    .merge(df['inventory'], on='inventory_id', suffixes=('', '_inventory')) \\\n",
        "    .merge(df['film'], on='film_id', suffixes=('', '_film')) \\\n",
        "    .groupby(['city', 'title']).agg(kiralama_sayisi=('rental_id', 'count')) \\\n",
        "    .reset_index() \\\n",
        "    .sort_values(by='kiralama_sayisi', ascending=True) \\\n",
        "    .head(5) \\\n",
        "    .rename(columns={'city': 'şehir', 'title': 'film_adı', 'kiralama_sayısı': 'kiralama_sayısı'})\n",
        "\n",
        "conn.close()\n",
        "\n",
        "print(\"En Az Kiralanan 5 Film:\")\n",
        "print(en_az_kiralanan_film)\n"
      ],
      "metadata": {
        "colab": {
          "base_uri": "https://localhost:8080/"
        },
        "id": "pL79jIGVkgbO",
        "outputId": "ab46c25a-4040-43ea-cb17-88a940324507"
      },
      "execution_count": null,
      "outputs": [
        {
          "output_type": "stream",
          "name": "stdout",
          "text": [
            "En Az Kiralanan 5 Film:\n",
            "                    şehir         film_adı  kiralama_sayisi\n",
            "0      A Corua (La Corua)     BLADE POLISH                1\n",
            "10513          Phnom Penh  TOURIST PELICAN                1\n",
            "10514          Phnom Penh  TWISTED PIRATES                1\n",
            "10515          Phnom Penh   VOYAGE LEGALLY                1\n",
            "10516          Phnom Penh        WIFE TURN                1\n"
          ]
        }
      ]
    },
    {
      "cell_type": "markdown",
      "source": [
        "**Soru 36: En çok kazanç sağlayan 5 filmi hangi şehirde bulun?  ==>  \"SQL: SELECT\n",
        "    city.city,\n",
        "    film.title,\n",
        "    SUM(payment.amount) AS total_revenue\n",
        "FROM\n",
        "    city\n",
        "JOIN\n",
        "    address ON city.city_id = address.city_id\n",
        "JOIN\n",
        "    customer ON address.address_id = customer.address_id\n",
        "JOIN\n",
        "    rental ON customer.customer_id = rental.customer_id\n",
        "JOIN\n",
        "    inventory ON rental.inventory_id = inventory.inventory_id\n",
        "JOIN\n",
        "    film ON inventory.film_id = film.film_id\n",
        "JOIN\n",
        "    payment ON rental.rental_id = payment.rental_id\n",
        "GROUP BY\n",
        "    city.city, film.title\n",
        "ORDER BY\n",
        "    total_revenue DESC\n",
        "LIMIT 5;\n",
        "\"**"
      ],
      "metadata": {
        "id": "fycj9OFq4QWj"
      }
    },
    {
      "cell_type": "code",
      "source": [
        "import pandas as pd\n",
        "import sqlite3\n",
        "\n",
        "conn = sqlite3.connect('sqlite-sakila.db')\n",
        "\n",
        "df = {}\n",
        "for table_name in ['city', 'address', 'customer', 'rental', 'inventory', 'film', 'payment']:\n",
        "    query = f\"SELECT * FROM {table_name}\"\n",
        "    df[table_name] = pd.DataFrame(conn.execute(query).fetchall(),\n",
        "                                  columns=[column[0] for column in conn.execute(query).description])\n",
        "\n",
        "top_filmler_sehir_bazinda = df['city'] \\\n",
        "    .merge(df['address'], on='city_id', suffixes=('', '_address')) \\\n",
        "    .merge(df['customer'], on='address_id', suffixes=('', '_customer')) \\\n",
        "    .merge(df['rental'], on='customer_id', suffixes=('', '_rental')) \\\n",
        "    .merge(df['inventory'], on='inventory_id', suffixes=('', '_inventory')) \\\n",
        "    .merge(df['film'], on='film_id', suffixes=('', '_film')) \\\n",
        "    .merge(df['payment'], on='rental_id', suffixes=('', '_payment')) \\\n",
        "    .groupby(['city', 'title']).agg(\n",
        "        total_revenue=('amount', 'sum')\n",
        "    ).reset_index() \\\n",
        "    .sort_values(by='total_revenue', ascending=False) \\\n",
        "    .head(5)\n",
        "\n",
        "conn.close()\n",
        "\n",
        "print(top_filmler_sehir_bazinda)\n"
      ],
      "metadata": {
        "colab": {
          "base_uri": "https://localhost:8080/"
        },
        "id": "GDG-ehUgkaDx",
        "outputId": "31745fa1-e4cf-47e9-fa67-199c3e9c85da"
      },
      "execution_count": null,
      "outputs": [
        {
          "output_type": "stream",
          "name": "stdout",
          "text": [
            "                      city             title  total_revenue\n",
            "10752          Probolinggo      MINDS TRUMAN          18.98\n",
            "10565                Plock  CALIFORNIA BIRDS          18.98\n",
            "6650                Kamyin    ROSES TREASURE          17.98\n",
            "11854  Santa Brbara dOeste         WIFE TURN          17.98\n",
            "3520                Datong      EAGLES PANKY          16.98\n"
          ]
        }
      ]
    },
    {
      "cell_type": "markdown",
      "source": [
        "**Soru 37: En az kazanç sağlayan 5 filmi hangi şehirde bulun?  ==>  \"SQL: SELECT\n",
        "    city.city,\n",
        "    film.title,\n",
        "    SUM(payment.amount) AS total_revenue\n",
        "FROM\n",
        "    city\n",
        "JOIN\n",
        "    address ON city.city_id = address.city_id\n",
        "JOIN\n",
        "    customer ON address.address_id = customer.address_id\n",
        "JOIN\n",
        "    rental ON customer.customer_id = rental.customer_id\n",
        "JOIN\n",
        "    inventory ON rental.inventory_id = inventory.inventory_id\n",
        "JOIN\n",
        "    film ON inventory.film_id = film.film_id\n",
        "JOIN\n",
        "    payment ON rental.rental_id = payment.rental_id\n",
        "GROUP BY\n",
        "    city.city, film.title\n",
        "ORDER BY\n",
        "    total_revenue ASC\n",
        "LIMIT 5;\n",
        "\"**"
      ],
      "metadata": {
        "id": "0OhQh9xe4Qp5"
      }
    },
    {
      "cell_type": "code",
      "source": [
        "import pandas as pd\n",
        "import sqlite3\n",
        "\n",
        "conn = sqlite3.connect('sqlite-sakila.db')\n",
        "\n",
        "df = {}\n",
        "for table_name in ['city', 'address', 'customer', 'rental', 'inventory', 'film', 'payment']:\n",
        "    query = f\"SELECT * FROM {table_name}\"\n",
        "    df[table_name] = pd.DataFrame(conn.execute(query).fetchall(),\n",
        "                                  columns=[column[0] for column in conn.execute(query).description])\n",
        "\n",
        "top_filmler_sehir_bazinda = df['city'] \\\n",
        "    .merge(df['address'], on='city_id', suffixes=('', '_address')) \\\n",
        "    .merge(df['customer'], on='address_id', suffixes=('', '_customer')) \\\n",
        "    .merge(df['rental'], on='customer_id', suffixes=('', '_rental')) \\\n",
        "    .merge(df['inventory'], on='inventory_id', suffixes=('', '_inventory')) \\\n",
        "    .merge(df['film'], on='film_id', suffixes=('', '_film')) \\\n",
        "    .merge(df['payment'], on='rental_id', suffixes=('', '_payment')) \\\n",
        "    .groupby(['city', 'title']).agg(\n",
        "        total_revenue=('amount', 'sum')\n",
        "    ).reset_index() \\\n",
        "    .sort_values(by='total_revenue', ascending=False) \\\n",
        "    .head(5)\n",
        "\n",
        "conn.close()\n",
        "\n",
        "print(top_filmler_sehir_bazinda)\n"
      ],
      "metadata": {
        "colab": {
          "base_uri": "https://localhost:8080/"
        },
        "id": "MD4v2Dn1lJoN",
        "outputId": "1b44724e-2e62-4e84-cb33-ce1739418c06"
      },
      "execution_count": null,
      "outputs": [
        {
          "output_type": "stream",
          "name": "stdout",
          "text": [
            "                      city             title  total_revenue\n",
            "10752          Probolinggo      MINDS TRUMAN          18.98\n",
            "10565                Plock  CALIFORNIA BIRDS          18.98\n",
            "6650                Kamyin    ROSES TREASURE          17.98\n",
            "11854  Santa Brbara dOeste         WIFE TURN          17.98\n",
            "3520                Datong      EAGLES PANKY          16.98\n"
          ]
        }
      ]
    },
    {
      "cell_type": "markdown",
      "source": [
        "**Soru 38: En fazla kiralama yapan müşteri hangi filmleri kiralamış?  ==>  \"SQL:  SELECT\n",
        "    customer.first_name,\n",
        "    customer.last_name,\n",
        "    film.title,\n",
        "    COUNT(rental.rental_id) AS rental_count\n",
        "FROM\n",
        "    customer\n",
        "JOIN\n",
        "    rental ON customer.customer_id = rental.customer_id\n",
        "JOIN\n",
        "    inventory ON rental.inventory_id = inventory.inventory_id\n",
        "JOIN\n",
        "    film ON inventory.film_id = film.film_id\n",
        "JOIN\n",
        "    film_category ON film.film_id = film_category.film_id\n",
        "JOIN\n",
        "    category ON film_category.category_id = category.category_id\n",
        "WHERE\n",
        "    customer.customer_id = (\n",
        "        SELECT\n",
        "            customer.customer_id\n",
        "        FROM\n",
        "            customer\n",
        "        JOIN\n",
        "            rental ON customer.customer_id = rental.customer_id\n",
        "        GROUP BY\n",
        "            customer.customer_id\n",
        "        ORDER BY\n",
        "            COUNT(rental.rental_id) DESC\n",
        "        LIMIT 1\n",
        "    )\n",
        "GROUP BY\n",
        "    film.title\n",
        "ORDER BY\n",
        "    rental_count DESC;\n",
        "\"**"
      ],
      "metadata": {
        "id": "8INu-qa64Q-B"
      }
    },
    {
      "cell_type": "code",
      "source": [
        "import pandas as pd\n",
        "import sqlite3\n",
        "\n",
        "conn = sqlite3.connect('sqlite-sakila.db')\n",
        "\n",
        "df = {}\n",
        "for table_name in ['customer', 'rental', 'inventory', 'film']:\n",
        "    query = f\"SELECT * FROM {table_name}\"\n",
        "    df[table_name] = pd.DataFrame(conn.execute(query).fetchall(),\n",
        "                                  columns=[column[0] for column in conn.execute(query).description])\n",
        "en_fazla_kiralama_yapan_musteri = df['customer'] \\\n",
        "    .merge(df['rental'], on='customer_id', suffixes=('', '_rental')) \\\n",
        "    .groupby('customer_id').agg(kiralama_sayisi=('rental_id', 'count')) \\\n",
        "    .reset_index() \\\n",
        "    .sort_values(by='kiralama_sayisi', ascending=False) \\\n",
        "    .head(1)\n",
        "\n",
        "en_fazla_kiralama_yapan_musteri_filmler = en_fazla_kiralama_yapan_musteri \\\n",
        "    .merge(df['customer'], on='customer_id', suffixes=('', '_customer')) \\\n",
        "    .merge(df['rental'], on='customer_id', suffixes=('', '_rental')) \\\n",
        "    .merge(df['inventory'], on='inventory_id', suffixes=('', '_inventory')) \\\n",
        "    .merge(df['film'], on='film_id', suffixes=('', '_film')) \\\n",
        "    .groupby(['first_name', 'last_name', 'title']).agg(kiralama_sayisi=('rental_id', 'count')) \\\n",
        "    .reset_index() \\\n",
        "    .rename(columns={'first_name': 'ad', 'last_name': 'soyad', 'title': 'film_adı', 'kiralama_sayısı': 'kiralama_sayısı'}) \\\n",
        "    .sort_values(by='film_adı', ascending=False)\n",
        "\n",
        "conn.close()\n",
        "\n",
        "print(\"En Fazla Kiralama Yapan Müşteri Hangi Filmleri Kiralamış:\")\n",
        "print(en_fazla_kiralama_yapan_musteri_filmler)\n"
      ],
      "metadata": {
        "colab": {
          "base_uri": "https://localhost:8080/"
        },
        "id": "GV8Es0WGla0R",
        "outputId": "ae1376af-29f7-4ccf-e80c-296bd97041fd"
      },
      "execution_count": null,
      "outputs": [
        {
          "output_type": "stream",
          "name": "stdout",
          "text": [
            "En Fazla Kiralama Yapan Müşteri Hangi Filmleri Kiralamış:\n",
            "         ad soyad             film_adı  kiralama_sayisi\n",
            "45  ELEANOR  HUNT   WIZARD COLDBLOODED                1\n",
            "44  ELEANOR  HUNT          WAR NOTTING                1\n",
            "43  ELEANOR  HUNT            TRAP GUYS                1\n",
            "42  ELEANOR  HUNT      SUN CONFESSIONS                1\n",
            "41  ELEANOR  HUNT    STRICTLY SCARFACE                1\n",
            "40  ELEANOR  HUNT  SPIRITED CASUALTIES                1\n",
            "39  ELEANOR  HUNT           SOUTH WAIT                1\n",
            "38  ELEANOR  HUNT   SOLDIERS EVOLUTION                1\n",
            "37  ELEANOR  HUNT  SNATCHERS MONTEZUMA                1\n",
            "36  ELEANOR  HUNT     SECRET GROUNDHOG                1\n",
            "35  ELEANOR  HUNT   SCISSORHANDS SLUMS                1\n",
            "34  ELEANOR  HUNT       ROBBERY BRIGHT                1\n",
            "33  ELEANOR  HUNT       REMEMBER DIARY                1\n",
            "32  ELEANOR  HUNT            RACER EGG                1\n",
            "31  ELEANOR  HUNT          QUILLS BULL                1\n",
            "30  ELEANOR  HUNT   PREJUDICE OLEANDER                1\n",
            "29  ELEANOR  HUNT      PINOCCHIO SIMON                1\n",
            "28  ELEANOR  HUNT         OUTLAW HANKY                1\n",
            "27  ELEANOR  HUNT          OTHERS SOUP                1\n",
            "26  ELEANOR  HUNT    OPPOSITE NECKLACE                1\n",
            "25  ELEANOR  HUNT       NAME DETECTIVE                1\n",
            "24  ELEANOR  HUNT       MUSIC BOONDOCK                1\n",
            "23  ELEANOR  HUNT      MUMMY CREATURES                1\n",
            "22  ELEANOR  HUNT         MINDS TRUMAN                1\n",
            "21  ELEANOR  HUNT      MAJESTIC FLOATS                1\n",
            "20  ELEANOR  HUNT       MADIGAN DORADO                1\n",
            "19  ELEANOR  HUNT           LADY STAGE                1\n",
            "18  ELEANOR  HUNT   INTERVIEW LIAISONS                1\n",
            "17  ELEANOR  HUNT      HOLLOW JEOPARDY                1\n",
            "16  ELEANOR  HUNT  HELLFIGHTERS SIERRA                1\n",
            "15  ELEANOR  HUNT           GUN BONNIE                1\n",
            "14  ELEANOR  HUNT        GRAFFITI LOVE                1\n",
            "13  ELEANOR  HUNT    GABLES METROPOLIS                1\n",
            "12  ELEANOR  HUNT       FORWARD TEMPLE                1\n",
            "11  ELEANOR  HUNT         FAMILY SWEET                1\n",
            "10  ELEANOR  HUNT     ENGLISH BULWORTH                1\n",
            "9   ELEANOR  HUNT     EGYPT TENENBAUMS                1\n",
            "8   ELEANOR  HUNT   DINOSAUR SECRETARY                1\n",
            "7   ELEANOR  HUNT            COMA HEAD                1\n",
            "6   ELEANOR  HUNT   COLOR PHILADELPHIA                1\n",
            "5   ELEANOR  HUNT        BOULEVARD MOB                1\n",
            "4   ELEANOR  HUNT    BIRD INDEPENDENCE                1\n",
            "3   ELEANOR  HUNT      ARMAGEDDON LOST                1\n",
            "2   ELEANOR  HUNT         ARIZONA BANG                1\n",
            "1   ELEANOR  HUNT      AMERICAN CIRCUS                1\n",
            "0   ELEANOR  HUNT     AFFAIR PREJUDICE                1\n"
          ]
        }
      ]
    },
    {
      "cell_type": "markdown",
      "source": [
        "**Soru 40: En çok kazanç sağlayan müşteri hangi filmleri kiralamış?  ==>  \"SQL: SELECT\n",
        "    customer.first_name,\n",
        "    customer.last_name,\n",
        "    film.title,\n",
        "    SUM(payment.amount) AS total_spent\n",
        "FROM\n",
        "    customer\n",
        "JOIN\n",
        "    rental ON customer.customer_id = rental.customer_id\n",
        "JOIN\n",
        "    inventory ON rental.inventory_id = inventory.inventory_id\n",
        "JOIN\n",
        "    film ON inventory.film_id = film.film_id\n",
        "JOIN\n",
        "    payment ON rental.rental_id = payment.rental_id\n",
        "WHERE\n",
        "    customer.customer_id = (\n",
        "        SELECT\n",
        "            customer.customer_id\n",
        "        FROM\n",
        "            customer\n",
        "        JOIN\n",
        "            rental ON customer.customer_id = rental.customer_id\n",
        "        JOIN\n",
        "            payment ON rental.rental_id = payment.rental_id\n",
        "        GROUP BY\n",
        "            customer.customer_id\n",
        "        ORDER BY\n",
        "            SUM(payment.amount) DESC\n",
        "        LIMIT 1\n",
        "    )\n",
        "GROUP BY\n",
        "    film.title\n",
        "ORDER BY\n",
        "    total_spent DESC;\n",
        "\"**"
      ],
      "metadata": {
        "id": "XX0dW9TL4RfR"
      }
    },
    {
      "cell_type": "code",
      "source": [
        "import pandas as pd\n",
        "import sqlite3\n",
        "\n",
        "conn = sqlite3.connect('sqlite-sakila.db')\n",
        "\n",
        "df = {}\n",
        "for table_name in ['customer', 'rental', 'inventory', 'film', 'payment']:\n",
        "    query = f\"SELECT * FROM {table_name}\"\n",
        "    df[table_name] = pd.DataFrame(conn.execute(query).fetchall(),\n",
        "                                  columns=[column[0] for column in conn.execute(query).description])\n",
        "\n",
        "en_cok_kazanc_saglayan_musteri_id = df['customer'] \\\n",
        "    .merge(df['rental'], on='customer_id', how='inner', suffixes=('', '_rental')) \\\n",
        "    .merge(df['payment'], on='rental_id', how='inner', suffixes=('', '_payment')) \\\n",
        "    .groupby('customer_id').agg(total_income=('amount', 'sum')) \\\n",
        "    .reset_index() \\\n",
        "    .sort_values(by='total_income', ascending=False) \\\n",
        "    .head(1)['customer_id'].values[0]\n",
        "\n",
        "en_cok_kazanc_filmler = df['customer'] \\\n",
        "    .query(\"customer_id == @en_cok_kazanc_saglayan_musteri_id\") \\\n",
        "    .merge(df['rental'], on='customer_id', how='inner', suffixes=('', '_rental')) \\\n",
        "    .merge(df['inventory'], on='inventory_id', how='inner', suffixes=('', '_inventory')) \\\n",
        "    .merge(df['film'], on='film_id', how='inner', suffixes=('', '_film')) \\\n",
        "    .merge(df['payment'], on='rental_id', how='inner', suffixes=('', '_payment')) \\\n",
        "    .groupby('title').agg(total_spent=('amount', 'sum')) \\\n",
        "    .reset_index() \\\n",
        "    .sort_values(by='total_spent', ascending=False)\n",
        "\n",
        "conn.close()\n",
        "\n",
        "print(\"En Çok Kazanç Sağlayan Müşterinin Kiraladığı Filmler:\")\n",
        "print(en_cok_kazanc_filmler)"
      ],
      "metadata": {
        "colab": {
          "base_uri": "https://localhost:8080/"
        },
        "id": "FFmV2YZ0lhx2",
        "outputId": "35f7f5c2-0a7f-48e6-eb90-bd7457bdf864"
      },
      "execution_count": null,
      "outputs": [
        {
          "output_type": "stream",
          "name": "stdout",
          "text": [
            "En Çok Kazanç Sağlayan Müşterinin Kiraladığı Filmler:\n",
            "                    title  total_spent\n",
            "12       FOOL MOCKINGBIRD        10.99\n",
            "41         STING PERSONAL         9.99\n",
            "42        TERMINATOR CLUB         8.99\n",
            "29         PICKUP DRIVING         8.99\n",
            "17            HIGH ENCINO         7.99\n",
            "16     HEAVYWEIGHTS BEAST         7.99\n",
            "23            MILLION ACE         7.99\n",
            "24      MISSION ZOOLANDER         7.99\n",
            "43         WEDDING APOLLO         7.98\n",
            "25        MOONWALKER FOOL         6.99\n",
            "1        BIKINI BORROWERS         6.99\n",
            "21          MASSAGE IMAGE         6.99\n",
            "20        LONELY ELEPHANT         6.99\n",
            "10       ENGLISH BULWORTH         5.99\n",
            "40               SPY MILE         5.99\n",
            "28          PARIS WEEKEND         4.99\n",
            "33        REAP UNFAITHFUL         4.99\n",
            "34         REMEMBER DIARY         4.99\n",
            "27       NOVOCAINE FLIGHT         4.99\n",
            "0           BETRAYED REAR         4.99\n",
            "13  FORRESTER COMANCHEROS         4.99\n",
            "11         FIDELITY DEVIL         4.99\n",
            "4          CYCLONE FAMILY         4.99\n",
            "9            DURHAM PANKY         4.99\n",
            "7        DESTINY SATURDAY         4.99\n",
            "18               INCH JET         4.99\n",
            "5              DATE SPEED         3.99\n",
            "35    RIDGEMONT SUBMARINE         3.99\n",
            "32              RACER EGG         2.99\n",
            "2          BLUES INSTINCT         2.99\n",
            "3     BRINGING HYSTERICAL         2.99\n",
            "38             SLUMS DUCK         2.99\n",
            "37       SINNERS ATLANTIS         2.99\n",
            "22       METAL ARMAGEDDON         2.99\n",
            "6            DESIRE ALIEN         2.99\n",
            "31        QUEST MUSSOLINI         2.99\n",
            "30         PRINCESS GIANT         2.99\n",
            "26       MULHOLLAND BEAST         2.99\n",
            "14            GANGS PRIDE         2.99\n",
            "36         ROBBERY BRIGHT         1.99\n",
            "15        GOLDMINE TYCOON         1.99\n",
            "8              DUMBO LUST         0.99\n",
            "39            SPLASH GUMP         0.99\n",
            "19          INSECTS STONE         0.99\n"
          ]
        }
      ]
    },
    {
      "cell_type": "markdown",
      "source": [
        "**Soru 41: En az kazanç sağlayan müşteri hangi filmleri kiralamış?   ==>  \"SQL: SELECT\n",
        "    customer.first_name,\n",
        "    customer.last_name,\n",
        "    film.title,\n",
        "    SUM(payment.amount) AS total_spent\n",
        "FROM\n",
        "    customer\n",
        "JOIN\n",
        "    rental ON customer.customer_id = rental.customer_id\n",
        "JOIN\n",
        "    inventory ON rental.inventory_id = inventory.inventory_id\n",
        "JOIN\n",
        "    film ON inventory.film_id = film.film_id\n",
        "JOIN\n",
        "    payment ON rental.rental_id = payment.rental_id\n",
        "WHERE\n",
        "    customer.customer_id = (\n",
        "        SELECT\n",
        "            customer.customer_id\n",
        "        FROM\n",
        "            customer\n",
        "        JOIN\n",
        "            rental ON customer.customer_id = rental.customer_id\n",
        "        JOIN\n",
        "            payment ON rental.rental_id = payment.rental_id\n",
        "        GROUP BY\n",
        "            customer.customer_id\n",
        "        ORDER BY\n",
        "            SUM(payment.amount) ASC\n",
        "        LIMIT 1\n",
        "    )\n",
        "GROUP BY\n",
        "    film.title\n",
        "ORDER BY\n",
        "    total_spent ASC;\n",
        "\"**"
      ],
      "metadata": {
        "id": "ztjYrivn4Rxw"
      }
    },
    {
      "cell_type": "code",
      "source": [
        "import pandas as pd\n",
        "import sqlite3\n",
        "\n",
        "# Veritabanı bağlantısı\n",
        "conn = sqlite3.connect('sqlite-sakila.db')\n",
        "\n",
        "# Tabloları veritabanından çekme\n",
        "df = {}\n",
        "for table_name in ['customer', 'rental', 'inventory', 'film', 'payment']:\n",
        "    query = f\"SELECT * FROM {table_name}\"\n",
        "    df[table_name] = pd.DataFrame(conn.execute(query).fetchall(),\n",
        "                                  columns=[column[0] for column in conn.execute(query).description])\n",
        "\n",
        "# En az kazanç sağlayan müşteri kim?\n",
        "en_az_kazanc_saglayan_musteri_id = df['customer'] \\\n",
        "    .merge(df['rental'], on='customer_id', how='inner', suffixes=('', '_rental')) \\\n",
        "    .merge(df['payment'], on='rental_id', how='inner', suffixes=('', '_payment')) \\\n",
        "    .groupby('customer_id').agg(total_income=('amount', 'sum')) \\\n",
        "    .reset_index() \\\n",
        "    .sort_values(by='total_income') \\\n",
        "    .head(1)['customer_id'].values[0]\n",
        "\n",
        "# Bu müşterinin kiraladığı filmleri bulma\n",
        "en_az_kazanc_filmler = df['customer'] \\\n",
        "    .query(\"customer_id == @en_az_kazanc_saglayan_musteri_id\") \\\n",
        "    .merge(df['rental'], on='customer_id', how='inner', suffixes=('', '_rental')) \\\n",
        "    .merge(df['inventory'], on='inventory_id', how='inner', suffixes=('', '_inventory')) \\\n",
        "    .merge(df['film'], on='film_id', how='inner', suffixes=('', '_film')) \\\n",
        "    .merge(df['payment'], on='rental_id', how='inner', suffixes=('', '_payment')) \\\n",
        "    .groupby('title').agg(total_spent=('amount', 'sum')) \\\n",
        "    .reset_index() \\\n",
        "    .sort_values(by='total_spent', ascending=True)\n",
        "\n",
        "conn.close()\n",
        "\n",
        "print(\"En Az Kazanç Sağlayan Müşterinin Kiraladığı Filmler:\")\n",
        "print(en_az_kazanc_filmler)"
      ],
      "metadata": {
        "colab": {
          "base_uri": "https://localhost:8080/"
        },
        "id": "OX6L-G0Ol0y2",
        "outputId": "8e34a563-ad30-49fd-d860-ffaa79c6de4a"
      },
      "execution_count": null,
      "outputs": [
        {
          "output_type": "stream",
          "name": "stdout",
          "text": [
            "En Az Kazanç Sağlayan Müşterinin Kiraladığı Filmler:\n",
            "                     title  total_spent\n",
            "0          ARMAGEDDON LOST         0.99\n",
            "1         CAMELOT VACATION         0.99\n",
            "3         EMPIRE MALKOVICH         0.99\n",
            "7          ILLUSION AMELIE         0.99\n",
            "12  RESURRECTION SILVERADO         0.99\n",
            "13             TEXAS WATCH         0.99\n",
            "9               JADE BUNCH         2.99\n",
            "10         KILLER INNOCENT         2.99\n",
            "11              MASK PEACH         3.99\n",
            "5        GOODFELLAS SALUTE         4.99\n",
            "6        HOOSIERS BIRDCAGE         4.99\n",
            "14         WHISPERER GIANT         4.99\n",
            "2          DISCIPLE MOTHER         5.99\n",
            "8     IMPOSSIBLE PREJUDICE         5.99\n",
            "4           FRENCH HOLIDAY         7.99\n"
          ]
        }
      ]
    },
    {
      "cell_type": "markdown",
      "source": [
        "**Soru 42: En az kazanç sağlayan müşteri hangi türde en fazla film kiralamış?  ==>  \"SQL:  SELECT\n",
        "    customer.first_name,\n",
        "    customer.last_name,\n",
        "    category.name AS genre,\n",
        "    COUNT(rental.rental_id) AS rental_count\n",
        "FROM\n",
        "    customer\n",
        "JOIN\n",
        "    rental ON customer.customer_id = rental.customer_id\n",
        "JOIN\n",
        "    inventory ON rental.inventory_id = inventory.inventory_id\n",
        "JOIN\n",
        "    film ON inventory.film_id = film.film_id\n",
        "JOIN\n",
        "    film_category ON film.film_id = film_category.film_id\n",
        "JOIN\n",
        "    category ON film_category.category_id = category.category_id\n",
        "WHERE\n",
        "    customer.customer_id = (\n",
        "        SELECT\n",
        "            customer.customer_id\n",
        "        FROM\n",
        "            customer\n",
        "        JOIN\n",
        "            rental ON customer.customer_id = rental.customer_id\n",
        "        JOIN\n",
        "            payment ON rental.rental_id = payment.rental_id\n",
        "        GROUP BY\n",
        "            customer.customer_id\n",
        "        ORDER BY\n",
        "            SUM(payment.amount) ASC\n",
        "        LIMIT 1\n",
        "    )\n",
        "GROUP BY\n",
        "    category.name\n",
        "ORDER BY\n",
        "    rental_count DESC\n",
        "LIMIT 1;\n",
        " \"**"
      ],
      "metadata": {
        "id": "gQWOsl7o4SED"
      }
    },
    {
      "cell_type": "code",
      "source": [
        "import pandas as pd\n",
        "import sqlite3\n",
        "\n",
        "# Veritabanı bağlantısı\n",
        "conn = sqlite3.connect('sqlite-sakila.db')\n",
        "\n",
        "# Tabloları veritabanından çekme\n",
        "df = {}\n",
        "for table_name in ['customer', 'rental', 'inventory', 'film', 'film_category', 'category', 'payment']:\n",
        "    query = f\"SELECT * FROM {table_name}\"\n",
        "    df[table_name] = pd.DataFrame(conn.execute(query).fetchall(),\n",
        "                                  columns=[column[0] for column in conn.execute(query).description])\n",
        "\n",
        "# En az kazanç sağlayan müşteri kim?\n",
        "en_az_kazanc_saglayan_musteri_id = df['customer'] \\\n",
        "    .merge(df['rental'], on='customer_id', how='inner') \\\n",
        "    .merge(df['payment'], on='rental_id', how='inner')\n",
        "\n",
        "# Sütunları kontrol et\n",
        "print(\"En az kazanç sağlayan müşteri sonrası DataFrame sütunları:\")\n",
        "print(en_az_kazanc_saglayan_musteri_id.columns)\n",
        "\n",
        "# Toplam kazancı hesapla\n",
        "en_az_kazanc_musteri = en_az_kazanc_saglayan_musteri_id \\\n",
        "    .groupby('customer_id_x').agg(total_income=('amount', 'sum')) \\\n",
        "    .reset_index() \\\n",
        "    .sort_values(by='total_income') \\\n",
        "    .head(1)['customer_id_x'].values[0]\n",
        "\n",
        "# Bu müşterinin en fazla hangi türde film kiraladığını bulma\n",
        "en_fazla_kiralama_turu = df['customer'] \\\n",
        "    .query(\"customer_id == @en_az_kazanc_musteri\") \\\n",
        "    .merge(df['rental'], on='customer_id', how='inner', suffixes=('', '_rental')) \\\n",
        "    .merge(df['inventory'], on='inventory_id', how='inner', suffixes=('', '_inventory')) \\\n",
        "    .merge(df['film'], on='film_id', how='inner', suffixes=('', '_film')) \\\n",
        "    .merge(df['film_category'], on='film_id', how='inner', suffixes=('', '_film_category')) \\\n",
        "    .merge(df['category'], on='category_id', how='inner', suffixes=('', '_category')) \\\n",
        "    .groupby('name').agg(rental_count=('rental_id', 'count')) \\\n",
        "    .reset_index() \\\n",
        "    .sort_values(by='rental_count', ascending=False) \\\n",
        "    .head(1)\n",
        "\n",
        "conn.close()\n",
        "\n",
        "print(\"En Az Kazanç Sağlayan Müşteri Hangi Türde En Fazla Film Kiralamış:\")\n",
        "print(en_fazla_kiralama_turu)"
      ],
      "metadata": {
        "colab": {
          "base_uri": "https://localhost:8080/"
        },
        "id": "oaSd7pt6mTZ0",
        "outputId": "ad454a49-51b4-4218-93a1-19855446fb0d"
      },
      "execution_count": null,
      "outputs": [
        {
          "output_type": "stream",
          "name": "stdout",
          "text": [
            "En az kazanç sağlayan müşteri sonrası DataFrame sütunları:\n",
            "Index(['customer_id_x', 'store_id', 'first_name', 'last_name', 'email',\n",
            "       'address_id', 'active', 'create_date', 'last_update_x', 'rental_id',\n",
            "       'rental_date', 'inventory_id', 'return_date', 'staff_id_x',\n",
            "       'last_update_y', 'payment_id', 'customer_id_y', 'staff_id_y', 'amount',\n",
            "       'payment_date', 'last_update'],\n",
            "      dtype='object')\n",
            "En Az Kazanç Sağlayan Müşteri Hangi Türde En Fazla Film Kiralamış:\n",
            "     name  rental_count\n",
            "6  Sci-Fi             4\n"
          ]
        }
      ]
    },
    {
      "cell_type": "markdown",
      "source": [
        "**Soru 43: En çok kiralanan film hangi çalışan tarafından kiralanmış?  ==>  \"SQL: SELECT\n",
        "    staff.first_name,\n",
        "    staff.last_name,\n",
        "    film.title,\n",
        "    COUNT(rental.rental_id) AS rental_count\n",
        "FROM\n",
        "    staff\n",
        "JOIN\n",
        "    rental ON staff.staff_id = rental.staff_id\n",
        "JOIN\n",
        "    inventory ON rental.inventory_id = inventory.inventory_id\n",
        "JOIN\n",
        "    film ON inventory.film_id = film.film_id\n",
        "WHERE\n",
        "    film.film_id = (\n",
        "        SELECT\n",
        "            film.film_id\n",
        "        FROM\n",
        "            film\n",
        "        JOIN\n",
        "            inventory ON film.film_id = inventory.film_id\n",
        "        JOIN\n",
        "            rental ON inventory.inventory_id = rental.inventory_id\n",
        "        GROUP BY\n",
        "            film.film_id\n",
        "        ORDER BY\n",
        "            COUNT(rental.rental_id) DESC\n",
        "        LIMIT 1\n",
        "    )\n",
        "GROUP BY\n",
        "    staff.first_name,\n",
        "    staff.last_name,\n",
        "    film.title;\n",
        "\"**"
      ],
      "metadata": {
        "id": "cw543skW4SXn"
      }
    },
    {
      "cell_type": "code",
      "source": [
        "import sqlite3\n",
        "import pandas as pd\n",
        "\n",
        "conn = sqlite3.connect('sqlite-sakila.db')\n",
        "\n",
        "df = {}\n",
        "for table_name in ['staff', 'rental', 'inventory', 'film']:\n",
        "    query = f\"SELECT * FROM {table_name}\"\n",
        "    df[table_name] = pd.DataFrame(conn.execute(query).fetchall(), columns=[column[0] for column in conn.execute(query).description])\n",
        "\n",
        "en_cok_kiralanan_film = df['film'] \\\n",
        "    .merge(df['inventory'], on='film_id') \\\n",
        "    .merge(df['rental'], on='inventory_id') \\\n",
        "    .groupby('film_id').agg(kiralama_sayisi=('rental_id', 'count')) \\\n",
        "    .reset_index() \\\n",
        "    .sort_values(by='kiralama_sayisi', ascending=False) \\\n",
        "    .head(1)\n",
        "\n",
        "en_cok_kiralanan_film_calisan = en_cok_kiralanan_film \\\n",
        "    .merge(df['inventory'], on='film_id', suffixes=('_film', '_inventory')) \\\n",
        "    .merge(df['rental'], on='inventory_id', suffixes=('_inventory', '_rental')) \\\n",
        "    .merge(df['staff'], on='staff_id', suffixes=('_rental', '_staff')) \\\n",
        "    .merge(df['film'], on='film_id', suffixes=('_staff', '_film')) \\\n",
        "    .groupby(['first_name', 'last_name', 'title']).agg(kiralama_sayisi=('rental_id', 'count')) \\\n",
        "    .reset_index() \\\n",
        "    .rename(columns={'first_name': 'ad', 'last_name': 'soyad', 'title': 'film_adı', 'kiralama_sayisi': 'kiralama_sayısı'})\n",
        "\n",
        "conn.close()\n",
        "\n",
        "print(\"En Çok Kiralanan Filmi Kiralayan Çalışan:\")\n",
        "print(en_cok_kiralanan_film_calisan)\n"
      ],
      "metadata": {
        "colab": {
          "base_uri": "https://localhost:8080/"
        },
        "id": "87U5-bENn_B2",
        "outputId": "2f1a8f96-f790-4ddd-f3a5-220039a49f0c"
      },
      "execution_count": null,
      "outputs": [
        {
          "output_type": "stream",
          "name": "stdout",
          "text": [
            "En Çok Kiralanan Filmi Kiralayan Çalışan:\n",
            "     ad     soyad            film_adı  kiralama_sayısı\n",
            "0   Jon  Stephens  BUCKET BROTHERHOOD               18\n",
            "1  Mike   Hillyer  BUCKET BROTHERHOOD               16\n"
          ]
        }
      ]
    },
    {
      "cell_type": "markdown",
      "source": [
        "**Soru 44: En az kiralanan film hangi çalışan tarafından kiralanmış?  ==>  \"SQL: SELECT\n",
        "    staff.first_name,\n",
        "    staff.last_name,\n",
        "    film.title,\n",
        "    SUM(payment.amount) AS total_revenue\n",
        "FROM\n",
        "    staff\n",
        "JOIN\n",
        "    rental ON staff.staff_id = rental.staff_id\n",
        "JOIN\n",
        "    inventory ON rental.inventory_id = inventory.inventory_id\n",
        "JOIN\n",
        "    film ON inventory.film_id = film.film_id\n",
        "JOIN\n",
        "    payment ON rental.rental_id = payment.rental_id\n",
        "WHERE\n",
        "    film.film_id = (\n",
        "        SELECT\n",
        "            film.film_id\n",
        "        FROM\n",
        "            film\n",
        "        JOIN\n",
        "            inventory ON film.film_id = inventory.film_id\n",
        "        JOIN\n",
        "            rental ON inventory.inventory_id = rental.inventory_id\n",
        "        JOIN\n",
        "            payment ON rental.rental_id = payment.rental_id\n",
        "        GROUP BY\n",
        "            film.film_id\n",
        "        ORDER BY\n",
        "            SUM(payment.amount) DESC\n",
        "        LIMIT 1\n",
        "    )\n",
        "GROUP BY\n",
        "    staff.first_name, staff.last_name, film.title;\n",
        "\"**"
      ],
      "metadata": {
        "id": "x7DDYxIb4SsO"
      }
    },
    {
      "cell_type": "code",
      "source": [
        "import pandas as pd\n",
        "import sqlite3\n",
        "\n",
        "conn = sqlite3.connect('sqlite-sakila.db')\n",
        "\n",
        "df = {}\n",
        "for table_name in ['staff', 'rental', 'inventory', 'film', 'payment']:\n",
        "    query = f\"SELECT * FROM {table_name}\"\n",
        "    df[table_name] = pd.DataFrame(conn.execute(query).fetchall(),\n",
        "                                  columns=[column[0] for column in conn.execute(query).description])\n",
        "\n",
        "en_cok_gelir_getiren_film = df['film'] \\\n",
        "    .merge(df['inventory'], on='film_id', suffixes=('', '_inventory')) \\\n",
        "    .merge(df['rental'], on='inventory_id', suffixes=('', '_rental')) \\\n",
        "    .merge(df['payment'], on='rental_id', suffixes=('', '_payment')) \\\n",
        "    .groupby('film_id').agg(total_gelir=('amount', 'sum')) \\\n",
        "    .reset_index() \\\n",
        "    .sort_values(by='total_gelir', ascending=False) \\\n",
        "    .head(1)\n",
        "\n",
        "en_cok_gelir_getiren_film_personel = df['staff'] \\\n",
        "    .merge(df['rental'], on='staff_id', suffixes=('', '_rental')) \\\n",
        "    .merge(df['inventory'], on='inventory_id', suffixes=('', '_inventory')) \\\n",
        "    .merge(df['film'], on='film_id', suffixes=('', '_film')) \\\n",
        "    .merge(df['payment'], on='rental_id', suffixes=('', '_payment')) \\\n",
        "    .loc[lambda x: x['film_id'] == en_cok_gelir_getiren_film['film_id'].values[0]] \\\n",
        "    .groupby(['first_name', 'last_name', 'title']).agg(total_revenue=('amount', 'sum')) \\\n",
        "    .reset_index()\n",
        "\n",
        "conn.close()\n",
        "\n",
        "print(\"En Çok Gelir Getiren Film ve Personel Bilgileri:\")\n",
        "print(en_cok_gelir_getiren_film_personel)\n"
      ],
      "metadata": {
        "colab": {
          "base_uri": "https://localhost:8080/"
        },
        "id": "e0xT4IacoIgW",
        "outputId": "382cd9bf-0733-4aeb-af82-88271432e676"
      },
      "execution_count": null,
      "outputs": [
        {
          "output_type": "stream",
          "name": "stdout",
          "text": [
            "En Çok Gelir Getiren Film ve Personel Bilgileri:\n",
            "  first_name last_name             title  total_revenue\n",
            "0        Jon  Stephens  TELEGRAPH VOYAGE         147.83\n",
            "1       Mike   Hillyer  TELEGRAPH VOYAGE          83.90\n"
          ]
        }
      ]
    },
    {
      "cell_type": "markdown",
      "source": [
        "**Soru 45: En çok kazanç sağlayan film hangi çalışan tarafından kiralanmış?  ==>  \"SQL: SELECT\n",
        "    staff.first_name,\n",
        "    staff.last_name,\n",
        "    film.title,\n",
        "    SUM(payment.amount) AS total_revenue\n",
        "FROM\n",
        "    staff\n",
        "JOIN\n",
        "    rental ON staff.staff_id = rental.staff_id\n",
        "JOIN\n",
        "    inventory ON rental.inventory_id = inventory.inventory_id\n",
        "JOIN\n",
        "    film ON inventory.film_id = film.film_id\n",
        "JOIN\n",
        "    payment ON rental.rental_id = payment.rental_id\n",
        "WHERE\n",
        "    film.film_id = (\n",
        "        SELECT\n",
        "            film.film_id\n",
        "        FROM\n",
        "            film\n",
        "        JOIN\n",
        "            inventory ON film.film_id = inventory.film_id\n",
        "        JOIN\n",
        "            rental ON inventory.inventory_id = rental.inventory_id\n",
        "        JOIN\n",
        "            payment ON rental.rental_id = payment.rental_id\n",
        "        GROUP BY\n",
        "            film.film_id\n",
        "        ORDER BY\n",
        "            SUM(payment.amount) DESC\n",
        "        LIMIT 1\n",
        "    )\n",
        "GROUP BY\n",
        "    staff.first_name, staff.last_name, film.title;\n",
        "\"**"
      ],
      "metadata": {
        "id": "GfgbXgAc4UDp"
      }
    },
    {
      "cell_type": "code",
      "source": [
        "import sqlite3\n",
        "import pandas as pd\n",
        "\n",
        "conn = sqlite3.connect('sqlite-sakila.db')\n",
        "\n",
        "df = {}\n",
        "for table_name in ['staff', 'rental', 'inventory', 'film', 'payment', 'store']:\n",
        "    query = f\"SELECT * FROM {table_name}\"\n",
        "    df[table_name] = pd.DataFrame(conn.execute(query).fetchall(),\n",
        "                                  columns=[column[0] for column in conn.execute(query).description])\n",
        "\n",
        "film_id_en_cok_kazanc = df['film'] \\\n",
        "    .merge(df['inventory'], on='film_id', suffixes=('', '_inv')) \\\n",
        "    .merge(df['rental'], on='inventory_id', suffixes=('', '_rental')) \\\n",
        "    .merge(df['payment'], on='rental_id', suffixes=('', '_payment')) \\\n",
        "    .groupby('film_id')['amount'].sum().idxmax()\n",
        "\n",
        "en_cok_kazanc_saglayan_film_calisan = df['staff'] \\\n",
        "    .merge(df['rental'], on='staff_id', suffixes=('', '_rental')) \\\n",
        "    .merge(df['inventory'], on='inventory_id', suffixes=('', '_inv')) \\\n",
        "    .merge(df['film'], on='film_id', suffixes=('', '_film')) \\\n",
        "    .merge(df['payment'], on='rental_id', suffixes=('', '_payment')) \\\n",
        "    .loc[lambda x: x['film_id'] == film_id_en_cok_kazanc] \\\n",
        "    .groupby(['first_name', 'last_name', 'title']) \\\n",
        "    .agg(toplam_gelir=('amount', 'sum')) \\\n",
        "    .reset_index() \\\n",
        "    .rename(columns={'first_name': 'ad', 'last_name': 'soyad', 'title': 'film_adı', 'toplam_gelir': 'toplam_gelir'})\n",
        "\n",
        "print(en_cok_kazanc_saglayan_film_calisan)\n",
        "\n",
        "conn.close()"
      ],
      "metadata": {
        "colab": {
          "base_uri": "https://localhost:8080/"
        },
        "id": "VVVijcoopQLx",
        "outputId": "3aac598f-b8c5-4b6c-a294-e68ac705ce51"
      },
      "execution_count": null,
      "outputs": [
        {
          "output_type": "stream",
          "name": "stdout",
          "text": [
            "     ad     soyad          film_adı  toplam_gelir\n",
            "0   Jon  Stephens  TELEGRAPH VOYAGE        147.83\n",
            "1  Mike   Hillyer  TELEGRAPH VOYAGE         83.90\n"
          ]
        }
      ]
    },
    {
      "cell_type": "markdown",
      "source": [
        "**Soru 46: En az kazanç sağlayan film hangi çalışan tarafından kiralanmış?  ==>  \"SQL:\n",
        "SELECT\n",
        "    staff.first_name,\n",
        "    staff.last_name,\n",
        "    film.title,\n",
        "    SUM(payment.amount) AS total_revenue\n",
        "FROM\n",
        "    staff\n",
        "JOIN\n",
        "    rental ON staff.staff_id = rental.staff_id\n",
        "JOIN\n",
        "    inventory ON rental.inventory_id = inventory.inventory_id\n",
        "JOIN\n",
        "    film ON inventory.film_id = film.film_id\n",
        "JOIN\n",
        "    payment ON rental.rental_id = payment.rental_id\n",
        "WHERE\n",
        "    film.film_id = (\n",
        "        SELECT\n",
        "            film.film_id\n",
        "        FROM\n",
        "            film\n",
        "        JOIN\n",
        "            inventory ON film.film_id = inventory.film_id\n",
        "        JOIN\n",
        "            rental ON inventory.inventory_id = rental.inventory_id\n",
        "        JOIN\n",
        "            payment ON rental.rental_id = payment.rental_id\n",
        "        GROUP BY\n",
        "            film.film_id\n",
        "        ORDER BY\n",
        "            SUM(payment.amount) ASC\n",
        "        LIMIT 1\n",
        "    )\n",
        "GROUP BY\n",
        "    staff.first_name, staff.last_name, film.title;\n",
        "\"**"
      ],
      "metadata": {
        "id": "7MXCkqJM4UaK"
      }
    },
    {
      "cell_type": "code",
      "source": [
        "import sqlite3\n",
        "import pandas as pd\n",
        "\n",
        "conn = sqlite3.connect('sqlite-sakila.db')\n",
        "\n",
        "df = {}\n",
        "for table_name in ['staff', 'rental', 'inventory', 'film', 'payment', 'store']:\n",
        "    query = f\"SELECT * FROM {table_name}\"\n",
        "    df[table_name] = pd.DataFrame(conn.execute(query).fetchall(),\n",
        "                                  columns=[column[0] for column in conn.execute(query).description])\n",
        "\n",
        "film_id_en_az_kazanc = df['film'] \\\n",
        "    .merge(df['inventory'], on='film_id', suffixes=('', '_inv')) \\\n",
        "    .merge(df['rental'], on='inventory_id', suffixes=('', '_rental')) \\\n",
        "    .merge(df['payment'], on='rental_id', suffixes=('', '_payment')) \\\n",
        "    .groupby('film_id')['amount'].sum().idxmin()\n",
        "\n",
        "en_az_kazanc_saglayan_film_calisan = df['staff'] \\\n",
        "    .merge(df['rental'], on='staff_id', suffixes=('', '_rental')) \\\n",
        "    .merge(df['inventory'], on='inventory_id', suffixes=('', '_inv')) \\\n",
        "    .merge(df['film'], on='film_id', suffixes=('', '_film')) \\\n",
        "    .merge(df['payment'], on='rental_id', suffixes=('', '_payment')) \\\n",
        "    .loc[lambda x: x['film_id'] == film_id_en_az_kazanc] \\\n",
        "    .groupby(['first_name', 'last_name', 'title']) \\\n",
        "    .agg(toplam_gelir=('amount', 'sum')) \\\n",
        "    .reset_index() \\\n",
        "    .rename(columns={'first_name': 'ad', 'last_name': 'soyad', 'title': 'film_adı', 'toplam_gelir': 'toplam_gelir'})\n",
        "\n",
        "print(en_az_kazanc_saglayan_film_calisan)\n",
        "\n",
        "conn.close()"
      ],
      "metadata": {
        "colab": {
          "base_uri": "https://localhost:8080/"
        },
        "id": "iEmx8bGOps8m",
        "outputId": "795e37bc-563d-405c-9276-d9629648a43b"
      },
      "execution_count": null,
      "outputs": [
        {
          "output_type": "stream",
          "name": "stdout",
          "text": [
            "     ad     soyad          film_adı  toplam_gelir\n",
            "0   Jon  Stephens  OKLAHOMA JUMANJI          1.98\n",
            "1  Mike   Hillyer  OKLAHOMA JUMANJI          3.96\n"
          ]
        }
      ]
    },
    {
      "cell_type": "markdown",
      "source": [
        "**Soru 47: En çok kiralanan film hangi mağazada kiralanmış?  ==>  \"SQL:\n",
        "SELECT\n",
        "    store.store_id,\n",
        "    film.title,\n",
        "    COUNT(rental.rental_id) AS rental_count\n",
        "FROM\n",
        "    store\n",
        "JOIN\n",
        "    staff ON store.store_id = staff.store_id\n",
        "JOIN\n",
        "    rental ON staff.staff_id = rental.staff_id\n",
        "JOIN\n",
        "    inventory ON rental.inventory_id = inventory.inventory_id\n",
        "JOIN\n",
        "    film ON inventory.film_id = film.film_id\n",
        "WHERE\n",
        "    film.film_id = (\n",
        "        SELECT\n",
        "            film.film_id\n",
        "        FROM\n",
        "            film\n",
        "        JOIN\n",
        "            inventory ON film.film_id = inventory.film_id\n",
        "        JOIN\n",
        "            rental ON inventory.inventory_id = rental.inventory_id\n",
        "        GROUP BY\n",
        "            film.film_id\n",
        "        ORDER BY\n",
        "            COUNT(rental.rental_id) DESC\n",
        "        LIMIT 1\n",
        "    )\n",
        "GROUP BY\n",
        "    store.store_id, film.title;\"**"
      ],
      "metadata": {
        "id": "xAM1VKmA4Usx"
      }
    },
    {
      "cell_type": "code",
      "source": [
        "import sqlite3\n",
        "import pandas as pd\n",
        "\n",
        "conn = sqlite3.connect('sqlite-sakila.db')\n",
        "\n",
        "df = {}\n",
        "for table_name in ['staff', 'rental', 'inventory', 'film', 'payment', 'store']:\n",
        "    query = f\"SELECT * FROM {table_name}\"\n",
        "    df[table_name] = pd.DataFrame(conn.execute(query).fetchall(),\n",
        "                                  columns=[column[0] for column in conn.execute(query).description])\n",
        "\n",
        "film_id_en_cok_kiralanan = df['film'] \\\n",
        "    .merge(df['inventory'], on='film_id', suffixes=('', '_inv')) \\\n",
        "    .merge(df['rental'], on='inventory_id', suffixes=('', '_rental')) \\\n",
        "    .groupby('film_id')['rental_id'].count().idxmax()\n",
        "\n",
        "en_cok_kiralanan_film_magaza = df['store'] \\\n",
        "    .merge(df['staff'], on='store_id', suffixes=('', '_staff')) \\\n",
        "    .merge(df['rental'], on='staff_id', suffixes=('', '_rental')) \\\n",
        "    .merge(df['inventory'], on='inventory_id', suffixes=('', '_inv')) \\\n",
        "    .merge(df['film'], on='film_id', suffixes=('', '_film')) \\\n",
        "    .loc[lambda x: x['film_id'] == film_id_en_cok_kiralanan] \\\n",
        "    .groupby(['store_id', 'title']) \\\n",
        "    .agg(kiralama_sayisi=('rental_id', 'count')) \\\n",
        "    .reset_index() \\\n",
        "    .rename(columns={'store_id': 'magaza_id', 'title': 'film_adı', 'kiralama_sayisi': 'kiralama_sayısı'})\n",
        "\n",
        "print(en_cok_kiralanan_film_magaza)\n",
        "\n",
        "conn.close()"
      ],
      "metadata": {
        "colab": {
          "base_uri": "https://localhost:8080/"
        },
        "id": "nR2R_RY4p5eS",
        "outputId": "16fb0522-7e4b-4d8d-969c-02e9e6faee41"
      },
      "execution_count": null,
      "outputs": [
        {
          "output_type": "stream",
          "name": "stdout",
          "text": [
            "   magaza_id            film_adı  kiralama_sayısı\n",
            "0          1  BUCKET BROTHERHOOD               16\n",
            "1          2  BUCKET BROTHERHOOD               18\n"
          ]
        }
      ]
    },
    {
      "cell_type": "markdown",
      "source": [
        "**Soru 48: En az kiralanan film hangi mağazada kiralanmış?  ==>  \"SQL:\n",
        "SELECT\n",
        "    store.store_id,\n",
        "    film.title,\n",
        "    COUNT(rental.rental_id) AS rental_count\n",
        "FROM\n",
        "    store\n",
        "JOIN\n",
        "    staff ON store.store_id = staff.store_id\n",
        "JOIN\n",
        "    rental ON staff.staff_id = rental.staff_id\n",
        "JOIN\n",
        "    inventory ON rental.inventory_id = inventory.inventory_id\n",
        "JOIN\n",
        "    film ON inventory.film_id = film.film_id\n",
        "WHERE\n",
        "    film.film_id = (\n",
        "        SELECT\n",
        "            film.film_id\n",
        "        FROM\n",
        "            film\n",
        "        JOIN\n",
        "            inventory ON film.film_id = inventory.film_id\n",
        "        JOIN\n",
        "            rental ON inventory.inventory_id = rental.inventory_id\n",
        "        GROUP BY\n",
        "            film.film_id\n",
        "        ORDER BY\n",
        "            COUNT(rental.rental_id) ASC\n",
        "        LIMIT 1\n",
        "    )\n",
        "GROUP BY\n",
        "    store.store_id, film.title;\n",
        "\"**"
      ],
      "metadata": {
        "id": "OQmkuK4V4VBS"
      }
    },
    {
      "cell_type": "code",
      "source": [
        "import sqlite3\n",
        "import pandas as pd\n",
        "\n",
        "conn = sqlite3.connect('sqlite-sakila.db')\n",
        "\n",
        "df = {}\n",
        "for table_name in ['staff', 'rental', 'inventory', 'film', 'payment', 'store']:\n",
        "    query = f\"SELECT * FROM {table_name}\"\n",
        "    df[table_name] = pd.DataFrame(conn.execute(query).fetchall(),\n",
        "                                  columns=[column[0] for column in conn.execute(query).description])\n",
        "\n",
        "film_id_en_az_kiralanan = df['film'] \\\n",
        "    .merge(df['inventory'], on='film_id', suffixes=('', '_inv')) \\\n",
        "    .merge(df['rental'], on='inventory_id', suffixes=('', '_rental')) \\\n",
        "    .groupby('film_id')['rental_id'].count().idxmin()\n",
        "\n",
        "en_az_kiralanan_film_magaza = df['store'] \\\n",
        "    .merge(df['staff'], on='store_id', suffixes=('', '_staff')) \\\n",
        "    .merge(df['rental'], on='staff_id', suffixes=('', '_rental')) \\\n",
        "    .merge(df['inventory'], on='inventory_id', suffixes=('', '_inv')) \\\n",
        "    .merge(df['film'], on='film_id', suffixes=('', '_film')) \\\n",
        "    .loc[lambda x: x['film_id'] == film_id_en_az_kiralanan] \\\n",
        "    .groupby(['store_id', 'title']) \\\n",
        "    .agg(kiralama_sayisi=('rental_id', 'count')) \\\n",
        "    .reset_index() \\\n",
        "    .rename(columns={'store_id': 'magaza_id', 'title': 'film_adı', 'kiralama_sayisi': 'kiralama_sayısı'})\n",
        "\n",
        "print(en_az_kiralanan_film_magaza)\n",
        "\n",
        "conn.close()"
      ],
      "metadata": {
        "colab": {
          "base_uri": "https://localhost:8080/"
        },
        "id": "68CM3XVEp6dm",
        "outputId": "c7df9d6c-4956-4576-81c0-1e55064271db"
      },
      "execution_count": null,
      "outputs": [
        {
          "output_type": "stream",
          "name": "stdout",
          "text": [
            "   magaza_id        film_adı  kiralama_sayısı\n",
            "0          1  HARDLY ROBBERS                1\n",
            "1          2  HARDLY ROBBERS                3\n"
          ]
        }
      ]
    },
    {
      "cell_type": "markdown",
      "source": [
        "**Soru 49: En çok kazanç sağlayan film hangi mağazada kiralanmış?  ==>  \"SQL:\n",
        "SELECT\n",
        "    store.store_id,\n",
        "    film.title,\n",
        "    SUM(payment.amount) AS total_revenue\n",
        "FROM\n",
        "    store\n",
        "JOIN\n",
        "    staff ON store.store_id = staff.store_id\n",
        "JOIN\n",
        "    rental ON staff.staff_id = rental.staff_id\n",
        "JOIN\n",
        "    inventory ON rental.inventory_id = inventory.inventory_id\n",
        "JOIN\n",
        "    film ON inventory.film_id = film.film_id\n",
        "JOIN\n",
        "    payment ON rental.rental_id = payment.rental_id\n",
        "WHERE\n",
        "    film.film_id = (\n",
        "        SELECT\n",
        "            film.film_id\n",
        "        FROM\n",
        "            film\n",
        "        JOIN\n",
        "            inventory ON film.film_id = inventory.film_id\n",
        "        JOIN\n",
        "            rental ON inventory.inventory_id = rental.inventory_id\n",
        "        JOIN\n",
        "            payment ON rental.rental_id = payment.rental_id\n",
        "        GROUP BY\n",
        "            film.film_id\n",
        "        ORDER BY\n",
        "            SUM(payment.amount) DESC\n",
        "        LIMIT 1\n",
        "    )\n",
        "GROUP BY\n",
        "    store.store_id, film.title;\n",
        "\"**"
      ],
      "metadata": {
        "id": "2FF-2s9B4VU6"
      }
    },
    {
      "cell_type": "code",
      "source": [
        "import sqlite3\n",
        "import pandas as pd\n",
        "\n",
        "conn = sqlite3.connect('sqlite-sakila.db')\n",
        "\n",
        "df = {}\n",
        "for table_name in ['staff', 'rental', 'inventory', 'film', 'payment', 'store']:\n",
        "    query = f\"SELECT * FROM {table_name}\"\n",
        "    df[table_name] = pd.DataFrame(conn.execute(query).fetchall(),\n",
        "                                  columns=[column[0] for column in conn.execute(query).description])\n",
        "\n",
        "film_id_en_cok_kazanc = df['film'] \\\n",
        "    .merge(df['inventory'], on='film_id', suffixes=('', '_inv')) \\\n",
        "    .merge(df['rental'], on='inventory_id', suffixes=('', '_rental')) \\\n",
        "    .merge(df['payment'], on='rental_id', suffixes=('', '_payment')) \\\n",
        "    .groupby('film_id')['amount'].sum().idxmax()\n",
        "\n",
        "en_cok_kazanc_saglayan_film_magaza = df['store'] \\\n",
        "    .merge(df['staff'], on='store_id', suffixes=('', '_staff')) \\\n",
        "    .merge(df['rental'], on='staff_id', suffixes=('', '_rental')) \\\n",
        "    .merge(df['inventory'], on='inventory_id', suffixes=('', '_inv')) \\\n",
        "    .merge(df['film'], on='film_id', suffixes=('', '_film')) \\\n",
        "    .merge(df['payment'], on='rental_id', suffixes=('', '_payment')) \\\n",
        "    .loc[lambda x: x['film_id'] == film_id_en_cok_kazanc] \\\n",
        "    .groupby(['store_id', 'title']) \\\n",
        "    .agg(toplam_gelir=('amount', 'sum')) \\\n",
        "    .reset_index() \\\n",
        "    .rename(columns={'store_id': 'magaza_id', 'title': 'film_adı', 'toplam_gelir': 'toplam_gelir'})\n",
        "\n",
        "print(en_cok_kazanc_saglayan_film_magaza)\n",
        "\n",
        "conn.close()"
      ],
      "metadata": {
        "colab": {
          "base_uri": "https://localhost:8080/"
        },
        "id": "xjUypH4ip7Me",
        "outputId": "af47c01e-d6e5-43ea-86af-7042966c9786"
      },
      "execution_count": null,
      "outputs": [
        {
          "output_type": "stream",
          "name": "stdout",
          "text": [
            "   magaza_id          film_adı  toplam_gelir\n",
            "0          1  TELEGRAPH VOYAGE         83.90\n",
            "1          2  TELEGRAPH VOYAGE        147.83\n"
          ]
        }
      ]
    },
    {
      "cell_type": "markdown",
      "source": [
        "**Soru 50: En az kazanç sağlayan film hangi mağazada kiralanmış?  ==>  \"SQL:\n",
        "SELECT\n",
        "    store.store_id,\n",
        "    film.title,\n",
        "    SUM(payment.amount) AS total_revenue\n",
        "FROM\n",
        "    store\n",
        "JOIN\n",
        "    staff ON store.store_id = staff.store_id\n",
        "JOIN\n",
        "    rental ON staff.staff_id = rental.staff_id\n",
        "JOIN\n",
        "    inventory ON rental.inventory_id = inventory.inventory_id\n",
        "JOIN\n",
        "    film ON inventory.film_id = film.film_id\n",
        "JOIN\n",
        "    payment ON rental.rental_id = payment.rental_id\n",
        "WHERE\n",
        "    film.film_id = (\n",
        "        SELECT\n",
        "            film.film_id\n",
        "        FROM\n",
        "            film\n",
        "        JOIN\n",
        "            inventory ON film.film_id = inventory.film_id\n",
        "        JOIN\n",
        "            rental ON inventory.inventory_id = rental.inventory_id\n",
        "        JOIN\n",
        "            payment ON rental.rental_id = payment.rental_id\n",
        "        GROUP BY\n",
        "            film.film_id\n",
        "        ORDER BY\n",
        "            SUM(payment.amount) ASC\n",
        "        LIMIT 1\n",
        "    )\n",
        "GROUP BY\n",
        "    store.store_id, film.title;\n",
        "\"**"
      ],
      "metadata": {
        "id": "MA_azZz_4Vr4"
      }
    },
    {
      "cell_type": "code",
      "source": [
        "import sqlite3\n",
        "import pandas as pd\n",
        "\n",
        "conn = sqlite3.connect('sqlite-sakila.db')\n",
        "\n",
        "df = {}\n",
        "for table_name in ['staff', 'rental', 'inventory', 'film', 'payment', 'store']:\n",
        "    query = f\"SELECT * FROM {table_name}\"\n",
        "    df[table_name] = pd.DataFrame(conn.execute(query).fetchall(),\n",
        "                                  columns=[column[0] for column in conn.execute(query).description])\n",
        "\n",
        "film_id_en_az_kazanc = df['film'] \\\n",
        "    .merge(df['inventory'], on='film_id', suffixes=('', '_inv')) \\\n",
        "    .merge(df['rental'], on='inventory_id', suffixes=('', '_rental')) \\\n",
        "    .merge(df['payment'], on='rental_id', suffixes=('', '_payment')) \\\n",
        "    .groupby('film_id')['amount'].sum().idxmin()\n",
        "\n",
        "en_az_kazanc_saglayan_film_magaza = df['store'] \\\n",
        "    .merge(df['staff'], on='store_id', suffixes=('', '_staff')) \\\n",
        "    .merge(df['rental'], on='staff_id', suffixes=('', '_rental')) \\\n",
        "    .merge(df['inventory'], on='inventory_id', suffixes=('', '_inv')) \\\n",
        "    .merge(df['film'], on='film_id', suffixes=('', '_film')) \\\n",
        "    .merge(df['payment'], on='rental_id', suffixes=('', '_payment')) \\\n",
        "    .loc[lambda x: x['film_id'] == film_id_en_az_kazanc] \\\n",
        "    .groupby(['store_id', 'title']) \\\n",
        "    .agg(toplam_gelir=('amount', 'sum')) \\\n",
        "    .reset_index() \\\n",
        "    .rename(columns={'store_id': 'magaza_id', 'title': 'film_adı', 'toplam_gelir': 'toplam_gelir'})\n",
        "\n",
        "print(en_az_kazanc_saglayan_film_magaza)\n",
        "\n",
        "conn.close()"
      ],
      "metadata": {
        "colab": {
          "base_uri": "https://localhost:8080/"
        },
        "id": "NscyAGPFp77m",
        "outputId": "1cb17a34-ff39-4c0d-8c1e-117a56c08a49"
      },
      "execution_count": null,
      "outputs": [
        {
          "output_type": "stream",
          "name": "stdout",
          "text": [
            "   magaza_id          film_adı  toplam_gelir\n",
            "0          1  OKLAHOMA JUMANJI          3.96\n",
            "1          2  OKLAHOMA JUMANJI          1.98\n"
          ]
        }
      ]
    },
    {
      "cell_type": "markdown",
      "source": [
        "**Soru 51: Müşterilerin kiraladıkları filmlerin toplam kiralama süresi ne kadar?  ==>  \"SQL: SELECT\n",
        "    customer.first_name,\n",
        "    customer.last_name,\n",
        "    SUM(julianday(rental.return_date) - julianday(rental.rental_date)) AS total_rental_duration\n",
        "FROM\n",
        "    customer\n",
        "JOIN\n",
        "    rental ON customer.customer_id = rental.customer_id\n",
        "GROUP BY\n",
        "    customer.first_name, customer.last_name;\n",
        "\"**"
      ],
      "metadata": {
        "id": "55Qo-5Hr4WHR"
      }
    },
    {
      "cell_type": "code",
      "source": [
        "import sqlite3\n",
        "import pandas as pd\n",
        "\n",
        "# SQLite veritabanına bağlan\n",
        "conn = sqlite3.connect('sqlite-sakila.db')\n",
        "\n",
        "# Tabloları çek ve DataFrame olarak sakla\n",
        "df = {}\n",
        "for table_name in ['customer', 'rental']:\n",
        "    query = f\"SELECT * FROM {table_name}\"\n",
        "    df[table_name] = pd.DataFrame(conn.execute(query).fetchall(),\n",
        "                                  columns=[column[0] for column in conn.execute(query).description])\n",
        "\n",
        "# Tarih sütunlarını datetime formatına dönüştür\n",
        "df['rental']['rental_date'] = pd.to_datetime(df['rental']['rental_date'])\n",
        "df['rental']['return_date'] = pd.to_datetime(df['rental']['return_date'])\n",
        "\n",
        "# SQL sorgusunu uygula\n",
        "toplam_kiralama_suresi = df['customer'] \\\n",
        "    .merge(df['rental'], on='customer_id') \\\n",
        "    .groupby(['first_name', 'last_name']) \\\n",
        "    .agg(total_rental_duration=('rental_id', lambda x: (df['rental']['return_date'][x.index] - df['rental']['rental_date'][x.index]).sum().days)) \\\n",
        "    .reset_index()\n",
        "\n",
        "# Sonucu yazdır\n",
        "print(\"\\nToplam Kiralama Süresi (gün):\")\n",
        "print(toplam_kiralama_suresi)\n",
        "\n",
        "# Veritabanı bağlantısını kapat\n",
        "conn.close()\n"
      ],
      "metadata": {
        "colab": {
          "base_uri": "https://localhost:8080/"
        },
        "id": "r0WfsSBnq4KT",
        "outputId": "67c6a217-73c0-404d-ba39-70eb7e00e4b5"
      },
      "execution_count": null,
      "outputs": [
        {
          "output_type": "stream",
          "name": "stdout",
          "text": [
            "\n",
            "Toplam Kiralama Süresi (gün):\n",
            "    first_name last_name  total_rental_duration\n",
            "0        AARON     SELBY                    121\n",
            "1         ADAM     GOOCH                    102\n",
            "2       ADRIAN     CLARY                     95\n",
            "3        AGNES    BISHOP                     96\n",
            "4         ALAN      KAHN                    128\n",
            "..         ...       ...                    ...\n",
            "594     WILLIE   MARKHAM                    136\n",
            "595      WILMA  RICHARDS                     95\n",
            "596    YOLANDA    WEAVER                    135\n",
            "597     YVONNE   WATKINS                    112\n",
            "598    ZACHARY      HITE                    146\n",
            "\n",
            "[599 rows x 3 columns]\n"
          ]
        }
      ]
    },
    {
      "cell_type": "markdown",
      "source": [
        "**Soru 52: En çok kiralanan türdeki filmler hangileri?  ==>  \"SQL:\n",
        "SELECT category.name AS genre, film.title, COUNT(rental.rental_id) AS rental_count FROM film\n",
        "JOIN film_category ON film.film_id\n",
        "-\n",
        "film_category.film_id\n",
        "=\n",
        "category.category_id\n",
        "JOIN category ON film_category.category_id\n",
        "JOIN inventory ON film.film_id = inventory.film_id\n",
        "JOIN rental ON inventory.inventory_id = rental.inventory_id\n",
        "GROUP BY genre, film.title\n",
        "ORDER BY rental_count DESC\n",
        "LIMIT 1;\"**"
      ],
      "metadata": {
        "id": "BcIpLwew4WhX"
      }
    },
    {
      "cell_type": "code",
      "source": [
        "import sqlite3\n",
        "import pandas as pd\n",
        "\n",
        "conn = sqlite3.connect('sqlite-sakila.db')\n",
        "\n",
        "df = {}\n",
        "for table_name in ['staff', 'rental', 'inventory', 'film', 'payment', 'store', 'customer', 'category', 'film_category']:\n",
        "    query = f\"SELECT * FROM {table_name}\"\n",
        "    df[table_name] = pd.DataFrame(conn.execute(query).fetchall(),\n",
        "                                  columns=[column[0] for column in conn.execute(query).description])\n",
        "\n",
        "en_cok_kiralanan_tur = df['film'] \\\n",
        "    .merge(df['film_category'], on='film_id', suffixes=('', '_fc')) \\\n",
        "    .merge(df['category'], on='category_id', suffixes=('', '_c')) \\\n",
        "    .merge(df['inventory'], on='film_id', suffixes=('', '_inv')) \\\n",
        "    .merge(df['rental'], on='inventory_id', suffixes=('', '_r')) \\\n",
        "    .groupby(['name', 'title']) \\\n",
        "    .agg(kiralama_sayısı=('rental_id', 'count')) \\\n",
        "    .reset_index() \\\n",
        "    .sort_values(by='kiralama_sayısı', ascending=False) \\\n",
        "    .head(1)\n",
        "\n",
        "print(\"\\nEn Çok Kiralanan Türdeki Film:\")\n",
        "print(en_cok_kiralanan_tur)\n",
        "\n",
        "conn.close()"
      ],
      "metadata": {
        "colab": {
          "base_uri": "https://localhost:8080/"
        },
        "id": "lu5QRLfErHEh",
        "outputId": "d64e7518-d26a-4b93-bd30-d54a55574154"
      },
      "execution_count": null,
      "outputs": [
        {
          "output_type": "stream",
          "name": "stdout",
          "text": [
            "\n",
            "En Çok Kiralanan Türdeki Film:\n",
            "       name               title  kiralama_sayısı\n",
            "909  Travel  BUCKET BROTHERHOOD               34\n"
          ]
        }
      ]
    },
    {
      "cell_type": "markdown",
      "source": [
        "**Soru 53: En az kiralanan türdeki filmler hangileri?  ==>  \"SQL:\n",
        "SELECT\n",
        "    category.name AS genre,\n",
        "    film.title,\n",
        "    COUNT(rental.rental_id) AS rental_count\n",
        "FROM\n",
        "    film\n",
        "JOIN\n",
        "    film_category ON film.film_id = film_category.film_id\n",
        "JOIN\n",
        "    category ON film_category.category_id = category.category_id\n",
        "JOIN\n",
        "    inventory ON film.film_id = inventory.film_id\n",
        "JOIN\n",
        "    rental ON inventory.inventory_id = rental.inventory_id\n",
        "GROUP BY\n",
        "    genre, film.title\n",
        "ORDER BY\n",
        "    rental_count ASC\n",
        "LIMIT 1;\n",
        "\"**"
      ],
      "metadata": {
        "id": "EL8GEDVj4W1i"
      }
    },
    {
      "cell_type": "code",
      "source": [
        "import sqlite3\n",
        "import pandas as pd\n",
        "\n",
        "# SQLite veritabanına bağlan\n",
        "conn = sqlite3.connect('sqlite-sakila.db')\n",
        "\n",
        "# Gerekli tabloları çek ve DataFrame olarak sakla\n",
        "df = {}\n",
        "for table_name in ['film', 'film_category', 'category', 'inventory', 'rental']:\n",
        "    query = f\"SELECT * FROM {table_name}\"\n",
        "    df[table_name] = pd.DataFrame(conn.execute(query).fetchall(),\n",
        "                                  columns=[column[0] for column in conn.execute(query).description])\n",
        "\n",
        "# DataFrame'ler arasında birleşim yap\n",
        "result = df['film'] \\\n",
        "    .merge(df['film_category'], on='film_id', suffixes=('', '_fc')) \\\n",
        "    .merge(df['category'], on='category_id', suffixes=('', '_c')) \\\n",
        "    .merge(df['inventory'], on='film_id', suffixes=('', '_inv')) \\\n",
        "    .merge(df['rental'], on='inventory_id', suffixes=('', '_r')) \\\n",
        "    .groupby(['name', 'title']) \\\n",
        "    .agg(rental_count=('rental_id', 'count')) \\\n",
        "    .reset_index() \\\n",
        "    .rename(columns={'name': 'genre'}) \\\n",
        "    .sort_values(by='rental_count', ascending=True) \\\n",
        "    .head(1)\n",
        "\n",
        "# Sonucu yazdır\n",
        "print(\"En Az Kiralanan Film:\")\n",
        "print(result)\n",
        "\n",
        "# Veritabanı bağlantısını kapat\n",
        "conn.close()\n"
      ],
      "metadata": {
        "colab": {
          "base_uri": "https://localhost:8080/"
        },
        "id": "y-0zHa_5rf-Z",
        "outputId": "68f99a79-56d3-4725-b69f-53e2998fa65e"
      },
      "execution_count": null,
      "outputs": [
        {
          "output_type": "stream",
          "name": "stdout",
          "text": [
            "En Az Kiralanan Film:\n",
            "           genre           title  rental_count\n",
            "315  Documentary  HARDLY ROBBERS             4\n"
          ]
        }
      ]
    },
    {
      "cell_type": "markdown",
      "source": [
        "**Soru 54: Her müşteri için toplam ödeme miktarını bulun.  ==>  \"SQL:\n",
        "SELECT\n",
        "    customer.first_name,\n",
        "    customer.last_name,\n",
        "    SUM(payment.amount) AS total_payment\n",
        "FROM\n",
        "    customer\n",
        "JOIN\n",
        "    rental ON customer.customer_id = rental.customer_id\n",
        "JOIN\n",
        "    payment ON rental.rental_id = payment.rental_id\n",
        "GROUP BY\n",
        "    customer.first_name, customer.last_name;\n",
        "\"**"
      ],
      "metadata": {
        "id": "Unme7ryV4XIr"
      }
    },
    {
      "cell_type": "code",
      "source": [
        "import sqlite3\n",
        "import pandas as pd\n",
        "\n",
        "\n",
        "conn = sqlite3.connect('sqlite-sakila.db')\n",
        "\n",
        "df = {}\n",
        "for table_name in ['staff', 'rental', 'inventory', 'film', 'payment', 'store', 'customer', 'category', 'film_category']:\n",
        "    query = f\"SELECT * FROM {table_name}\"\n",
        "    df[table_name] = pd.DataFrame(conn.execute(query).fetchall(),\n",
        "                                  columns=[column[0] for column in conn.execute(query).description])\n",
        "\n",
        "toplam_odeme = df['customer'] \\\n",
        "    .merge(df['rental'], on='customer_id') \\\n",
        "    .merge(df['payment'], on='rental_id') \\\n",
        "    .groupby(['first_name', 'last_name']) \\\n",
        "    .agg(toplam_odeme=('amount', 'sum')) \\\n",
        "    .reset_index()\n",
        "\n",
        "print(\"\\nHer Müşteri için Toplam Ödeme Miktarı:\")\n",
        "print(toplam_odeme)\n",
        "\n",
        "conn.close()"
      ],
      "metadata": {
        "colab": {
          "base_uri": "https://localhost:8080/"
        },
        "id": "2c4f4FyVrk7d",
        "outputId": "02a71e0e-310e-470b-c464-11572a59eab9"
      },
      "execution_count": null,
      "outputs": [
        {
          "output_type": "stream",
          "name": "stdout",
          "text": [
            "\n",
            "Her Müşteri için Toplam Ödeme Miktarı:\n",
            "    first_name last_name  toplam_odeme\n",
            "0        AARON     SELBY        110.76\n",
            "1         ADAM     GOOCH        101.78\n",
            "2       ADRIAN     CLARY         74.81\n",
            "3        AGNES    BISHOP         98.77\n",
            "4         ALAN      KAHN        124.74\n",
            "..         ...       ...           ...\n",
            "594     WILLIE   MARKHAM        101.75\n",
            "595      WILMA  RICHARDS         91.80\n",
            "596    YOLANDA    WEAVER        110.73\n",
            "597     YVONNE   WATKINS         92.79\n",
            "598    ZACHARY      HITE        146.69\n",
            "\n",
            "[599 rows x 3 columns]\n"
          ]
        }
      ]
    },
    {
      "cell_type": "markdown",
      "source": [
        "**Soru 55: Hangi filmler en uzun süre kiralanmış?  ==>  \"SQL: SELECT\n",
        "    film.title,\n",
        "    MAX(julianday(rental.return_date) - julianday(rental.rental_date)) AS max_rental_days\n",
        "FROM\n",
        "    film\n",
        "JOIN\n",
        "    inventory ON film.film_id = inventory.film_id\n",
        "JOIN\n",
        "    rental ON inventory.inventory_id = rental.inventory_id\n",
        "GROUP BY\n",
        "    film.title\n",
        "ORDER BY\n",
        "    max_rental_days DESC;\n",
        "\"**"
      ],
      "metadata": {
        "id": "WDqB0Wgs4Xd5"
      }
    },
    {
      "cell_type": "code",
      "source": [
        "import sqlite3\n",
        "import pandas as pd\n",
        "\n",
        "conn = sqlite3.connect('sqlite-sakila.db')\n",
        "\n",
        "df = {}\n",
        "for table_name in ['film', 'inventory', 'rental']:\n",
        "    query = f\"SELECT * FROM {table_name}\"\n",
        "    df[table_name] = pd.DataFrame(conn.execute(query).fetchall(),\n",
        "                                  columns=[column[0] for column in conn.execute(query).description])\n",
        "\n",
        "df['rental']['rental_date'] = pd.to_datetime(df['rental']['rental_date'])\n",
        "df['rental']['return_date'] = pd.to_datetime(df['rental']['return_date'])\n",
        "\n",
        "result = df['film'] \\\n",
        "    .merge(df['inventory'], on='film_id') \\\n",
        "    .merge(df['rental'], on='inventory_id') \\\n",
        "    .groupby('title') \\\n",
        "    .agg(max_rental_days=('rental_id', lambda x: (df['rental']['return_date'][x.index] - df['rental']['rental_date'][x.index]).max().days)) \\\n",
        "    .reset_index() \\\n",
        "    .sort_values(by='max_rental_days', ascending=False)\n",
        "\n",
        "print(\"Film Başlığı ve Maksimum Kiralama Süresi (Gün):\")\n",
        "print(result)\n",
        "\n",
        "conn.close()\n"
      ],
      "metadata": {
        "colab": {
          "base_uri": "https://localhost:8080/"
        },
        "id": "ST8ab2M3ruVt",
        "outputId": "8c009807-422e-4d45-c0d5-468a007ab7d1"
      },
      "execution_count": null,
      "outputs": [
        {
          "output_type": "stream",
          "name": "stdout",
          "text": [
            "Film Başlığı ve Maksimum Kiralama Süresi (Gün):\n",
            "                       title  max_rental_days\n",
            "0           ACADEMY DINOSAUR                9\n",
            "589           NATIONAL STORY                9\n",
            "557        MISSION ZOOLANDER                9\n",
            "559               MOB DUFFEL                9\n",
            "560    MOCKINGBIRD HOLLYWOOD                9\n",
            "..                       ...              ...\n",
            "341              GLORY TRACY                5\n",
            "280  EXTRAORDINARY CONQUERER                5\n",
            "378           HARDLY ROBBERS                4\n",
            "446         ISHTAR ROCKETEER                4\n",
            "451             JAPANESE RUN                3\n",
            "\n",
            "[958 rows x 2 columns]\n"
          ]
        }
      ]
    },
    {
      "cell_type": "markdown",
      "source": [
        "**Soru 56: Hangi filmler en kısa süre kiralanmış?  ==>  \"SQL: SELECT\n",
        "    film.title,\n",
        "    MIN(julianday(rental.return_date) - julianday(rental.rental_date)) AS min_rental_days\n",
        "FROM\n",
        "    film\n",
        "JOIN\n",
        "    inventory ON film.film_id = inventory.film_id\n",
        "JOIN\n",
        "    rental ON inventory.inventory_id = rental.inventory_id\n",
        "GROUP BY\n",
        "    film.title\n",
        "ORDER BY\n",
        "    min_rental_days ASC;\n",
        "\"**"
      ],
      "metadata": {
        "id": "0l3Redkl4XzZ"
      }
    },
    {
      "cell_type": "code",
      "source": [
        "# df sözlüğü kullanarak yapamadım\n",
        "import sqlite3\n",
        "import pandas as pd\n",
        "\n",
        "conn = sqlite3.connect('sqlite-sakila.db')\n",
        "\n",
        "query = \"\"\"\n",
        "SELECT\n",
        "    film.title,\n",
        "    MIN(julianday(rental.return_date) - julianday(rental.rental_date)) AS min_rental_days\n",
        "FROM\n",
        "    film\n",
        "JOIN\n",
        "    inventory ON film.film_id = inventory.film_id\n",
        "JOIN\n",
        "    rental ON inventory.inventory_id = rental.inventory_id\n",
        "GROUP BY\n",
        "    film.title\n",
        "ORDER BY\n",
        "    min_rental_days ASC;\n",
        "\"\"\"\n",
        "\n",
        "min_rental_days = pd.read_sql_query(query, conn)\n",
        "\n",
        "min_rental_days['min_rental_days'] = min_rental_days['min_rental_days'].round(5)\n",
        "\n",
        "print(\"\\nFilm Başlığı ve Minimum Kiralama Gün Sayısı:\")\n",
        "print(min_rental_days)\n",
        "\n",
        "conn.close()\n"
      ],
      "metadata": {
        "colab": {
          "base_uri": "https://localhost:8080/"
        },
        "id": "B4WvYWAvry3p",
        "outputId": "2ea080f7-6e3c-4d6a-e67d-0fc9c9afae63"
      },
      "execution_count": null,
      "outputs": [
        {
          "output_type": "stream",
          "name": "stdout",
          "text": [
            "\n",
            "Film Başlığı ve Minimum Kiralama Gün Sayısı:\n",
            "                 title  min_rental_days\n",
            "0    CURTAIN VIDEOTAPE          0.75000\n",
            "1      DISCIPLE MOTHER          0.75000\n",
            "2         ROAD ROXANNE          0.75069\n",
            "3       HEAVEN FREEDOM          0.75139\n",
            "4        KISSING DOLLS          0.75139\n",
            "..                 ...              ...\n",
            "953        MIXED DOORS          3.24097\n",
            "954         EARLY HOME          3.80764\n",
            "955    PANKY SUBMARINE          3.82708\n",
            "956         WAGON JAWS          3.85903\n",
            "957       ZHIVAGO CORE          3.87500\n",
            "\n",
            "[958 rows x 2 columns]\n"
          ]
        }
      ]
    },
    {
      "cell_type": "markdown",
      "source": [
        "**Soru 57: Müşterilerin kiraladığı filmler için ortalama ödeme miktarını bulun.   ==>  \"SQL:  \n",
        "SELECT customer.first_name, customer.last_name, AVG(payment.amount) AS avg_payment FROM customer\n",
        "JOIN rental ON customer.customer_id = rental.customer_id\n",
        "JOIN payment ON rental.rental_id = payment.rental_id\n",
        "GROUP BY customer.first_name, customer.last_name;\"**"
      ],
      "metadata": {
        "id": "E6eMgy094YJx"
      }
    },
    {
      "cell_type": "code",
      "source": [
        "import sqlite3\n",
        "import pandas as pd\n",
        "\n",
        "conn = sqlite3.connect('sqlite-sakila.db')\n",
        "\n",
        "df = {}\n",
        "for table_name in ['staff', 'rental', 'inventory', 'film', 'payment', 'store', 'customer', 'category', 'film_category']:\n",
        "    query = f\"SELECT * FROM {table_name}\"\n",
        "    df[table_name] = pd.DataFrame(conn.execute(query).fetchall(),\n",
        "                                  columns=[column[0] for column in conn.execute(query).description])\n",
        "\n",
        "avg_payment = df['customer'] \\\n",
        "    .merge(df['rental'], on='customer_id') \\\n",
        "    .merge(df['payment'], on='rental_id') \\\n",
        "    .groupby(['first_name', 'last_name'], as_index=False) \\\n",
        "    .agg(avg_payment=('amount', 'mean'))\n",
        "\n",
        "avg_payment['avg_payment'] = avg_payment['avg_payment'].round(5)\n",
        "\n",
        "print(\"\\nMüşteri Adı, Soyadı ve Ortalama Ödeme Miktarı:\")\n",
        "print(avg_payment)\n",
        "\n",
        "conn.close()\n"
      ],
      "metadata": {
        "colab": {
          "base_uri": "https://localhost:8080/"
        },
        "id": "Gk_cP2QLr5xd",
        "outputId": "929e952e-8331-4277-dc4c-923713f5b29d"
      },
      "execution_count": null,
      "outputs": [
        {
          "output_type": "stream",
          "name": "stdout",
          "text": [
            "\n",
            "Müşteri Adı, Soyadı ve Ortalama Ödeme Miktarı:\n",
            "    first_name last_name  avg_payment\n",
            "0        AARON     SELBY      4.61500\n",
            "1         ADAM     GOOCH      4.62636\n",
            "2       ADRIAN     CLARY      3.93737\n",
            "3        AGNES    BISHOP      4.29435\n",
            "4         ALAN      KAHN      4.79769\n",
            "..         ...       ...          ...\n",
            "594     WILLIE   MARKHAM      4.07000\n",
            "595      WILMA  RICHARDS      4.59000\n",
            "596    YOLANDA    WEAVER      4.10111\n",
            "597     YVONNE   WATKINS      4.41857\n",
            "598    ZACHARY      HITE      4.73194\n",
            "\n",
            "[599 rows x 3 columns]\n"
          ]
        }
      ]
    },
    {
      "cell_type": "markdown",
      "source": [
        "**Soru 58: En çok kiralanan filmlerin ortalama kiralama süresi nedir?  ==>  \"SQL: SELECT\n",
        "    film.title,\n",
        "    AVG(julianday(rental.return_date) - julianday(rental.rental_date)) AS avg_rental_days\n",
        "FROM\n",
        "    film\n",
        "JOIN\n",
        "    inventory ON film.film_id = inventory.film_id\n",
        "JOIN\n",
        "    rental ON inventory.inventory_id = rental.inventory_id\n",
        "GROUP BY\n",
        "    film.title\n",
        "ORDER BY\n",
        "    COUNT(rental.rental_id) DESC\n",
        "LIMIT 10;\n",
        "\"**"
      ],
      "metadata": {
        "id": "CFgiOfqXXlvF"
      }
    },
    {
      "cell_type": "code",
      "source": [
        "import sqlite3\n",
        "import pandas as pd\n",
        "\n",
        "conn = sqlite3.connect('sqlite-sakila.db')\n",
        "\n",
        "df = {}\n",
        "for table_name in ['staff', 'rental', 'inventory', 'film', 'payment', 'store', 'customer', 'category', 'film_category']:\n",
        "    query = f\"SELECT * FROM {table_name}\"\n",
        "    df[table_name] = pd.DataFrame(conn.execute(query).fetchall(),\n",
        "                                  columns=[column[0] for column in conn.execute(query).description])\n",
        "\n",
        "df['rental']['rental_date'] = pd.to_datetime(df['rental']['rental_date'])\n",
        "df['rental']['return_date'] = pd.to_datetime(df['rental']['return_date'])\n",
        "\n",
        "result = df['film'] \\\n",
        "    .merge(df['inventory'], on='film_id', suffixes=('', '_inv')) \\\n",
        "    .merge(df['rental'], on='inventory_id', suffixes=('', '_r')) \\\n",
        "    .assign(rental_days=lambda x: (x['return_date'] - x['rental_date']).dt.days) \\\n",
        "    .groupby('title') \\\n",
        "    .agg(avg_rental_days=('rental_days', 'mean'), rental_count=('rental_id', 'count')) \\\n",
        "    .reset_index() \\\n",
        "    .sort_values(by='rental_count') \\\n",
        "    .head(10)\n",
        "\n",
        "print(\"\\nEn Az Kiralanan İlk 10 Film:\")\n",
        "print(result[['title', 'avg_rental_days', 'rental_count']])\n",
        "\n",
        "conn.close()"
      ],
      "metadata": {
        "colab": {
          "base_uri": "https://localhost:8080/"
        },
        "id": "8XYqyJ36sEbs",
        "outputId": "f79c9ac7-19c4-4dbb-bb8f-206dfd5fe879"
      },
      "execution_count": null,
      "outputs": [
        {
          "output_type": "stream",
          "name": "stdout",
          "text": [
            "\n",
            "En Az Kiralanan İlk 10 Film:\n",
            "                  title  avg_rental_days  rental_count\n",
            "558         MIXED DOORS             5.75             4\n",
            "866         TRAIN BUNCH             3.00             4\n",
            "378      HARDLY ROBBERS             6.50             4\n",
            "585  MUSSOLINI SPOILERS             3.60             5\n",
            "315   FREEDOM CLEOPATRA             2.40             5\n",
            "669        PRIVATE DROP             4.20             5\n",
            "293        FEVER EMPIRE             5.20             5\n",
            "168   CONSPIRACY SPIRIT             3.60             5\n",
            "532     MANNEQUIN WORST             4.00             5\n",
            "435     INFORMER DOUBLE             2.80             5\n"
          ]
        }
      ]
    },
    {
      "cell_type": "markdown",
      "source": [
        "**Soru 59: En az kiralanan filmlerin ortalama kiralama süresi nedir?  ==>  \"SQL: SELECT\n",
        "    film.title,\n",
        "    AVG(julianday(rental.return_date) - julianday(rental.rental_date)) AS avg_rental_days\n",
        "FROM\n",
        "    film\n",
        "JOIN\n",
        "    inventory ON film.film_id = inventory.film_id\n",
        "JOIN\n",
        "    rental ON inventory.inventory_id = rental.inventory_id\n",
        "GROUP BY\n",
        "    film.title\n",
        "ORDER BY\n",
        "    COUNT(rental.rental_id) ASC\n",
        "LIMIT 10;\n",
        "\"**"
      ],
      "metadata": {
        "id": "zBySBaZp4YdH"
      }
    },
    {
      "cell_type": "code",
      "source": [
        "import sqlite3\n",
        "import pandas as pd\n",
        "\n",
        "conn = sqlite3.connect('sqlite-sakila.db')\n",
        "\n",
        "df = {}\n",
        "for table_name in ['staff', 'rental', 'inventory', 'film', 'payment', 'store', 'customer', 'category', 'film_category']:\n",
        "    query = f\"SELECT * FROM {table_name}\"\n",
        "    df[table_name] = pd.DataFrame(conn.execute(query).fetchall(),\n",
        "                                  columns=[column[0] for column in conn.execute(query).description])\n",
        "\n",
        "df['rental']['rental_date'] = pd.to_datetime(df['rental']['rental_date'])\n",
        "df['rental']['return_date'] = pd.to_datetime(df['rental']['return_date'])\n",
        "\n",
        "avg_rental_days = df['film'] \\\n",
        "    .merge(df['inventory'], on='film_id', suffixes=('', '_inv')) \\\n",
        "    .merge(df['rental'], on='inventory_id', suffixes=('', '_r')) \\\n",
        "    .assign(rental_days=lambda x: (x['return_date'] - x['rental_date']).dt.days) \\\n",
        "    .groupby('title') \\\n",
        "    .agg(avg_rental_days=('rental_days', 'mean'), rental_count=('rental_id', 'count')) \\\n",
        "    .reset_index() \\\n",
        "    .sort_values(by='rental_count') \\\n",
        "    .head(10)\n",
        "\n",
        "print(\"\\nEn Az Kiralanan İlk 10 Film:\")\n",
        "print(avg_rental_days[['title', 'avg_rental_days']])\n",
        "\n",
        "conn.close()"
      ],
      "metadata": {
        "colab": {
          "base_uri": "https://localhost:8080/"
        },
        "id": "bNJ-hQnasIsc",
        "outputId": "ceb6abb0-4590-468c-8ead-69ee43ca0276"
      },
      "execution_count": null,
      "outputs": [
        {
          "output_type": "stream",
          "name": "stdout",
          "text": [
            "\n",
            "En Az Kiralanan İlk 10 Film:\n",
            "                  title  avg_rental_days\n",
            "558         MIXED DOORS             5.75\n",
            "866         TRAIN BUNCH             3.00\n",
            "378      HARDLY ROBBERS             6.50\n",
            "585  MUSSOLINI SPOILERS             3.60\n",
            "315   FREEDOM CLEOPATRA             2.40\n",
            "669        PRIVATE DROP             4.20\n",
            "293        FEVER EMPIRE             5.20\n",
            "168   CONSPIRACY SPIRIT             3.60\n",
            "532     MANNEQUIN WORST             4.00\n",
            "435     INFORMER DOUBLE             2.80\n"
          ]
        }
      ]
    },
    {
      "cell_type": "markdown",
      "source": [
        "**Soru 60: En çok kazanç sağlayan müşterilerin ortalama ödeme miktarı nedir?   ==>  \"SQL:\n",
        "SELECT customer.first_name, customer.last_name, AVG(payment.amount) AS avg_payment FROM customer\n",
        "JOIN rental ON customer.customer_id = rental.customer_id\n",
        "JOIN payment ON rental.rental_id = payment.rental_id\n",
        "GROUP BY customer.first_name, customer.last_name\n",
        "ORDER BY SUM(payment.amount) DESC\n",
        "LIMIT 10;\"**"
      ],
      "metadata": {
        "id": "2zzHKZaN4Y9S"
      }
    },
    {
      "cell_type": "code",
      "source": [
        "import sqlite3\n",
        "import pandas as pd\n",
        "\n",
        "conn = sqlite3.connect('sqlite-sakila.db')\n",
        "\n",
        "df = {}\n",
        "for table_name in ['staff', 'rental', 'inventory', 'film', 'payment', 'store', 'customer', 'category', 'film_category']:\n",
        "    query = f\"SELECT * FROM {table_name}\"\n",
        "    df[table_name] = pd.DataFrame(conn.execute(query).fetchall(),\n",
        "                                  columns=[column[0] for column in conn.execute(query).description])\n",
        "\n",
        "avg_payments = df['customer'] \\\n",
        "    .merge(df['rental'], on='customer_id', suffixes=('', '_r')) \\\n",
        "    .merge(df['payment'], on='rental_id', suffixes=('', '_p')) \\\n",
        "    .groupby(['first_name', 'last_name']) \\\n",
        "    .agg(avg_payment=('amount', 'mean'), total_payment=('amount', 'sum')) \\\n",
        "    .reset_index() \\\n",
        "    .sort_values(by='total_payment', ascending=False) \\\n",
        "    .head(10)\n",
        "\n",
        "print(\"\\nEn Yüksek Toplam Ödemeye Sahip İlk 10 Müşteri:\")\n",
        "print(avg_payments[['first_name', 'last_name', 'avg_payment']])\n",
        "\n",
        "conn.close()"
      ],
      "metadata": {
        "colab": {
          "base_uri": "https://localhost:8080/"
        },
        "id": "qJqfxPgIsRiN",
        "outputId": "d3591f67-6911-473c-f668-35b32a39c719"
      },
      "execution_count": 7,
      "outputs": [
        {
          "output_type": "stream",
          "name": "stdout",
          "text": [
            "\n",
            "En Yüksek Toplam Ödemeye Sahip İlk 10 Müşteri:\n",
            "    first_name last_name  avg_payment\n",
            "318       KARL      SEAL     4.923333\n",
            "175    ELEANOR      HUNT     4.707391\n",
            "105      CLARA      SHAW     4.656667\n",
            "474     RHONDA   KENNEDY     4.990000\n",
            "389     MARION    SNYDER     4.990000\n",
            "556      TOMMY   COLLAZO     4.911053\n",
            "590     WESLEY      BULL     4.440000\n",
            "551        TIM      CARY     4.502821\n",
            "379     MARCIA      DEAN     4.180476\n",
            "21         ANA   BRADLEY     5.137059\n"
          ]
        }
      ]
    },
    {
      "cell_type": "markdown",
      "source": [
        "**Soru 61: En az kazanç sağlayan müşterilerin ortalama ödeme miktarı nedir?  ==>  \"SQL:\n",
        "SELECT customer.first_name, customer.last_name, AVG(payment.amount) AS avg_payment FROM customer\n",
        "JOIN rental ON customer.customer_id = rental.customer_id\n",
        "JOIN payment ON rental.rental_id = payment.rental_id\n",
        "GROUP BY customer.first_name, customer.last_name\n",
        "ORDER BY SUM(payment.amount) ASC\n",
        "LIMIT 10; \"**"
      ],
      "metadata": {
        "id": "P0H5TSPv4ZRI"
      }
    },
    {
      "cell_type": "code",
      "source": [
        "import sqlite3\n",
        "import pandas as pd\n",
        "\n",
        "conn = sqlite3.connect('sqlite-sakila.db')\n",
        "\n",
        "df = {}\n",
        "for table_name in ['customer', 'rental', 'payment']:\n",
        "    query = f\"SELECT * FROM {table_name}\"\n",
        "    df[table_name] = pd.DataFrame(conn.execute(query).fetchall(),\n",
        "                                 columns=[column[0] for column in conn.execute(query).description])\n",
        "\n",
        "result = (df['customer']\n",
        "          .merge(df['rental'], on='customer_id', how='inner')\n",
        "          .merge(df['payment'], on='rental_id', how='inner')\n",
        "          .groupby(['first_name', 'last_name'])\n",
        "          .agg(avg_payment=('amount', 'mean'), total_payment=('amount', 'sum'))\n",
        "          .reset_index()\n",
        "          .sort_values(by='total_payment', ascending=True)\n",
        "          .head(10))\n",
        "\n",
        "print(\"\\nEn Düşük Toplam Ödemeye Sahip İlk 10 Müşteri:\")\n",
        "print(result[['first_name', 'last_name', 'avg_payment']])\n",
        "\n",
        "conn.close()"
      ],
      "metadata": {
        "colab": {
          "base_uri": "https://localhost:8080/"
        },
        "id": "Cw9Qvk2-sbzF",
        "outputId": "24457552-de9c-4250-db63-8f301518ffcc"
      },
      "execution_count": 8,
      "outputs": [
        {
          "output_type": "stream",
          "name": "stdout",
          "text": [
            "\n",
            "En Düşük Toplam Ödemeye Sahip İlk 10 Müşteri:\n",
            "    first_name last_name  avg_payment\n",
            "83    CAROLINE    BOWMAN     3.390000\n",
            "351      LEONA    OBRIEN     3.632857\n",
            "71       BRIAN     WYMAN     4.406667\n",
            "296     JOHNNY    TURPIN     3.042632\n",
            "33       ANNIE   RUSSELL     3.267778\n",
            "319  KATHERINE    RIVERA     4.204286\n",
            "550    TIFFANY    JORDAN     4.275714\n",
            "28       ANITA   MORALES     4.190000\n",
            "401     MATTIE   HOFFMAN     2.944545\n",
            "334       KIRK   STCLAIR     3.411053\n"
          ]
        }
      ]
    },
    {
      "cell_type": "markdown",
      "source": [
        "**Soru 62: Mağazalardaki toplam kiralama süresini bulun.  ==>  \"SQL: SELECT\n",
        "    store.store_id,\n",
        "    SUM(julianday(rental.return_date) - julianday(rental.rental_date)) AS total_rental_days\n",
        "FROM\n",
        "    store\n",
        "JOIN\n",
        "    staff ON store.store_id = staff.store_id\n",
        "JOIN\n",
        "    rental ON staff.staff_id = rental.staff_id\n",
        "GROUP BY\n",
        "    store.store_id;\n",
        " \"**"
      ],
      "metadata": {
        "id": "jpo0osZU4ZhH"
      }
    },
    {
      "cell_type": "code",
      "source": [
        "import sqlite3\n",
        "import pandas as pd\n",
        "\n",
        "conn = sqlite3.connect('sqlite-sakila.db')\n",
        "\n",
        "df = {}\n",
        "for table_name in ['store', 'staff', 'rental']:\n",
        "    query = f\"SELECT * FROM {table_name}\"\n",
        "    df[table_name] = pd.DataFrame(conn.execute(query).fetchall(),\n",
        "                                 columns=[column[0] for column in conn.execute(query).description])\n",
        "\n",
        "df['rental']['rental_date'] = pd.to_datetime(df['rental']['rental_date'])\n",
        "df['rental']['return_date'] = pd.to_datetime(df['rental']['return_date'])\n",
        "\n",
        "df['rental']['rental_duration'] = (df['rental']['return_date'] - df['rental']['rental_date']).dt.days\n",
        "\n",
        "result = (df['store']\n",
        "          .merge(df['staff'], on='store_id', how='inner')\n",
        "          .merge(df['rental'], on='staff_id', how='inner')\n",
        "          .groupby('store_id')\n",
        "          .agg(total_rental_days=('rental_duration', 'sum'))\n",
        "          .reset_index())\n",
        "\n",
        "print(\"\\nHer Mağaza için Toplam Kiralama Günleri:\")\n",
        "print(result)\n",
        "\n",
        "conn.close()"
      ],
      "metadata": {
        "colab": {
          "base_uri": "https://localhost:8080/"
        },
        "id": "iy9qGMUcsfiB",
        "outputId": "f4215d3c-8e6f-4f3b-f982-f205a9ae497f"
      },
      "execution_count": 12,
      "outputs": [
        {
          "output_type": "stream",
          "name": "stdout",
          "text": [
            "\n",
            "Her Mağaza için Toplam Kiralama Günleri:\n",
            "   store_id  total_rental_days\n",
            "0         1            35897.0\n",
            "1         2            35889.0\n"
          ]
        }
      ]
    },
    {
      "cell_type": "markdown",
      "source": [
        "**Soru 63: En uzun süre kiralanan film hangi mağazada kiralanmış?  ==>  \"SQL: SELECT\n",
        "    store.store_id,\n",
        "    film.title,\n",
        "    MAX(julianday(rental.return_date) - julianday(rental.rental_date)) AS max_rental_days\n",
        "FROM\n",
        "    store\n",
        "JOIN\n",
        "    staff ON store.store_id = staff.store_id\n",
        "JOIN\n",
        "    rental ON staff.staff_id = rental.staff_id\n",
        "JOIN\n",
        "    inventory ON rental.inventory_id = inventory.inventory_id\n",
        "JOIN\n",
        "    film ON inventory.film_id = film.film_id\n",
        "GROUP BY\n",
        "    store.store_id, film.title\n",
        "ORDER BY\n",
        "    max_rental_days DESC\n",
        "LIMIT 1;\n",
        " \"**"
      ],
      "metadata": {
        "id": "jlolwoSm4Z0W"
      }
    },
    {
      "cell_type": "code",
      "source": [
        "import sqlite3\n",
        "import pandas as pd\n",
        "\n",
        "conn = sqlite3.connect('sqlite-sakila.db')\n",
        "\n",
        "df = {}\n",
        "for table_name in ['store', 'staff', 'rental', 'inventory', 'film']:\n",
        "    query = f\"SELECT * FROM {table_name}\"\n",
        "    df[table_name] = pd.DataFrame(conn.execute(query).fetchall(),\n",
        "                                 columns=[column[0] for column in conn.execute(query).description])\n",
        "\n",
        "df['rental']['rental_date'] = pd.to_datetime(df['rental']['rental_date'])\n",
        "df['rental']['return_date'] = pd.to_datetime(df['rental']['return_date'])\n",
        "\n",
        "df['rental']['rental_duration'] = (df['rental']['return_date'] - df['rental']['rental_date']).dt.days\n",
        "\n",
        "result = (df['store']\n",
        "          .merge(df['staff'], on='store_id', how='inner', suffixes=('', '_staff'))\n",
        "          .merge(df['rental'], on='staff_id', how='inner', suffixes=('', '_rental'))\n",
        "          .merge(df['inventory'], on='inventory_id', how='inner', suffixes=('', '_inventory'))\n",
        "          .merge(df['film'], on='film_id', how='inner', suffixes=('', '_film'))\n",
        "          .groupby(['store_id', 'title'])\n",
        "          .agg(max_rental_days=('rental_duration', 'max'))\n",
        "          .reset_index()\n",
        "          .sort_values(by='max_rental_days', ascending=False)\n",
        "          .head(1))\n",
        "\n",
        "print(\"\\nEn Uzun Kiralama Günlerine Sahip Film ve Mağaza:\")\n",
        "print(result)\n",
        "\n",
        "conn.close()"
      ],
      "metadata": {
        "colab": {
          "base_uri": "https://localhost:8080/"
        },
        "id": "lq8Ekc7fsjJI",
        "outputId": "88e9d727-113d-45c8-e2af-05c38cbfff64"
      },
      "execution_count": 15,
      "outputs": [
        {
          "output_type": "stream",
          "name": "stdout",
          "text": [
            "\n",
            "En Uzun Kiralama Günlerine Sahip Film ve Mağaza:\n",
            "   store_id             title  max_rental_days\n",
            "0         1  ACADEMY DINOSAUR              9.0\n"
          ]
        }
      ]
    },
    {
      "cell_type": "markdown",
      "source": [
        "**Soru 64: En kısa süre kiralanan film hangi mağazada kiralanmış?  ==>  \"SQL: SELECT\n",
        "    store.store_id,\n",
        "    film.title,\n",
        "    MIN(julianday(rental.return_date) - julianday(rental.rental_date)) AS min_rental_days\n",
        "FROM\n",
        "    store\n",
        "JOIN\n",
        "    staff ON store.store_id = staff.store_id\n",
        "JOIN\n",
        "    rental ON staff.staff_id = rental.staff_id\n",
        "JOIN\n",
        "    inventory ON rental.inventory_id = inventory.inventory_id\n",
        "JOIN\n",
        "    film ON inventory.film_id = film.film_id\n",
        "GROUP BY\n",
        "    store.store_id, film.title\n",
        "ORDER BY\n",
        "    min_rental_days ASC\n",
        "LIMIT 1;\n",
        "\"**"
      ],
      "metadata": {
        "id": "TjYb0SNt4aJF"
      }
    },
    {
      "cell_type": "code",
      "source": [
        "import sqlite3\n",
        "import pandas as pd\n",
        "\n",
        "conn = sqlite3.connect('sqlite-sakila.db')\n",
        "cursor = conn.cursor()\n",
        "\n",
        "query = \"\"\"\n",
        "SELECT\n",
        "    store.store_id,\n",
        "    film.title,\n",
        "    MIN(julianday(rental.return_date) - julianday(rental.rental_date)) AS min_rental_days\n",
        "FROM\n",
        "    store\n",
        "JOIN\n",
        "    staff ON store.store_id = staff.store_id\n",
        "JOIN\n",
        "    rental ON staff.staff_id = rental.staff_id\n",
        "JOIN\n",
        "    inventory ON rental.inventory_id = inventory.inventory_id\n",
        "JOIN\n",
        "    film ON inventory.film_id = film.film_id\n",
        "GROUP BY\n",
        "    store.store_id, film.title\n",
        "ORDER BY\n",
        "    min_rental_days ASC\n",
        "LIMIT 1;\n",
        "\"\"\"\n",
        "\n",
        "cursor.execute(query)\n",
        "result = cursor.fetchall()\n",
        "\n",
        "for row in result:\n",
        "    store_id = row[0]\n",
        "    title = row[1]\n",
        "    min_rental_days = f\"{row[2]:.5f}\"\n",
        "    print(f\"Store ID: {store_id}, Film Title: {title}, Min Rental Days: {min_rental_days}\")\n",
        "\n",
        "conn.close()\n"
      ],
      "metadata": {
        "colab": {
          "base_uri": "https://localhost:8080/"
        },
        "id": "LTYQIulmso1R",
        "outputId": "d02c1f40-bcad-4df2-b7f9-837bd691a2f5"
      },
      "execution_count": 18,
      "outputs": [
        {
          "output_type": "stream",
          "name": "stdout",
          "text": [
            "Store ID: 2, Film Title: CURTAIN VIDEOTAPE, Min Rental Days: 0.75000\n"
          ]
        }
      ]
    },
    {
      "cell_type": "markdown",
      "source": [
        "**Soru 65: Her filmin ortalama kiralama süresi nedir?  ==>  \"SQL: SELECT\n",
        "    film.title,\n",
        "    AVG(julianday(rental.return_date) - julianday(rental.rental_date)) AS average_rental_days\n",
        "FROM\n",
        "    film\n",
        "JOIN\n",
        "    inventory ON film.film_id = inventory.film_id\n",
        "JOIN\n",
        "    rental ON inventory.inventory_id = rental.inventory_id\n",
        "GROUP BY\n",
        "    film.title;\n",
        "\"**"
      ],
      "metadata": {
        "id": "vGQB1TOi4aY1"
      }
    },
    {
      "cell_type": "code",
      "source": [
        "import sqlite3\n",
        "import pandas as pd\n",
        "\n",
        "conn = sqlite3.connect('sqlite-sakila.db')\n",
        "\n",
        "df = {}\n",
        "for table_name in ['film', 'inventory', 'rental']:\n",
        "    query = f\"SELECT * FROM {table_name}\"\n",
        "    df[table_name] = pd.DataFrame(conn.execute(query).fetchall(),\n",
        "                                  columns=[column[0] for column in conn.execute(query).description])\n",
        "\n",
        "ortalama_kiralama_suresi = df['film'] \\\n",
        "    .merge(df['inventory'], on='film_id') \\\n",
        "    .merge(df['rental'], on='inventory_id') \\\n",
        "    .assign(kiralama_suresi=lambda x: (pd.to_datetime(x['return_date']) - pd.to_datetime(x['rental_date'])).dt.days) \\\n",
        "    .groupby('title') \\\n",
        "    .agg(ortalama_kiralama_gunleri=('kiralama_suresi', 'mean')) \\\n",
        "    .reset_index()\n",
        "\n",
        "print(\"\\nHer Filmin Ortalama Kiralama Süresi:\")\n",
        "print(ortalama_kiralama_suresi)\n",
        "\n",
        "conn.close()"
      ],
      "metadata": {
        "colab": {
          "base_uri": "https://localhost:8080/"
        },
        "id": "LcOWG8Vvs1Xt",
        "outputId": "07c409c5-5d2c-4fd7-a500-f73cb3073a07"
      },
      "execution_count": null,
      "outputs": [
        {
          "output_type": "stream",
          "name": "stdout",
          "text": [
            "\n",
            "Her Filmin Ortalama Kiralama Süresi:\n",
            "                 title  ortalama_kiralama_gunleri\n",
            "0     ACADEMY DINOSAUR                   4.545455\n",
            "1       ACE GOLDFINGER                   5.333333\n",
            "2     ADAPTATION HOLES                   2.833333\n",
            "3     AFFAIR PREJUDICE                   4.363636\n",
            "4          AFRICAN EGG                   6.727273\n",
            "..                 ...                        ...\n",
            "953     YOUNG LANGUAGE                   4.000000\n",
            "954         YOUTH KICK                   4.666667\n",
            "955       ZHIVAGO CORE                   5.250000\n",
            "956  ZOOLANDER FICTION                   5.176471\n",
            "957          ZORRO ARK                   4.096774\n",
            "\n",
            "[958 rows x 2 columns]\n"
          ]
        }
      ]
    },
    {
      "cell_type": "markdown",
      "source": [
        "**Soru 66: Hangi filmler en çok kiralanan kategoride?  ==>  \"SQL:\n",
        "SELECT category.name AS genre, film.title, COUNT(rental.rental_id) AS rental_count FROM category\n",
        "JOIN film_category ON category.category_id = film_category.category_id\n",
        "JOIN film ON film_category.film_id = film.film_id\n",
        "JOIN inventory ON film.film_id - inventory.film_id\n",
        "JOIN rental ON inventory.inventory_id = rental.inventory_id\n",
        "GROUP BY genre, film.title\n",
        "ORDER BY rental_count DESC;\"**"
      ],
      "metadata": {
        "id": "wpGIt_pg4arc"
      }
    },
    {
      "cell_type": "code",
      "source": [
        "import sqlite3\n",
        "import pandas as pd\n",
        "\n",
        "conn = sqlite3.connect('sqlite-sakila.db')\n",
        "\n",
        "df = {}\n",
        "for table_name in ['category', 'film_category', 'film', 'inventory', 'rental']:\n",
        "    query = f\"SELECT * FROM {table_name}\"\n",
        "    df[table_name] = pd.DataFrame(conn.execute(query).fetchall(),\n",
        "                                 columns=[column[0] for column in conn.execute(query).description])\n",
        "\n",
        "result = (df['category']\n",
        "          .merge(df['film_category'], on='category_id', how='inner', suffixes=('', '_film_category'))\n",
        "          .merge(df['film'], on='film_id', how='inner', suffixes=('', '_film'))\n",
        "          .merge(df['inventory'], on='film_id', how='inner', suffixes=('', '_inventory'))\n",
        "          .merge(df['rental'], on='inventory_id', how='inner', suffixes=('', '_rental'))\n",
        "          .groupby(['name', 'title'])\n",
        "          .agg(rental_count=('rental_id', 'count'))\n",
        "          .reset_index()\n",
        "          .sort_values(by='rental_count', ascending=False))\n",
        "\n",
        "print(\"\\nHer Film ve Tür için Kiralama Sayısı:\")\n",
        "print(result)\n",
        "\n",
        "conn.close()"
      ],
      "metadata": {
        "colab": {
          "base_uri": "https://localhost:8080/"
        },
        "id": "7UwiZagks5fx",
        "outputId": "1a74bdb3-04e9-4239-e73c-9e33c1d19072"
      },
      "execution_count": 20,
      "outputs": [
        {
          "output_type": "stream",
          "name": "stdout",
          "text": [
            "\n",
            "Her Film ve Tür için Kiralama Sayısı:\n",
            "            name                title  rental_count\n",
            "909       Travel   BUCKET BROTHERHOOD            34\n",
            "536      Foreign     ROCKETEER MOTHER            33\n",
            "757          New  RIDGEMONT SUBMARINE            32\n",
            "572        Games       GRIT CLOCKWORK            32\n",
            "93     Animation       JUGGLER HARDLY            32\n",
            "..           ...                  ...           ...\n",
            "513      Foreign      INFORMER DOUBLE             5\n",
            "570        Games          GLORY TRACY             5\n",
            "656       Horror          TRAIN BUNCH             4\n",
            "525      Foreign          MIXED DOORS             4\n",
            "315  Documentary       HARDLY ROBBERS             4\n",
            "\n",
            "[958 rows x 3 columns]\n"
          ]
        }
      ]
    },
    {
      "cell_type": "markdown",
      "source": [
        "**Soru 67: Hangi filmler en az kiralanan kategoride?  ==>  \"SQL:\n",
        "SELECT category.name AS genre, film.title, COUNT(rental.rental_id) AS rental_count FROM category\n",
        "JOIN film_category ON category.category_id = film_category.category_id\n",
        "JOIN film ON film_category.film_id = film.film_id\n",
        "JOIN inventory ON film.film_id - inventory.film_id\n",
        "JOIN rental ON inventory.inventory_id = rental.inventory_id\n",
        "GROUP BY genre, film.title\n",
        "ORDER BY rental_count ASC;\"**"
      ],
      "metadata": {
        "id": "uHXrKupg66Ut"
      }
    },
    {
      "cell_type": "code",
      "source": [
        "import sqlite3\n",
        "import pandas as pd\n",
        "\n",
        "conn = sqlite3.connect('sqlite-sakila.db')\n",
        "\n",
        "df = {}\n",
        "for table_name in ['category', 'film_category', 'film', 'inventory', 'rental']:\n",
        "    query = f\"SELECT * FROM {table_name}\"\n",
        "    df[table_name] = pd.DataFrame(conn.execute(query).fetchall(),\n",
        "                                 columns=[column[0] for column in conn.execute(query).description])\n",
        "\n",
        "result = (df['category']\n",
        "          .merge(df['film_category'], on='category_id', how='inner', suffixes=('', '_film_category'))\n",
        "          .merge(df['film'], on='film_id', how='inner', suffixes=('', '_film'))\n",
        "          .merge(df['inventory'], on='film_id', how='inner', suffixes=('', '_inventory'))\n",
        "          .merge(df['rental'], on='inventory_id', how='inner', suffixes=('', '_rental'))\n",
        "          .groupby(['name', 'title'])\n",
        "          .agg(rental_count=('rental_id', 'count'))\n",
        "          .reset_index()\n",
        "          .sort_values(by='rental_count', ascending=True))\n",
        "\n",
        "print(\"\\nHer Film ve Tür için Kiralama Sayısı:\")\n",
        "print(result)\n",
        "\n",
        "conn.close()"
      ],
      "metadata": {
        "colab": {
          "base_uri": "https://localhost:8080/"
        },
        "id": "RYgNyuPFtDsP",
        "outputId": "352b5339-bfb0-4d97-f5d2-155dd3c69eba"
      },
      "execution_count": 21,
      "outputs": [
        {
          "output_type": "stream",
          "name": "stdout",
          "text": [
            "\n",
            "Her Film ve Tür için Kiralama Sayısı:\n",
            "            name                title  rental_count\n",
            "315  Documentary       HARDLY ROBBERS             4\n",
            "525      Foreign          MIXED DOORS             4\n",
            "656       Horror          TRAIN BUNCH             4\n",
            "746          New      MANNEQUIN WORST             5\n",
            "566        Games         FEVER EMPIRE             5\n",
            "..           ...                  ...           ...\n",
            "572        Games       GRIT CLOCKWORK            32\n",
            "568        Games       FORWARD TEMPLE            32\n",
            "757          New  RIDGEMONT SUBMARINE            32\n",
            "536      Foreign     ROCKETEER MOTHER            33\n",
            "909       Travel   BUCKET BROTHERHOOD            34\n",
            "\n",
            "[958 rows x 3 columns]\n"
          ]
        }
      ]
    },
    {
      "cell_type": "markdown",
      "source": [
        "**Soru 68: Hangi mağazalarda en çok film kiralanmış? ==>  \"SQL:\n",
        "SELECT store.store_id, COUNT(rental.rental_id) AS rental_count\n",
        "FROM store\n",
        "JOIN staff ON store.store_id = staff.store_id\n",
        "JOIN rental ON staff.staff_id = rental.staff_id GROUP BY store.store_id\n",
        "ORDER BY rental_count DESC;\"**"
      ],
      "metadata": {
        "id": "udrPxmXH66pc"
      }
    },
    {
      "cell_type": "code",
      "source": [
        "import sqlite3\n",
        "import pandas as pd\n",
        "\n",
        "\n",
        "conn = sqlite3.connect('sqlite-sakila.db')\n",
        "\n",
        "df = {}\n",
        "for table_name in ['category', 'film_category', 'film', 'inventory', 'rental']:\n",
        "    query = f\"SELECT * FROM {table_name}\"\n",
        "    df[table_name] = pd.DataFrame(conn.execute(query).fetchall(),\n",
        "                                  columns=[column[0] for column in conn.execute(query).description])\n",
        "\n",
        "toplam_kiralama_kategorisi = df['category'] \\\n",
        "    .merge(df['film_category'], on='category_id', suffixes=('', '_film_category')) \\\n",
        "    .merge(df['film'], on='film_id', suffixes=('', '_film')) \\\n",
        "    .merge(df['inventory'], on='film_id', suffixes=('', '_inventory')) \\\n",
        "    .merge(df['rental'], on='inventory_id', suffixes=('', '_rental')) \\\n",
        "    .groupby('name') \\\n",
        "    .agg(toplam_kiralama_sayisi=('rental_id', 'count')) \\\n",
        "    .reset_index() \\\n",
        "    .sort_values(by='toplam_kiralama_sayisi', ascending=False)\n",
        "\n",
        "print(\"\\nHer Bir Film Kategorisi İçin Toplam Kiralama Sayısı:\")\n",
        "print(toplam_kiralama_kategorisi)\n",
        "\n",
        "conn.close()"
      ],
      "metadata": {
        "colab": {
          "base_uri": "https://localhost:8080/"
        },
        "id": "gG8yIdSJtIcf",
        "outputId": "967dab87-63e2-45cd-dcec-c5ff773f9185"
      },
      "execution_count": null,
      "outputs": [
        {
          "output_type": "stream",
          "name": "stdout",
          "text": [
            "\n",
            "Her Bir Film Kategorisi İçin Toplam Kiralama Sayısı:\n",
            "           name  toplam_kiralama_sayisi\n",
            "14       Sports                    1179\n",
            "1     Animation                    1166\n",
            "0        Action                    1112\n",
            "13       Sci-Fi                    1101\n",
            "7        Family                    1096\n",
            "6         Drama                    1060\n",
            "5   Documentary                    1050\n",
            "8       Foreign                    1033\n",
            "9         Games                     969\n",
            "2      Children                     945\n",
            "4        Comedy                     941\n",
            "12          New                     940\n",
            "3      Classics                     939\n",
            "10       Horror                     846\n",
            "15       Travel                     837\n",
            "11        Music                     830\n"
          ]
        }
      ]
    },
    {
      "cell_type": "markdown",
      "source": [
        "**Soru 69: Hangi mağazalarda en az film kiralanmış?  ==>  \"SQL:\n",
        "SELECT\n",
        "    film.title,\n",
        "    COUNT(rental.rental_id) AS toplam_kiralama_sayisi\n",
        "FROM\n",
        "    film\n",
        "JOIN\n",
        "    inventory ON film.film_id = inventory.film_id\n",
        "JOIN\n",
        "    rental ON inventory.inventory_id = rental.inventory_id\n",
        "GROUP BY\n",
        "    film.title\n",
        "ORDER BY\n",
        "    toplam_kiralama_sayisi DESC;\n",
        "\"**"
      ],
      "metadata": {
        "id": "D6s3Ncx467AS"
      }
    },
    {
      "cell_type": "code",
      "source": [
        "import sqlite3\n",
        "import pandas as pd\n",
        "\n",
        "conn = sqlite3.connect('sqlite-sakila.db')\n",
        "\n",
        "df = {}\n",
        "for table_name in ['film', 'inventory', 'rental']:\n",
        "    query = f\"SELECT * FROM {table_name}\"\n",
        "    df[table_name] = pd.DataFrame(conn.execute(query).fetchall(),\n",
        "                                  columns=[column[0] for column in conn.execute(query).description])\n",
        "\n",
        "toplam_kiralama_film = df['film'] \\\n",
        "    .merge(df['inventory'], on='film_id') \\\n",
        "    .merge(df['rental'], on='inventory_id') \\\n",
        "    .groupby('title') \\\n",
        "    .agg(toplam_kiralama_sayisi=('rental_id', 'count')) \\\n",
        "    .reset_index() \\\n",
        "    .sort_values(by='toplam_kiralama_sayisi', ascending=False)\n",
        "\n",
        "print(\"\\nHer Film İçin Toplam Kiralama Sayısı:\")\n",
        "print(toplam_kiralama_film)\n",
        "\n",
        "conn.close()"
      ],
      "metadata": {
        "colab": {
          "base_uri": "https://localhost:8080/"
        },
        "id": "SrfqNilGtJuE",
        "outputId": "0f46e0ce-bb2e-47d5-9490-b56ef2b224ce"
      },
      "execution_count": null,
      "outputs": [
        {
          "output_type": "stream",
          "name": "stdout",
          "text": [
            "\n",
            "Her Film İçin Toplam Kiralama Sayısı:\n",
            "                   title  toplam_kiralama_sayisi\n",
            "96    BUCKET BROTHERHOOD                      34\n",
            "705     ROCKETEER MOTHER                      33\n",
            "697  RIDGEMONT SUBMARINE                      32\n",
            "361       GRIT CLOCKWORK                      32\n",
            "465       JUGGLER HARDLY                      32\n",
            "..                   ...                     ...\n",
            "323      FULL FLATLINERS                       5\n",
            "87      BRAVEHEART HUMAN                       5\n",
            "378       HARDLY ROBBERS                       4\n",
            "558          MIXED DOORS                       4\n",
            "866          TRAIN BUNCH                       4\n",
            "\n",
            "[958 rows x 2 columns]\n"
          ]
        }
      ]
    },
    {
      "cell_type": "markdown",
      "source": [
        "**Soru 70: Hangi aktörler en çok filmde rol almış?  ==>  \"SQL:\n",
        "SELECT\n",
        "    actor.first_name,\n",
        "    actor.last_name,\n",
        "    COUNT(film_actor.film_id) AS film_count\n",
        "FROM\n",
        "    actor\n",
        "JOIN\n",
        "    film_actor ON actor.actor_id = film_actor.actor_id\n",
        "GROUP BY\n",
        "    actor.first_name, actor.last_name\n",
        "ORDER BY\n",
        "    film_count DESC;\n",
        "\"**"
      ],
      "metadata": {
        "id": "pnI4q_QL67Qe"
      }
    },
    {
      "cell_type": "code",
      "source": [
        "import sqlite3\n",
        "import pandas as pd\n",
        "\n",
        "conn = sqlite3.connect('sqlite-sakila.db')\n",
        "\n",
        "df = {}\n",
        "for table_name in ['actor', 'film_actor']:\n",
        "    query = f\"SELECT * FROM {table_name}\"\n",
        "    df[table_name] = pd.DataFrame(conn.execute(query).fetchall(),\n",
        "                                 columns=[column[0] for column in conn.execute(query).description])\n",
        "\n",
        "result = (df['actor']\n",
        "          .merge(df['film_actor'], on='actor_id', how='inner')\n",
        "          .groupby(['first_name', 'last_name'])\n",
        "          .agg(film_count=('film_id', 'count'))\n",
        "          .reset_index()\n",
        "          .sort_values(by='film_count', ascending=False))\n",
        "\n",
        "print(\"\\nHer Aktörün Yer Aldığı Film Sayısı:\")\n",
        "print(result)\n",
        "\n",
        "conn.close()"
      ],
      "metadata": {
        "colab": {
          "base_uri": "https://localhost:8080/"
        },
        "id": "j0QyCYXGtTyQ",
        "outputId": "5712fb11-825f-4379-e767-d928870f3180"
      },
      "execution_count": 22,
      "outputs": [
        {
          "output_type": "stream",
          "name": "stdout",
          "text": [
            "\n",
            "Her Aktörün Yer Aldığı Film Sayısı:\n",
            "    first_name  last_name  film_count\n",
            "180      SUSAN      DAVIS          54\n",
            "65        GINA  DEGENERES          42\n",
            "190     WALTER       TORN          41\n",
            "123       MARY     KEITEL          40\n",
            "125    MATTHEW     CARREY          39\n",
            "..         ...        ...         ...\n",
            "177      SISSY   SOBIESKI          18\n",
            "103      JULIA  ZELLWEGER          16\n",
            "101      JULIA    FAWCETT          15\n",
            "99        JUDY       DEAN          15\n",
            "51       EMILY        DEE          14\n",
            "\n",
            "[199 rows x 3 columns]\n"
          ]
        }
      ]
    },
    {
      "cell_type": "markdown",
      "source": [
        "**Soru 71: Hangi aktörler en az filmde rol almış?  ==>  \"SQL:\n",
        "SELECT actor.first_name, actor.last_name, COUNT(film_actor.film_id) AS film_count\n",
        "FROM actor\n",
        "JOIN film_actor ON actor.actor_id = film_actor.actor_id\n",
        "GROUP BY actor.first_name, actor.last_name\n",
        "ORDER BY film_count ASC;\n",
        "\"**"
      ],
      "metadata": {
        "id": "R0JiaXve67k8"
      }
    },
    {
      "cell_type": "code",
      "source": [
        "import sqlite3\n",
        "import pandas as pd\n",
        "\n",
        "conn = sqlite3.connect('sqlite-sakila.db')\n",
        "\n",
        "df = {}\n",
        "for table_name in ['actor', 'film_actor']:\n",
        "    query = f\"SELECT * FROM {table_name}\"\n",
        "    df[table_name] = pd.DataFrame(conn.execute(query).fetchall(),\n",
        "                                 columns=[column[0] for column in conn.execute(query).description])\n",
        "\n",
        "result = (df['actor']\n",
        "          .merge(df['film_actor'], on='actor_id', how='inner')\n",
        "          .groupby(['first_name', 'last_name'])\n",
        "          .agg(film_count=('film_id', 'count'))\n",
        "          .reset_index()\n",
        "          .sort_values(by='film_count', ascending=True))\n",
        "\n",
        "print(\"\\nHer Aktörün Yer Aldığı Film Sayısı (Artan Sıra):\")\n",
        "print(result)\n",
        "\n",
        "conn.close()"
      ],
      "metadata": {
        "colab": {
          "base_uri": "https://localhost:8080/"
        },
        "id": "HumPkajStbM9",
        "outputId": "94fd7434-92bf-4084-8938-fa2982f75055"
      },
      "execution_count": 23,
      "outputs": [
        {
          "output_type": "stream",
          "name": "stdout",
          "text": [
            "\n",
            "Her Aktörün Yer Aldığı Film Sayısı (Artan Sıra):\n",
            "    first_name  last_name  film_count\n",
            "51       EMILY        DEE          14\n",
            "99        JUDY       DEAN          15\n",
            "101      JULIA    FAWCETT          15\n",
            "103      JULIA  ZELLWEGER          16\n",
            "177      SISSY   SOBIESKI          18\n",
            "..         ...        ...         ...\n",
            "125    MATTHEW     CARREY          39\n",
            "123       MARY     KEITEL          40\n",
            "190     WALTER       TORN          41\n",
            "65        GINA  DEGENERES          42\n",
            "180      SUSAN      DAVIS          54\n",
            "\n",
            "[199 rows x 3 columns]\n"
          ]
        }
      ]
    },
    {
      "cell_type": "markdown",
      "source": [
        "**Soru 72: Hangi aktörlerin oynadığı filmler en çok kiralanmış?  ==>  \"SQL:  \n",
        "SELECT actor.first_name, actor.last_name, COUNT(rental.rental_id) AS rental_count\n",
        "FROM actor\n",
        "JOIN film_actor ON actor.actor_id = film_actor.actor_id\n",
        "JOIN film ON film_actor.film_id = film.film_id\n",
        "JOIN inventory ON film.film_id = inventory.film_id\n",
        "JOIN rental ON inventory.inventory_id = rental.inventory_id\n",
        "GROUP BY actor.first_name, actor.last_name\n",
        "ORDER BY rental_count DESC;\n",
        "\"**"
      ],
      "metadata": {
        "id": "zpkRKiF8677y"
      }
    },
    {
      "cell_type": "code",
      "source": [
        "import sqlite3\n",
        "import pandas as pd\n",
        "\n",
        "# SQLite veritabanına bağlanma\n",
        "conn = sqlite3.connect('sqlite-sakila.db')\n",
        "\n",
        "# Tabloları yükleme\n",
        "df = {}\n",
        "for table_name in ['film', 'inventory', 'rental']:\n",
        "    query = f\"SELECT * FROM {table_name}\"\n",
        "    df[table_name] = pd.DataFrame(\n",
        "        conn.execute(query).fetchall(),\n",
        "        columns=[column[0] for column in conn.execute(query).description]\n",
        "    )\n",
        "\n",
        "# Filmlerin kiralama sayılarını hesaplama\n",
        "result = (df['film']\n",
        "          .merge(df['inventory'], on='film_id', how='inner')\n",
        "          .merge(df['rental'], on='inventory_id', how='inner')\n",
        "          .groupby('title')\n",
        "          .agg(toplam_kiralama_sayisi=('rental_id', 'count'))\n",
        "          .reset_index()\n",
        "          .sort_values(by='toplam_kiralama_sayisi', ascending=False))\n",
        "\n",
        "# Sonucu yazdırma\n",
        "print(\"Filmlerin toplam kiralama sayıları:\")\n",
        "print(result)\n",
        "\n",
        "# Bağlantıyı kapatma\n",
        "conn.close()"
      ],
      "metadata": {
        "colab": {
          "base_uri": "https://localhost:8080/"
        },
        "id": "Pc_9qd9OuCFA",
        "outputId": "320697da-e2e4-43d0-8d51-bb5a22cab754"
      },
      "execution_count": 55,
      "outputs": [
        {
          "output_type": "stream",
          "name": "stdout",
          "text": [
            "Filmlerin toplam kiralama sayıları:\n",
            "                   title  toplam_kiralama_sayisi\n",
            "96    BUCKET BROTHERHOOD                      34\n",
            "705     ROCKETEER MOTHER                      33\n",
            "697  RIDGEMONT SUBMARINE                      32\n",
            "361       GRIT CLOCKWORK                      32\n",
            "465       JUGGLER HARDLY                      32\n",
            "..                   ...                     ...\n",
            "323      FULL FLATLINERS                       5\n",
            "87      BRAVEHEART HUMAN                       5\n",
            "378       HARDLY ROBBERS                       4\n",
            "558          MIXED DOORS                       4\n",
            "866          TRAIN BUNCH                       4\n",
            "\n",
            "[958 rows x 2 columns]\n"
          ]
        }
      ]
    },
    {
      "cell_type": "markdown",
      "source": [
        "**Soru 73: Hangi aktörlerin oynadığı filmler en az kiralanmış?  ==>  \"SQL:\n",
        "SELECT actor.first_name, actor.last_name, COUNT(rental.rental_id) AS rental_count\n",
        "FROM actor\n",
        "JOIN film_actor ON actor.actor_id = film_actor.actor_id\n",
        "JOIN film ON film_actor.film_id = film.film_id\n",
        "JOIN inventory ON film.film_id = inventory.film_id\n",
        "JOIN rental ON inventory.inventory_id = rental.inventory_id\n",
        "GROUP BY actor.first_name, actor.last_name\n",
        "ORDER BY rental_count ASC;\n",
        "\"**"
      ],
      "metadata": {
        "id": "RfqQUMqA68OM"
      }
    },
    {
      "cell_type": "code",
      "source": [
        "import sqlite3\n",
        "import pandas as pd\n",
        "\n",
        "# SQLite veritabanına bağlanma\n",
        "conn = sqlite3.connect('sqlite-sakila.db')\n",
        "\n",
        "# Tabloları yükleme\n",
        "df = {}\n",
        "for table_name in ['film', 'inventory', 'rental']:\n",
        "    query = f\"SELECT * FROM {table_name}\"\n",
        "    df[table_name] = pd.DataFrame(\n",
        "        conn.execute(query).fetchall(),\n",
        "        columns=[column[0] for column in conn.execute(query).description]\n",
        "    )\n",
        "\n",
        "# Filmlerin kiralama sayılarını hesaplama\n",
        "result = (df['film']\n",
        "          .merge(df['inventory'], on='film_id', how='inner')\n",
        "          .merge(df['rental'], on='inventory_id', how='inner')\n",
        "          .groupby('title')\n",
        "          .agg(toplam_kiralama_sayisi=('rental_id', 'count'))\n",
        "          .reset_index()\n",
        "          .sort_values(by='toplam_kiralama_sayisi', ascending=True))  # True yaparak ASC sıralama\n",
        "\n",
        "# Sonucu yazdırma\n",
        "print(\"Filmlerin toplam kiralama sayıları (en azdan en çoğa):\")\n",
        "print(result)\n",
        "\n",
        "# Bağlantıyı kapatma\n",
        "conn.close()"
      ],
      "metadata": {
        "colab": {
          "base_uri": "https://localhost:8080/"
        },
        "id": "P0sXOvEWuSiR",
        "outputId": "35c40cd2-438f-4ef4-a3f7-2bed535807e2"
      },
      "execution_count": 58,
      "outputs": [
        {
          "output_type": "stream",
          "name": "stdout",
          "text": [
            "Filmlerin toplam kiralama sayıları (en azdan en çoğa):\n",
            "                  title  toplam_kiralama_sayisi\n",
            "558         MIXED DOORS                       4\n",
            "866         TRAIN BUNCH                       4\n",
            "378      HARDLY ROBBERS                       4\n",
            "585  MUSSOLINI SPOILERS                       5\n",
            "315   FREEDOM CLEOPATRA                       5\n",
            "..                  ...                     ...\n",
            "361      GRIT CLOCKWORK                      32\n",
            "733       SCALAWAG DUCK                      32\n",
            "312      FORWARD TEMPLE                      32\n",
            "705    ROCKETEER MOTHER                      33\n",
            "96   BUCKET BROTHERHOOD                      34\n",
            "\n",
            "[958 rows x 2 columns]\n"
          ]
        }
      ]
    },
    {
      "cell_type": "markdown",
      "source": [
        "**Soru 74: Hangi kategorilerde en fazla aktör oynamış?  ==>  \"SQL:\n",
        "SELECT category.name AS genre, COUNT(DISTINCT film_actor.actor_id) AS actor_count\n",
        "FROM category\n",
        "JOIN film_category ON category.category_id = film_category.category_id\n",
        "JOIN film ON film_category.film_id = film.film_id\n",
        "JOIN film_actor ON film.film_id = film_actor.film_id\n",
        "GROUP BY genre\n",
        "ORDER BY actor_count DESC;\n",
        "\"**"
      ],
      "metadata": {
        "id": "DWdp7Nef68pv"
      }
    },
    {
      "cell_type": "code",
      "source": [
        "import sqlite3\n",
        "import pandas as pd\n",
        "\n",
        "conn = sqlite3.connect('sqlite-sakila.db')\n",
        "\n",
        "df = {}\n",
        "for table_name in ['category', 'film_category', 'film', 'film_actor', 'actor']:\n",
        "    query = f\"SELECT * FROM {table_name}\"\n",
        "    df[table_name] = pd.DataFrame(conn.execute(query).fetchall(),\n",
        "                                  columns=[column[0] for column in conn.execute(query).description])\n",
        "\n",
        "soru_74 = df['category'] \\\n",
        "    .merge(df['film_category'], on='category_id', suffixes=('', '_film_category')) \\\n",
        "    .merge(df['film'], on='film_id', suffixes=('', '_film')) \\\n",
        "    .merge(df['film_actor'], on='film_id', suffixes=('', '_film_actor')) \\\n",
        "    .groupby('name') \\\n",
        "    .agg(aktor_sayisi=('actor_id', 'nunique')) \\\n",
        "    .reset_index() \\\n",
        "    .sort_values(by='aktor_sayisi', ascending=False)\n",
        "\n",
        "print(\"Hangi kategorilerde en fazla aktör oynamış:\")\n",
        "\n",
        "conn.close()\n"
      ],
      "metadata": {
        "colab": {
          "base_uri": "https://localhost:8080/"
        },
        "id": "LBXBVhlmubIB",
        "outputId": "77a7732b-149d-4dd0-c079-fdced403d976"
      },
      "execution_count": null,
      "outputs": [
        {
          "output_type": "stream",
          "name": "stdout",
          "text": [
            "Hangi kategorilerde en fazla aktör oynamış:\n",
            "           name  aktor_sayisi\n",
            "14       Sports           182\n",
            "8       Foreign           175\n",
            "12          New           169\n",
            "5   Documentary           168\n",
            "13       Sci-Fi           167\n",
            "0        Action           166\n",
            "1     Animation           166\n",
            "15       Travel           166\n",
            "7        Family           164\n",
            "2      Children           163\n",
            "3      Classics           162\n",
            "6         Drama           162\n",
            "10       Horror           156\n",
            "9         Games           150\n",
            "4        Comedy           147\n",
            "11        Music           144\n"
          ]
        }
      ]
    },
    {
      "cell_type": "markdown",
      "source": [
        "**Soru 75: Hangi kategorilerde en az aktör oynamış?  ==>  \"SQL:\n",
        "SELECT category.name AS genre, COUNT(DISTINCT film_actor.actor_id) AS actor_count\n",
        "FROM category\n",
        "JOIN film_category ON category.category_id = film_category.category_id\n",
        "JOIN film ON film_category.film_id = film.film_id\n",
        "JOIN film_actor ON film.film_id = film_actor.film_id\n",
        "GROUP BY genre\n",
        "ORDER BY actor_count ASC;\n",
        "\"**"
      ],
      "metadata": {
        "id": "TdoOM-rq687g"
      }
    },
    {
      "cell_type": "code",
      "source": [
        "import sqlite3\n",
        "import pandas as pd\n",
        "\n",
        "conn = sqlite3.connect('sqlite-sakila.db')\n",
        "\n",
        "df = {}\n",
        "for table_name in ['category', 'film_category', 'film', 'film_actor', 'actor']:\n",
        "    query = f\"SELECT * FROM {table_name}\"\n",
        "    df[table_name] = pd.DataFrame(conn.execute(query).fetchall(),\n",
        "                                  columns=[column[0] for column in conn.execute(query).description])\n",
        "\n",
        "soru_75 = df['category'] \\\n",
        "    .merge(df['film_category'], on='category_id', suffixes=('', '_film_category')) \\\n",
        "    .merge(df['film'], on='film_id', suffixes=('', '_film')) \\\n",
        "    .merge(df['film_actor'], on='film_id', suffixes=('', '_film_actor')) \\\n",
        "    .groupby('name') \\\n",
        "    .agg(aktor_sayisi=('actor_id', 'nunique')) \\\n",
        "    .reset_index() \\\n",
        "    .sort_values(by='aktor_sayisi', ascending=True)\n",
        "\n",
        "print(\"Hangi kategorilerde en az aktör oynamış:\")\n",
        "print(soru_75)\n",
        "\n",
        "conn.close()\n"
      ],
      "metadata": {
        "colab": {
          "base_uri": "https://localhost:8080/"
        },
        "id": "QJKrsQ-hufqC",
        "outputId": "9c172901-428e-48f4-ad67-4c29663208dc"
      },
      "execution_count": null,
      "outputs": [
        {
          "output_type": "stream",
          "name": "stdout",
          "text": [
            "Hangi kategorilerde en az aktör oynamış:\n",
            "           name  aktor_sayisi\n",
            "11        Music           144\n",
            "4        Comedy           147\n",
            "9         Games           150\n",
            "10       Horror           156\n",
            "3      Classics           162\n",
            "6         Drama           162\n",
            "2      Children           163\n",
            "7        Family           164\n",
            "0        Action           166\n",
            "1     Animation           166\n",
            "15       Travel           166\n",
            "13       Sci-Fi           167\n",
            "5   Documentary           168\n",
            "12          New           169\n",
            "8       Foreign           175\n",
            "14       Sports           182\n"
          ]
        }
      ]
    },
    {
      "cell_type": "markdown",
      "source": [
        "**Soru 76: Hangi kategorilerde oynayan filmler en çok kiralanmış?  ==>  \"SQL:\n",
        "SELECT category.name AS genre, COUNT(rental.rental_id) AS rental_count\n",
        "FROM category\n",
        "JOIN film_category ON category.category_id = film_category.category_id\n",
        "JOIN film ON film_category.film_id = film.film_id\n",
        "JOIN inventory ON film.film_id = inventory.film_id\n",
        "JOIN rental ON inventory.inventory_id = rental.inventory_id\n",
        "GROUP BY category.name\n",
        "ORDER BY rental_count DESC;\n",
        "\"**"
      ],
      "metadata": {
        "id": "1dXoCtXR69K7"
      }
    },
    {
      "cell_type": "code",
      "source": [
        "import sqlite3\n",
        "import pandas as pd\n",
        "\n",
        "conn = sqlite3.connect('sqlite-sakila.db')\n",
        "\n",
        "df = {}\n",
        "for table_name in ['category', 'film_category', 'film', 'inventory', 'rental']:\n",
        "    query = f\"SELECT * FROM {table_name}\"\n",
        "    df[table_name] = pd.DataFrame(conn.execute(query).fetchall(),\n",
        "                                  columns=[column[0] for column in conn.execute(query).description])\n",
        "\n",
        "soru_76 = df['category'] \\\n",
        "    .merge(df['film_category'], on='category_id', suffixes=('', '_film_category')) \\\n",
        "    .merge(df['film'], on='film_id', suffixes=('', '_film')) \\\n",
        "    .merge(df['inventory'], on='film_id', suffixes=('', '_inventory')) \\\n",
        "    .merge(df['rental'], on='inventory_id', suffixes=('', '_rental')) \\\n",
        "    .groupby('name') \\\n",
        "    .agg(kiralama_sayisi=('rental_id', 'count')) \\\n",
        "    .reset_index() \\\n",
        "    .sort_values(by='kiralama_sayisi', ascending=False)\n",
        "\n",
        "print(\"Hangi kategorilerde oynayan filmler en çok kiralanmış:\")\n",
        "print(soru_76)\n",
        "\n",
        "conn.close()\n"
      ],
      "metadata": {
        "colab": {
          "base_uri": "https://localhost:8080/"
        },
        "id": "WhD4Nwqcu14x",
        "outputId": "2319739d-f61d-4f4b-fb76-294363011403"
      },
      "execution_count": null,
      "outputs": [
        {
          "output_type": "stream",
          "name": "stdout",
          "text": [
            "Hangi kategorilerde oynayan filmler en çok kiralanmış:\n",
            "           name  kiralama_sayisi\n",
            "14       Sports             1179\n",
            "1     Animation             1166\n",
            "0        Action             1112\n",
            "13       Sci-Fi             1101\n",
            "7        Family             1096\n",
            "6         Drama             1060\n",
            "5   Documentary             1050\n",
            "8       Foreign             1033\n",
            "9         Games              969\n",
            "2      Children              945\n",
            "4        Comedy              941\n",
            "12          New              940\n",
            "3      Classics              939\n",
            "10       Horror              846\n",
            "15       Travel              837\n",
            "11        Music              830\n"
          ]
        }
      ]
    },
    {
      "cell_type": "markdown",
      "source": [
        "**Soru 77: Hangi kategorilerde oynayan filmler en az kiralanmış?  ==>  \"SQL:\n",
        "SELECT category.name AS genre, COUNT(rental.rental_id) AS rental_count FROM category\n",
        "JOIN film_category ON category.category_id = film_category.category_id JOIN film ON film_category.film_id = film.film_id\n",
        "JOIN inventory ON film.film_id = inventory.film_id\n",
        "JOIN rental ON inventory.inventory_id = rental.inventory_id\n",
        "GROUP BY genre\n",
        "ORDER BY rental_count ASC;\"**"
      ],
      "metadata": {
        "id": "O0HGs7Zq69a0"
      }
    },
    {
      "cell_type": "code",
      "source": [
        "import sqlite3\n",
        "import pandas as pd\n",
        "\n",
        "conn = sqlite3.connect('sqlite-sakila.db')\n",
        "\n",
        "df = {}\n",
        "for table_name in ['category', 'film_category', 'film', 'inventory', 'rental']:\n",
        "    query = f\"SELECT * FROM {table_name}\"\n",
        "    df[table_name] = pd.DataFrame(conn.execute(query).fetchall(),\n",
        "                                  columns=[column[0] for column in conn.execute(query).description])\n",
        "\n",
        "soru_77 = df['category'] \\\n",
        "    .merge(df['film_category'], on='category_id', suffixes=('', '_film_category')) \\\n",
        "    .merge(df['film'], on='film_id', suffixes=('', '_film')) \\\n",
        "    .merge(df['inventory'], on='film_id', suffixes=('', '_inventory')) \\\n",
        "    .merge(df['rental'], on='inventory_id', suffixes=('', '_rental')) \\\n",
        "    .groupby('name') \\\n",
        "    .agg(kiralama_sayisi=('rental_id', 'count')) \\\n",
        "    .reset_index() \\\n",
        "    .sort_values(by='kiralama_sayisi', ascending=True)\n",
        "\n",
        "print(\"Hangi kategorilerde oynayan filmler en az kiralanmış:\")\n",
        "print(soru_77)\n",
        "\n",
        "conn.close()\n"
      ],
      "metadata": {
        "colab": {
          "base_uri": "https://localhost:8080/"
        },
        "id": "C5r6A1tNu4qp",
        "outputId": "9f6b9fc4-e445-4a63-a207-4138b47538c3"
      },
      "execution_count": null,
      "outputs": [
        {
          "output_type": "stream",
          "name": "stdout",
          "text": [
            "Hangi kategorilerde oynayan filmler en az kiralanmış:\n",
            "           name  kiralama_sayisi\n",
            "11        Music              830\n",
            "15       Travel              837\n",
            "10       Horror              846\n",
            "3      Classics              939\n",
            "12          New              940\n",
            "4        Comedy              941\n",
            "2      Children              945\n",
            "9         Games              969\n",
            "8       Foreign             1033\n",
            "5   Documentary             1050\n",
            "6         Drama             1060\n",
            "7        Family             1096\n",
            "13       Sci-Fi             1101\n",
            "0        Action             1112\n",
            "1     Animation             1166\n",
            "14       Sports             1179\n"
          ]
        }
      ]
    },
    {
      "cell_type": "markdown",
      "source": [
        "**Soru 78: En fazla kazanç sağlayan kategoriler hangileri?  ==>  \"SQL:\n",
        "SELECT category.name AS genre, SUM(payment.amount) AS total_revenue FROM category\n",
        "JOIN film_category ON category.category_id = film_category.category_id JOIN film ON film_category.film_id = film.film_id\n",
        "JOIN inventory ON film.film_id - inventory.film_id\n",
        "JOIN rental ON inventory.inventory_id = rental.inventory_id\n",
        "JOIN payment ON rental.rental_id = payment.rental_id\n",
        "GROUP BY genre\n",
        "ORDER BY total_revenue DESC;\"**"
      ],
      "metadata": {
        "id": "ev6NBKrS69sP"
      }
    },
    {
      "cell_type": "code",
      "source": [
        "import sqlite3\n",
        "import pandas as pd\n",
        "\n",
        "conn = sqlite3.connect('sqlite-sakila.db')\n",
        "\n",
        "df = {}\n",
        "for table_name in ['category', 'film_category', 'film', 'inventory', 'rental']:\n",
        "    query = f\"SELECT * FROM {table_name}\"\n",
        "    df[table_name] = pd.DataFrame(conn.execute(query).fetchall(),\n",
        "                                 columns=[column[0] for column in conn.execute(query).description])\n",
        "\n",
        "result = (df['category']\n",
        "          .merge(df['film_category'], on='category_id', how='inner', suffixes=('', '_film_category'))\n",
        "          .merge(df['film'], on='film_id', how='inner', suffixes=('', '_film'))\n",
        "          .merge(df['inventory'], on='film_id', how='inner', suffixes=('', '_inventory'))\n",
        "          .merge(df['rental'], on='inventory_id', how='inner', suffixes=('', '_rental'))\n",
        "          .groupby('name')\n",
        "          .agg(total_revenue=('rental_rate', lambda x: x.sum() * len(x)))\n",
        "          .reset_index()\n",
        "          .sort_values(by='total_revenue', ascending=False))\n",
        "\n",
        "print(\"\\nKategorilere Göre Toplam Gelir:\")\n",
        "print(result)\n",
        "\n",
        "conn.close()"
      ],
      "metadata": {
        "colab": {
          "base_uri": "https://localhost:8080/"
        },
        "id": "Ge0hNfE9vKr9",
        "outputId": "bed5305c-ecff-4eba-9df8-d70ce9ad798c"
      },
      "execution_count": 29,
      "outputs": [
        {
          "output_type": "stream",
          "name": "stdout",
          "text": [
            "\n",
            "Kategorilere Göre Toplam Gelir:\n",
            "           name  total_revenue\n",
            "14       Sports     4264690.59\n",
            "1     Animation     3752584.44\n",
            "13       Sci-Fi     3622278.99\n",
            "6         Drama     3575804.00\n",
            "0        Action     3299170.56\n",
            "7        Family     3243107.84\n",
            "8       Foreign     3151342.11\n",
            "9         Games     2939277.39\n",
            "4        Comedy     2907304.19\n",
            "5   Documentary     2884875.00\n",
            "12          New     2730324.00\n",
            "2      Children     2401764.75\n",
            "3      Classics     2326475.79\n",
            "15       Travel     2324039.31\n",
            "10       Horror     2219514.84\n",
            "11        Music     2109611.00\n"
          ]
        }
      ]
    },
    {
      "cell_type": "markdown",
      "source": [
        "**Soru 79: En az kazanç sağlayan kategoriler hangileri?  ==>  \"SQL:\n",
        "SELECT category.name AS genre, SUM(payment.amount) AS total_revenue FROM category\n",
        "JOIN film_category ON category.category_id = film_category.category_id JOIN film ON film_category.film_id = film.film_id\n",
        "JOIN inventory ON film.film_id = inventory.film_id\n",
        "JOIN rental ON inventory.inventory_id = rental.inventory_id\n",
        "JOIN payment ON rental.rental_id = payment.rental_id\n",
        "GROUP BY genre\n",
        "ORDER BY total_revenue ASC;\"**"
      ],
      "metadata": {
        "id": "pOdbxMg869_k"
      }
    },
    {
      "cell_type": "code",
      "source": [
        "import sqlite3\n",
        "import pandas as pd\n",
        "\n",
        "conn = sqlite3.connect('sqlite-sakila.db')\n",
        "\n",
        "df = {}\n",
        "for table_name in ['category', 'film_category', 'film', 'inventory', 'rental', 'payment']:\n",
        "    query = f\"SELECT * FROM {table_name}\"\n",
        "    df[table_name] = pd.DataFrame(conn.execute(query).fetchall(),\n",
        "                                  columns=[column[0] for column in conn.execute(query).description])\n",
        "\n",
        "soru_79 = df['category'] \\\n",
        "    .merge(df['film_category'], on='category_id', suffixes=('', '_film_category')) \\\n",
        "    .merge(df['film'], on='film_id', suffixes=('', '_film')) \\\n",
        "    .merge(df['inventory'], on='film_id', suffixes=('', '_inventory')) \\\n",
        "    .merge(df['rental'], on='inventory_id', suffixes=('', '_rental')) \\\n",
        "    .merge(df['payment'], on='rental_id', suffixes=('', '_payment')) \\\n",
        "    .groupby('name') \\\n",
        "    .agg(toplam_gelir=('amount', 'sum')) \\\n",
        "    .reset_index() \\\n",
        "    .sort_values(by='toplam_gelir', ascending=True)\n",
        "\n",
        "print(\"En az kazanç sağlayan kategoriler:\")\n",
        "print(soru_79)\n",
        "\n",
        "conn.close()\n"
      ],
      "metadata": {
        "colab": {
          "base_uri": "https://localhost:8080/"
        },
        "id": "lawiAkFDvOLN",
        "outputId": "55ecbcc8-75f4-41e0-de1d-d4684a2c5d1b"
      },
      "execution_count": null,
      "outputs": [
        {
          "output_type": "stream",
          "name": "stdout",
          "text": [
            "En az kazanç sağlayan kategoriler:\n",
            "           name  toplam_gelir\n",
            "11        Music       3417.72\n",
            "15       Travel       3549.64\n",
            "3      Classics       3639.59\n",
            "2      Children       3655.55\n",
            "10       Horror       3722.54\n",
            "5   Documentary       4217.52\n",
            "7        Family       4226.07\n",
            "8       Foreign       4270.67\n",
            "9         Games       4281.33\n",
            "12          New       4351.62\n",
            "0        Action       4375.85\n",
            "4        Comedy       4383.58\n",
            "6         Drama       4587.39\n",
            "1     Animation       4656.30\n",
            "13       Sci-Fi       4756.98\n",
            "14       Sports       5314.21\n"
          ]
        }
      ]
    },
    {
      "cell_type": "markdown",
      "source": [
        "**Soru 80: En çok film kiralayan müşterilerin ortalama ödeme miktarı nedir?  ==>  \"SQL:  \n",
        "SELECT customer.first_name, customer.last_name, AVG(payment.amount) AS avg_payment FROM customer\n",
        "JOIN rental ON customer.customer_id = rental.customer_id\n",
        "JOIN payment ON rental.rental_id = payment.rental_id\n",
        "GROUP BY customer.first_name, customer.last_name\n",
        "ORDER BY COUNT(rental.rental_id) DESC\n",
        "LIMIT 10;\"**"
      ],
      "metadata": {
        "id": "DNWJMXhQ6-uz"
      }
    },
    {
      "cell_type": "code",
      "source": [
        "import sqlite3\n",
        "import pandas as pd\n",
        "\n",
        "conn = sqlite3.connect('sqlite-sakila.db')\n",
        "\n",
        "df = {}\n",
        "for table_name in ['customer', 'rental', 'payment']:\n",
        "    query = f\"SELECT * FROM {table_name}\"\n",
        "    df[table_name] = pd.DataFrame(conn.execute(query).fetchall(),\n",
        "                                 columns=[column[0] for column in conn.execute(query).description])\n",
        "\n",
        "result = (df['customer']\n",
        "          .merge(df['rental'], on='customer_id', how='inner')\n",
        "          .merge(df['payment'], on='rental_id', how='inner')\n",
        "          .groupby(['first_name', 'last_name'])\n",
        "          .agg(\n",
        "              avg_payment=('amount', 'mean'),\n",
        "              rental_count=('rental_id', 'count')\n",
        "          )\n",
        "          .reset_index()\n",
        "          .sort_values(by='rental_count', ascending=False)\n",
        "          .head(10))\n",
        "\n",
        "print(\"\\nİlk 10 Müşterinin Ortalama Ödemeleri ve Kiralama Sayıları:\")\n",
        "print(result)\n",
        "\n",
        "conn.close()"
      ],
      "metadata": {
        "colab": {
          "base_uri": "https://localhost:8080/"
        },
        "id": "NyWaqTAPvX9d",
        "outputId": "d1dc0e2f-93f0-4629-c750-2cdf589d5c2e"
      },
      "execution_count": 31,
      "outputs": [
        {
          "output_type": "stream",
          "name": "stdout",
          "text": [
            "\n",
            "İlk 10 Müşterinin Ortalama Ödemeleri ve Kiralama Sayıları:\n",
            "    first_name last_name  avg_payment  rental_count\n",
            "175    ELEANOR      HUNT     4.707391            46\n",
            "318       KARL      SEAL     4.923333            45\n",
            "379     MARCIA      DEAN     4.180476            42\n",
            "105      CLARA      SHAW     4.656667            42\n",
            "536      TAMMY   SANDERS     3.794878            41\n",
            "590     WESLEY      BULL     4.440000            40\n",
            "531        SUE    PETERS     3.865000            40\n",
            "389     MARION    SNYDER     4.990000            39\n",
            "551        TIM      CARY     4.502821            39\n",
            "474     RHONDA   KENNEDY     4.990000            39\n"
          ]
        }
      ]
    },
    {
      "cell_type": "markdown",
      "source": [
        "**Soru 81: En az film kiralayan müşterilerin ortalama ödeme miktarı nedir?  ==>  \"SQL:\n",
        "SELECT customer.first_name, customer.last_name, AVG(payment.amount) AS avg_payment FROM customer\n",
        "JOIN rental ON customer.customer_id = rental.customer_id\n",
        "JOIN payment ON rental.rental_id = payment.rental_id\n",
        "GROUP BY customer.first_name, customer.last_name\n",
        "ORDER BY COUNT(rental.rental_id) ASC\n",
        "LIMIT 10;\"**"
      ],
      "metadata": {
        "id": "5WtXI_7x6_Bc"
      }
    },
    {
      "cell_type": "code",
      "source": [
        "import sqlite3\n",
        "import pandas as pd\n",
        "\n",
        "conn = sqlite3.connect('sqlite-sakila.db')\n",
        "\n",
        "df = {}\n",
        "for table_name in ['customer', 'rental', 'payment']:\n",
        "    query = f\"SELECT * FROM {table_name}\"\n",
        "    df[table_name] = pd.DataFrame(conn.execute(query).fetchall(),\n",
        "                                 columns=[column[0] for column in conn.execute(query).description])\n",
        "\n",
        "result = (df['customer']\n",
        "          .merge(df['rental'], on='customer_id', how='inner')\n",
        "          .merge(df['payment'], on='rental_id', how='inner')\n",
        "          .groupby(['first_name', 'last_name'])\n",
        "          .agg(\n",
        "              avg_payment=('amount', 'mean'),\n",
        "              rental_count=('rental_id', 'count')\n",
        "          )\n",
        "          .reset_index()\n",
        "          .sort_values(by='rental_count', ascending=True)\n",
        "          .head(10))\n",
        "\n",
        "print(\"\\nİlk 10 Müşterinin Ortalama Ödemeleri ve Kiralama Sayıları (Artan Sıra):\")\n",
        "print(result)\n",
        "\n",
        "conn.close()"
      ],
      "metadata": {
        "colab": {
          "base_uri": "https://localhost:8080/"
        },
        "id": "vyEaUgLWvfNR",
        "outputId": "7ea9409d-8141-4b6e-be4b-7fd694f19a1c"
      },
      "execution_count": 32,
      "outputs": [
        {
          "output_type": "stream",
          "name": "stdout",
          "text": [
            "\n",
            "İlk 10 Müşterinin Ortalama Ödemeleri ve Kiralama Sayıları (Artan Sıra):\n",
            "    first_name last_name  avg_payment  rental_count\n",
            "71       BRIAN     WYMAN     4.406667            12\n",
            "550    TIFFANY    JORDAN     4.275714            14\n",
            "351      LEONA    OBRIEN     3.632857            14\n",
            "319  KATHERINE    RIVERA     4.204286            14\n",
            "83    CAROLINE    BOWMAN     3.390000            15\n",
            "28       ANITA   MORALES     4.190000            15\n",
            "277     JEROME    KENYON     4.615000            16\n",
            "356     LESTER     KRAUS     4.115000            16\n",
            "290      JOANN   GARDNER     4.177500            16\n",
            "35     ANTONIO      MEEK     4.927500            16\n"
          ]
        }
      ]
    },
    {
      "cell_type": "markdown",
      "source": [
        "**Soru 82: Hangi mağazalarda hangi kategoriler en çok kiralanmış?  ==>  \"SQL:\n",
        "SELECT store.store_id, category.name AS genre, COUNT(rental.rental_id) AS rental_count\n",
        "FROM store\n",
        "JOIN staff ON store.store_id = staff.store_id\n",
        "JOIN rental ON staff.staff_id = rental.staff_id\n",
        "JOIN inventory ON rental.inventory_id = inventory.inventory_id\n",
        "JOIN film ON inventory.film_id = film.film_id\n",
        "JOIN film_category ON film.film_id = film_category.film_id\n",
        "JOIN category ON film_category.category_id = category.category_id\n",
        "GROUP BY store.store_id, genre\n",
        "ORDER BY rental_count DESC;\n",
        "\"**"
      ],
      "metadata": {
        "id": "weIUyC1t6_Pg"
      }
    },
    {
      "cell_type": "code",
      "source": [
        "import sqlite3\n",
        "import pandas as pd\n",
        "\n",
        "conn = sqlite3.connect('sqlite-sakila.db')\n",
        "\n",
        "df = {}\n",
        "for table_name in ['store', 'staff', 'rental', 'inventory', 'film', 'film_category', 'category']:\n",
        "    query = f\"SELECT * FROM {table_name}\"\n",
        "    df[table_name] = pd.DataFrame(conn.execute(query).fetchall(),\n",
        "                                 columns=[column[0] for column in conn.execute(query).description])\n",
        "\n",
        "result = (df['store']\n",
        "          .merge(df['staff'], on='store_id', how='inner', suffixes=('', '_staff'))\n",
        "          .merge(df['rental'], on='staff_id', how='inner', suffixes=('', '_rental'))\n",
        "          .merge(df['inventory'], on='inventory_id', how='inner', suffixes=('', '_inventory'))\n",
        "          .merge(df['film'], on='film_id', how='inner', suffixes=('', '_film'))\n",
        "          .merge(df['film_category'], on='film_id', how='inner', suffixes=('', '_film_category'))\n",
        "          .merge(df['category'], on='category_id', how='inner', suffixes=('', '_category'))\n",
        "          .groupby(['store_id', 'name'])\n",
        "          .agg(rental_count=('rental_id', 'count'))\n",
        "          .reset_index()\n",
        "          .sort_values(by='rental_count', ascending=False))\n",
        "\n",
        "print(\"\\nMağaza ve Kategori Bazında Kiralama Sayıları (Azalan Sıra):\")\n",
        "print(result)\n",
        "\n",
        "conn.close()"
      ],
      "metadata": {
        "colab": {
          "base_uri": "https://localhost:8080/"
        },
        "id": "1vpHWLwfvhrc",
        "outputId": "e06fb9d1-4524-4f9a-8b4f-74dd7e4947d3"
      },
      "execution_count": 42,
      "outputs": [
        {
          "output_type": "stream",
          "name": "stdout",
          "text": [
            "\n",
            "Mağaza ve Kategori Bazında Kiralama Sayıları (Azalan Sıra):\n",
            "    store_id         name  rental_count\n",
            "30         2       Sports           614\n",
            "17         2    Animation           584\n",
            "1          1    Animation           582\n",
            "7          1       Family           565\n",
            "14         1       Sports           565\n",
            "0          1       Action           562\n",
            "13         1       Sci-Fi           553\n",
            "16         2       Action           550\n",
            "29         2       Sci-Fi           548\n",
            "24         2      Foreign           543\n",
            "22         2        Drama           532\n",
            "23         2       Family           531\n",
            "6          1        Drama           528\n",
            "5          1  Documentary           525\n",
            "21         2  Documentary           525\n",
            "9          1        Games           494\n",
            "8          1      Foreign           490\n",
            "12         1          New           489\n",
            "2          1     Children           483\n",
            "25         2        Games           475\n",
            "4          1       Comedy           475\n",
            "3          1     Classics           475\n",
            "20         2       Comedy           466\n",
            "19         2     Classics           464\n",
            "18         2     Children           462\n",
            "28         2          New           451\n",
            "31         2       Travel           438\n",
            "11         1        Music           432\n",
            "26         2       Horror           423\n",
            "10         1       Horror           423\n",
            "15         1       Travel           399\n",
            "27         2        Music           398\n"
          ]
        }
      ]
    },
    {
      "cell_type": "markdown",
      "source": [
        "**Soru 83: Hangi mağazalarda hangi kategoriler en az kiralanmış?  ==>  \"SQL:\n",
        "SELECT store.store_id, category.name AS genre, COUNT(rental.rental_id) AS rental_count FROM store\n",
        "JOIN staff ON store.store_id = staff.store_id\n",
        "JOIN rental ON staff.staff_id = rental.staff_id\n",
        "JOIN inventory ON rental.inventory_id = inventory.inventory_id\n",
        "JOIN film ON inventory.film_id - film.film_id\n",
        "JOIN film_category ON film.film_id = film_category.film_id\n",
        "JOIN category ON film_category.category_id = category.category_id GROUP BY store.store_id, genre\n",
        "ORDER BY rental_count ASC;\"**"
      ],
      "metadata": {
        "id": "FuW8ZkjA6_h_"
      }
    },
    {
      "cell_type": "code",
      "source": [
        "import sqlite3\n",
        "import pandas as pd\n",
        "\n",
        "conn = sqlite3.connect('sqlite-sakila.db')\n",
        "\n",
        "df = {}\n",
        "for table_name in ['store', 'staff', 'rental', 'inventory', 'film', 'film_category', 'category']:\n",
        "    query = f\"SELECT * FROM {table_name}\"\n",
        "    df[table_name] = pd.DataFrame(conn.execute(query).fetchall(),\n",
        "                                 columns=[column[0] for column in conn.execute(query).description])\n",
        "\n",
        "result = (df['store']\n",
        "          .merge(df['staff'], on='store_id', how='inner', suffixes=('', '_staff'))\n",
        "          .merge(df['rental'], on='staff_id', how='inner', suffixes=('', '_rental'))\n",
        "          .merge(df['inventory'], on='inventory_id', how='inner', suffixes=('', '_inventory'))\n",
        "          .merge(df['film'], on='film_id', how='inner', suffixes=('', '_film'))\n",
        "          .merge(df['film_category'], on='film_id', how='inner', suffixes=('', '_film_category'))\n",
        "          .merge(df['category'], on='category_id', how='inner', suffixes=('', '_category'))\n",
        "          .groupby(['store_id', 'name'])\n",
        "          .agg(rental_count=('rental_id', 'count'))\n",
        "          .reset_index()\n",
        "          .sort_values(by='rental_count', ascending=True))\n",
        "\n",
        "print(\"\\nMağaza ve Kategori Bazında Kiralama Sayıları (Artan Sıra):\")\n",
        "print(result)\n",
        "\n",
        "conn.close()"
      ],
      "metadata": {
        "colab": {
          "base_uri": "https://localhost:8080/"
        },
        "id": "w3hdk62Iv8t9",
        "outputId": "f85f10fa-0f7a-4a8d-ed67-9789a61e599a"
      },
      "execution_count": 39,
      "outputs": [
        {
          "output_type": "stream",
          "name": "stdout",
          "text": [
            "\n",
            "Mağaza ve Kategori Bazında Kiralama Sayıları (Artan Sıra):\n",
            "    store_id         name  rental_count\n",
            "27         2        Music           398\n",
            "15         1       Travel           399\n",
            "26         2       Horror           423\n",
            "10         1       Horror           423\n",
            "11         1        Music           432\n",
            "31         2       Travel           438\n",
            "28         2          New           451\n",
            "18         2     Children           462\n",
            "19         2     Classics           464\n",
            "20         2       Comedy           466\n",
            "4          1       Comedy           475\n",
            "3          1     Classics           475\n",
            "25         2        Games           475\n",
            "2          1     Children           483\n",
            "12         1          New           489\n",
            "8          1      Foreign           490\n",
            "9          1        Games           494\n",
            "21         2  Documentary           525\n",
            "5          1  Documentary           525\n",
            "6          1        Drama           528\n",
            "23         2       Family           531\n",
            "22         2        Drama           532\n",
            "24         2      Foreign           543\n",
            "29         2       Sci-Fi           548\n",
            "16         2       Action           550\n",
            "13         1       Sci-Fi           553\n",
            "0          1       Action           562\n",
            "14         1       Sports           565\n",
            "7          1       Family           565\n",
            "1          1    Animation           582\n",
            "17         2    Animation           584\n",
            "30         2       Sports           614\n"
          ]
        }
      ]
    },
    {
      "cell_type": "markdown",
      "source": [
        "**Soru 84: En fazla sayıda film kiralayan mağaza hangisidir ve toplam kiralama sayısı nedir?  ==>  \"SQL:\n",
        "SELECT store.store_id, COUNT(rental.rental_id) AS total_rentals FROM store\n",
        "JOIN staff ON store.store_id = staff.store_id\n",
        "JOIN rental ON staff.staff_id = rental.staff_id\n",
        "GROUP BY store.store_id\n",
        "ORDER BY total_rentals DESC\n",
        "LIMIT 1; \"**"
      ],
      "metadata": {
        "id": "a4k9D4p76_zF"
      }
    },
    {
      "cell_type": "code",
      "source": [
        "import sqlite3\n",
        "import pandas as pd\n",
        "\n",
        "conn = sqlite3.connect('sqlite-sakila.db')\n",
        "\n",
        "df = {}\n",
        "for table_name in ['store', 'staff', 'rental']:\n",
        "    query = f\"SELECT * FROM {table_name}\"\n",
        "    df[table_name] = pd.DataFrame(conn.execute(query).fetchall(),\n",
        "                                  columns=[column[0] for column in conn.execute(query).description])\n",
        "\n",
        "soru_84 = df['store'] \\\n",
        "    .merge(df['staff'], on='store_id') \\\n",
        "    .merge(df['rental'], on='staff_id') \\\n",
        "    .groupby('store_id') \\\n",
        "    .agg(total_rentals=('rental_id', 'count')) \\\n",
        "    .reset_index() \\\n",
        "    .sort_values(by='total_rentals', ascending=False) \\\n",
        "    .head(1)\n",
        "\n",
        "print(\"En fazla sayıda film kiralayan mağaza ve toplam kiralama sayısı:\")\n",
        "print(soru_84)\n",
        "\n",
        "\n",
        "conn.close()"
      ],
      "metadata": {
        "colab": {
          "base_uri": "https://localhost:8080/"
        },
        "id": "8xLIwHqqwClM",
        "outputId": "0b0b99b5-ff6e-474a-c4f3-ddb1142f55a8"
      },
      "execution_count": null,
      "outputs": [
        {
          "output_type": "stream",
          "name": "stdout",
          "text": [
            "En fazla sayıda film kiralayan mağaza ve toplam kiralama sayısı:\n",
            "   store_id  total_rentals\n",
            "0         1           8040\n"
          ]
        }
      ]
    },
    {
      "cell_type": "markdown",
      "source": [
        "**Soru 85: En az sayıda film kiralayan mağaza hangisidir ve toplam kiralama sayısı nedir?  ==>  \"SQL:\n",
        "SELECT store.store_id, COUNT(rental.rental_id) AS total_rentals FROM store\n",
        "JOIN staff ON store.store_id = staff.store_id\n",
        "JOIN rental ON staff.staff_id = rental.staff_id GROUP BY store.store_id\n",
        "ORDER BY total_rentals ASC\n",
        "LIMIT 1;\"**"
      ],
      "metadata": {
        "id": "KSJIrUSR7ADx"
      }
    },
    {
      "cell_type": "code",
      "source": [
        "import sqlite3\n",
        "import pandas as pd\n",
        "\n",
        "conn = sqlite3.connect('sqlite-sakila.db')\n",
        "\n",
        "df = {}\n",
        "for table_name in ['store', 'staff', 'rental']:\n",
        "    query = f\"SELECT * FROM {table_name}\"\n",
        "    df[table_name] = pd.DataFrame(conn.execute(query).fetchall(),\n",
        "                                  columns=[column[0] for column in conn.execute(query).description])\n",
        "\n",
        "soru_85 = df['store'] \\\n",
        "    .merge(df['staff'], on='store_id') \\\n",
        "    .merge(df['rental'], on='staff_id') \\\n",
        "    .groupby('store_id') \\\n",
        "    .agg(total_rentals=('rental_id', 'count')) \\\n",
        "    .reset_index() \\\n",
        "    .sort_values(by='total_rentals', ascending=True) \\\n",
        "    .head(1)\n",
        "\n",
        "print(\"En az sayıda film kiralayan mağaza ve toplam kiralama sayısı:\")\n",
        "print(soru_85)\n",
        "\n",
        "conn.close()"
      ],
      "metadata": {
        "colab": {
          "base_uri": "https://localhost:8080/"
        },
        "id": "H9AdsFNO3KzT",
        "outputId": "c9f67320-610e-46d1-d4ca-56d4f2cf44f4"
      },
      "execution_count": null,
      "outputs": [
        {
          "output_type": "stream",
          "name": "stdout",
          "text": [
            "En az sayıda film kiralayan mağaza ve toplam kiralama sayısı:\n",
            "   store_id  total_rentals\n",
            "1         2           8004\n"
          ]
        }
      ]
    },
    {
      "cell_type": "markdown",
      "source": [
        "**Soru 86: En fazla sayıda kiralama yapan müşteri hangisidir ve toplam kiralama sayısı nedir?  ==>  \"SQL:\n",
        "SELECT customer.first_name, customer.last_name, COUNT(rental.rental_id) AS total_rentals\n",
        "FROM customer\n",
        "JOIN rental ON customer.customer_id = rental.customer_id\n",
        "GROUP BY customer.first_name, customer.last_name\n",
        "ORDER BY total_rentals DESC\n",
        "LIMIT 1;\"**"
      ],
      "metadata": {
        "id": "EMX-jkZr8B_e"
      }
    },
    {
      "cell_type": "code",
      "source": [
        "import sqlite3\n",
        "import pandas as pd\n",
        "\n",
        "conn = sqlite3.connect('sqlite-sakila.db')\n",
        "\n",
        "df = {}\n",
        "for table_name in ['customer', 'rental']:\n",
        "    query = f\"SELECT * FROM {table_name}\"\n",
        "    df[table_name] = pd.DataFrame(conn.execute(query).fetchall(),\n",
        "                                  columns=[column[0] for column in conn.execute(query).description])\n",
        "\n",
        "print(df['customer'].columns)\n",
        "\n",
        "soru_86 = df['customer'] \\\n",
        "    .merge(df['rental'], on='customer_id') \\\n",
        "    .groupby(['first_name', 'last_name']) \\\n",
        "    .agg(total_rentals=('rental_id', 'count')) \\\n",
        "    .reset_index() \\\n",
        "    .sort_values(by='total_rentals', ascending=False) \\\n",
        "    .head(1)\n",
        "\n",
        "print(\"En fazla sayıda kiralama yapan müşteri ve toplam kiralama sayısı:\")\n",
        "print(soru_86)\n",
        "\n",
        "conn.close()\n"
      ],
      "metadata": {
        "colab": {
          "base_uri": "https://localhost:8080/"
        },
        "id": "wKjuaKYJ30k_",
        "outputId": "3bac981c-d72e-4dae-acdf-ac1c3521b850"
      },
      "execution_count": null,
      "outputs": [
        {
          "output_type": "stream",
          "name": "stdout",
          "text": [
            "Index(['customer_id', 'store_id', 'first_name', 'last_name', 'email',\n",
            "       'address_id', 'active', 'create_date', 'last_update'],\n",
            "      dtype='object')\n",
            "En fazla sayıda kiralama yapan müşteri ve toplam kiralama sayısı:\n",
            "    first_name last_name  total_rentals\n",
            "175    ELEANOR      HUNT             46\n"
          ]
        }
      ]
    },
    {
      "cell_type": "markdown",
      "source": [
        "**Soru 87: En az sayıda kiralama yapan müşteri hangisidir ve toplam kiralama sayısı nedir?  ==>  \"SQL:\n",
        "SELECT customer.first_name, customer.last_name, COUNT(rental.rental_id) AS total_rentals FROM customer\n",
        "JOIN rental ON customer.customer_id = rental.customer_id\n",
        "GROUP BY customer.first_name, customer.last_name\n",
        "ORDER BY total_rentals ASC\n",
        "LIMIT 1;\"**"
      ],
      "metadata": {
        "id": "xP-Ecebq8C9V"
      }
    },
    {
      "cell_type": "code",
      "source": [
        "import sqlite3\n",
        "import pandas as pd\n",
        "\n",
        "conn = sqlite3.connect('sqlite-sakila.db')\n",
        "\n",
        "df = {}\n",
        "for table_name in ['customer', 'rental']:\n",
        "    query = f\"SELECT * FROM {table_name}\"\n",
        "    df[table_name] = pd.DataFrame(conn.execute(query).fetchall(),\n",
        "                                  columns=[column[0] for column in conn.execute(query).description])\n",
        "\n",
        "soru_87 = df['customer'] \\\n",
        "    .merge(df['rental'], on='customer_id') \\\n",
        "    .groupby(['first_name', 'last_name']) \\\n",
        "    .agg(total_rentals=('rental_id', 'count')) \\\n",
        "    .reset_index() \\\n",
        "    .sort_values(by='total_rentals', ascending=True) \\\n",
        "    .head(1)\n",
        "\n",
        "print(\"En az sayıda kiralama yapan müşteri ve toplam kiralama sayısı:\")\n",
        "print(soru_87)\n",
        "\n",
        "conn.close()"
      ],
      "metadata": {
        "colab": {
          "base_uri": "https://localhost:8080/"
        },
        "id": "BY05_oSk36yz",
        "outputId": "2514cba6-2e53-4005-8aef-6da893b4bb07"
      },
      "execution_count": null,
      "outputs": [
        {
          "output_type": "stream",
          "name": "stdout",
          "text": [
            "En az sayıda kiralama yapan müşteri ve toplam kiralama sayısı:\n",
            "   first_name last_name  total_rentals\n",
            "71      BRIAN     WYMAN             12\n"
          ]
        }
      ]
    },
    {
      "cell_type": "markdown",
      "source": [
        "**Soru 88: En fazla sayıda kiralanan film hangisidir ve toplam kiralama sayısı nedir?  ==>  \"SQL:\n",
        "SELECT film.title, COUNT(rental.rental_id) AS total_rentals FROM film\n",
        "JOIN inventory ON film.film_id = inventory.film_id\n",
        "JOIN rental ON inventory.inventory_id = rental.inventory_id\n",
        "GROUP BY film.title\n",
        "ORDER BY total_rentals DESC\n",
        "LIMIT 1;\"**"
      ],
      "metadata": {
        "id": "raGzZTv08DUz"
      }
    },
    {
      "cell_type": "code",
      "source": [
        "import sqlite3\n",
        "import pandas as pd\n",
        "\n",
        "conn = sqlite3.connect('sqlite-sakila.db')\n",
        "\n",
        "df = {}\n",
        "for table_name in ['film', 'inventory', 'rental']:\n",
        "    query = f\"SELECT * FROM {table_name}\"\n",
        "    df[table_name] = pd.DataFrame(conn.execute(query).fetchall(),\n",
        "                                  columns=[column[0] for column in conn.execute(query).description])\n",
        "\n",
        "soru_88 = df['film'] \\\n",
        "    .merge(df['inventory'], on='film_id') \\\n",
        "    .merge(df['rental'], on='inventory_id') \\\n",
        "    .groupby('title') \\\n",
        "    .agg(total_rentals=('rental_id', 'count')) \\\n",
        "    .reset_index() \\\n",
        "    .sort_values(by='total_rentals', ascending=False) \\\n",
        "    .head(1)\n",
        "\n",
        "print(\"En fazla sayıda kiralanan film ve toplam kiralama sayısı:\")\n",
        "print(soru_88)\n",
        "\n",
        "conn.close()"
      ],
      "metadata": {
        "colab": {
          "base_uri": "https://localhost:8080/"
        },
        "id": "qzwCz0295iMn",
        "outputId": "c999aea3-7c1e-4ee9-c29b-0cce13e74e78"
      },
      "execution_count": null,
      "outputs": [
        {
          "output_type": "stream",
          "name": "stdout",
          "text": [
            "En fazla sayıda kiralanan film ve toplam kiralama sayısı:\n",
            "                 title  total_rentals\n",
            "96  BUCKET BROTHERHOOD             34\n"
          ]
        }
      ]
    },
    {
      "cell_type": "markdown",
      "source": [
        "**Soru 89: En az sayıda kiralanan film hangisidir ve toplam kiralama sayısı nedir?  ==>  \"SQL:\n",
        "SELECT film.title, COUNT(rental.rental_id) AS total_rentals FROM film\n",
        "JOIN inventory ON film.film_id - inventory.film_id\n",
        "JOIN rental ON inventory.inventory_id = rental.inventory_id GROUP BY film.title\n",
        "ORDER BY total_rentals ASC\n",
        "LIMIT 1;\"**"
      ],
      "metadata": {
        "id": "ASb4xNkF8Dn3"
      }
    },
    {
      "cell_type": "code",
      "source": [
        "import sqlite3\n",
        "import pandas as pd\n",
        "\n",
        "conn = sqlite3.connect('sqlite-sakila.db')\n",
        "\n",
        "df = {}\n",
        "for table_name in ['film', 'inventory', 'rental']:\n",
        "    query = f\"SELECT * FROM {table_name}\"\n",
        "    df[table_name] = pd.DataFrame(conn.execute(query).fetchall(),\n",
        "                                  columns=[column[0] for column in conn.execute(query).description])\n",
        "\n",
        "soru_89 = (df['film']\n",
        "           .merge(df['inventory'], on='film_id', how='inner')\n",
        "           .merge(df['rental'], on='inventory_id', how='outer')  # 'outer' kullanarak kiralanmamışları dahil et\n",
        "           .groupby('title')\n",
        "           .agg(total_rentals=('rental_id', 'count'))\n",
        "           .reset_index()\n",
        "           .sort_values(by='total_rentals', ascending=True)\n",
        "           .head(1))\n",
        "\n",
        "print(\"En az sayıda kiralanan film ve toplam kiralama sayısı:\")\n",
        "print(soru_89)\n",
        "\n",
        "conn.close()"
      ],
      "metadata": {
        "colab": {
          "base_uri": "https://localhost:8080/"
        },
        "id": "Nvw5x9YT5mhW",
        "outputId": "21bb51f2-3426-42b5-e70c-7c323572fd07"
      },
      "execution_count": 46,
      "outputs": [
        {
          "output_type": "stream",
          "name": "stdout",
          "text": [
            "En az sayıda kiralanan film ve toplam kiralama sayısı:\n",
            "           title  total_rentals\n",
            "558  MIXED DOORS              4\n"
          ]
        }
      ]
    },
    {
      "cell_type": "markdown",
      "source": [
        "**Soru 90: En fazla kazanç sağlayan müşteri hangisidir ve toplam kazancı nedir?  ==>  \"SQL:\n",
        "SELECT customer.first_name, customer.last_name, SUM(payment.amount) AS total_revenue FROM customer\n",
        "JOIN rental ON customer.customer_id = rental.customer_id\n",
        "JOIN payment ON rental.rental_id = payment.rental_id\n",
        "GROUP BY customer.first_name, customer.last_name\n",
        "ORDER BY total_revenue DESC\n",
        "LIMIT 1;\"**"
      ],
      "metadata": {
        "id": "OrIUKitv8D6G"
      }
    },
    {
      "cell_type": "code",
      "source": [
        "import sqlite3\n",
        "import pandas as pd\n",
        "\n",
        "conn = sqlite3.connect('sqlite-sakila.db')\n",
        "\n",
        "\n",
        "df = {}\n",
        "for table_name in ['customer', 'rental', 'payment']:\n",
        "    query = f\"SELECT * FROM {table_name}\"\n",
        "    df[table_name] = pd.DataFrame(conn.execute(query).fetchall(),\n",
        "                                  columns=[column[0] for column in conn.execute(query).description])\n",
        "\n",
        "soru_90 = df['customer'] \\\n",
        "    .merge(df['rental'], on='customer_id') \\\n",
        "    .merge(df['payment'], on='rental_id') \\\n",
        "    .groupby(['first_name', 'last_name']) \\\n",
        "    .agg(total_revenue=('amount', 'sum')) \\\n",
        "    .reset_index() \\\n",
        "    .sort_values(by='total_revenue', ascending=False) \\\n",
        "    .head(1)\n",
        "\n",
        "print(\"En fazla kazanç sağlayan müşteri ve toplam kazancı:\")\n",
        "print(soru_90)\n",
        "\n",
        "conn.close()"
      ],
      "metadata": {
        "colab": {
          "base_uri": "https://localhost:8080/"
        },
        "id": "1AJKviqH5sLG",
        "outputId": "b953df2d-e6c0-4105-90a7-191017e0676e"
      },
      "execution_count": null,
      "outputs": [
        {
          "output_type": "stream",
          "name": "stdout",
          "text": [
            "En fazla kazanç sağlayan müşteri ve toplam kazancı:\n",
            "    first_name last_name  total_revenue\n",
            "318       KARL      SEAL         221.55\n"
          ]
        }
      ]
    },
    {
      "cell_type": "markdown",
      "source": [
        "**Soru 91: En az kazanç sağlayan müşteri hangisidir ve toplam kazancı nedir?  ==>  \"SQL:  \n",
        "SELECT customer.first_name, customer.last_name, SUM(payment.amount) AS total_revenue FROM customer\n",
        "JOIN rental ON customer.customer_id = rental.customer_id\n",
        "JOIN payment ON rental.rental_id = payment.rental_id\n",
        "GROUP BY customer.first_name, customer.last_name\n",
        "ORDER BY total_revenue ASC\n",
        "LIMIT 1;\"**"
      ],
      "metadata": {
        "id": "AE57i6dq8ETn"
      }
    },
    {
      "cell_type": "code",
      "source": [
        "import sqlite3\n",
        "import pandas as pd\n",
        "\n",
        "\n",
        "conn = sqlite3.connect('sqlite-sakila.db')\n",
        "\n",
        "\n",
        "df = {}\n",
        "for table_name in ['customer', 'rental', 'payment']:\n",
        "    query = f\"SELECT * FROM {table_name}\"\n",
        "    df[table_name] = pd.DataFrame(conn.execute(query).fetchall(),\n",
        "                                  columns=[column[0] for column in conn.execute(query).description])\n",
        "\n",
        "soru_91 = df['customer'] \\\n",
        "    .merge(df['rental'], on='customer_id') \\\n",
        "    .merge(df['payment'], on='rental_id') \\\n",
        "    .groupby(['first_name', 'last_name']) \\\n",
        "    .agg(total_revenue=('amount', 'sum')) \\\n",
        "    .reset_index() \\\n",
        "    .sort_values(by='total_revenue', ascending=True) \\\n",
        "    .head(1)\n",
        "\n",
        "print(\"En az kazanç sağlayan müşteri ve toplam kazancı:\")\n",
        "print(soru_91)\n",
        "\n",
        "conn.close()"
      ],
      "metadata": {
        "colab": {
          "base_uri": "https://localhost:8080/"
        },
        "id": "dWXDHTc95w2X",
        "outputId": "7a4bac81-f535-4048-d7fe-4b6ab9be87c3"
      },
      "execution_count": null,
      "outputs": [
        {
          "output_type": "stream",
          "name": "stdout",
          "text": [
            "En az kazanç sağlayan müşteri ve toplam kazancı:\n",
            "   first_name last_name  total_revenue\n",
            "83   CAROLINE    BOWMAN          50.85\n"
          ]
        }
      ]
    },
    {
      "cell_type": "markdown",
      "source": [
        "**Soru 92: Hangi film, hangi kategoride en çok kazanç sağlamış?  ==>  \"SQL:  \n",
        "SELECT film.title, category.name AS genre, SUM(payment.amount) AS total_revenue\n",
        "FROM film\n",
        "JOIN film_category ON film.film_id = film_category.film_id\n",
        "JOIN category ON film_category.category_id = category.category_id\n",
        "JOIN inventory ON film.film_id = inventory.film_id\n",
        "JOIN rental ON inventory.inventory_id = rental.inventory_id\n",
        "JOIN payment ON rental.rental_id = payment.rental_id\n",
        "GROUP BY film.title, category.name\n",
        "ORDER BY total_revenue DESC\n",
        "LIMIT 1;\n",
        "\"**"
      ],
      "metadata": {
        "id": "AvrsQB7b8EqB"
      }
    },
    {
      "cell_type": "code",
      "source": [
        "import sqlite3\n",
        "import pandas as pd\n",
        "\n",
        "conn = sqlite3.connect('sqlite-sakila.db')\n",
        "\n",
        "\n",
        "df = {}\n",
        "for table_name in ['film', 'film_category', 'category', 'inventory', 'rental', 'payment']:\n",
        "    query = f\"SELECT * FROM {table_name}\"\n",
        "    df[table_name] = pd.DataFrame(conn.execute(query).fetchall(),\n",
        "                                  columns=[column[0] for column in conn.execute(query).description])\n",
        "\n",
        "soru_92 = df['film'] \\\n",
        "    .merge(df['film_category'], on='film_id', suffixes=('', '_fc')) \\\n",
        "    .merge(df['category'], on='category_id', suffixes=('', '_cat')) \\\n",
        "    .merge(df['inventory'], on='film_id') \\\n",
        "    .merge(df['rental'], on='inventory_id') \\\n",
        "    .merge(df['payment'], on='rental_id', suffixes=('', '_pay')) \\\n",
        "    .groupby(['title', 'name']) \\\n",
        "    .agg(total_revenue=('amount', 'sum')) \\\n",
        "    .reset_index() \\\n",
        "    .sort_values(by='total_revenue', ascending=False) \\\n",
        "    .head(1)\n",
        "\n",
        "print(\"Hangi film, hangi kategoride en çok kazanç sağlamış:\")\n",
        "print(soru_92)\n",
        "\n",
        "\n",
        "conn.close()"
      ],
      "metadata": {
        "colab": {
          "base_uri": "https://localhost:8080/"
        },
        "id": "ZL1-gEBg51MO",
        "outputId": "1c467e29-e460-471c-d00d-ba6ed5b3f9cd"
      },
      "execution_count": null,
      "outputs": [
        {
          "output_type": "stream",
          "name": "stdout",
          "text": [
            "Hangi film, hangi kategoride en çok kazanç sağlamış:\n",
            "                title   name  total_revenue\n",
            "841  TELEGRAPH VOYAGE  Music         231.73\n"
          ]
        }
      ]
    },
    {
      "cell_type": "markdown",
      "source": [
        "**Soru 93: Hangi film, hangi kategoride en az kazanç sağlamış?  ==>  \"SQL:\n",
        "SELECT film.title, category.name AS genre, SUM(payment.amount) AS total_revenue FROM film\n",
        "JOIN film_category ON film.film_id = film_category.film_id\n",
        "JOIN category ON film_category.category_id = category.category_id\n",
        "JOIN inventory ON film.film_id = inventory.film_id\n",
        "JOIN rental ON inventory.inventory_id = rental.inventory_id\n",
        "JOIN payment ON rental.rental_id = payment.rental_id\n",
        "GROUP BY film.title, genre\n",
        "ORDER BY total_revenue ASC\n",
        "LIMIT 1;\"**"
      ],
      "metadata": {
        "id": "y9VxeOpv8E_9"
      }
    },
    {
      "cell_type": "code",
      "source": [
        "import sqlite3\n",
        "import pandas as pd\n",
        "\n",
        "conn = sqlite3.connect('sqlite-sakila.db')\n",
        "\n",
        "\n",
        "df = {}\n",
        "for table_name in ['film', 'film_category', 'category', 'inventory', 'rental', 'payment']:\n",
        "    query = f\"SELECT * FROM {table_name}\"\n",
        "    df[table_name] = pd.DataFrame(conn.execute(query).fetchall(),\n",
        "                                  columns=[column[0] for column in conn.execute(query).description])\n",
        "\n",
        "soru_93 = df['film'] \\\n",
        "    .merge(df['film_category'], on='film_id', suffixes=('', '_fc')) \\\n",
        "    .merge(df['category'], on='category_id', suffixes=('', '_cat')) \\\n",
        "    .merge(df['inventory'], on='film_id') \\\n",
        "    .merge(df['rental'], on='inventory_id') \\\n",
        "    .merge(df['payment'], on='rental_id', suffixes=('', '_pay')) \\\n",
        "    .groupby(['title', 'name']) \\\n",
        "    .agg(toplam_kazanc=('amount', 'sum')) \\\n",
        "    .reset_index() \\\n",
        "    .sort_values(by='toplam_kazanc', ascending=True) \\\n",
        "    .head(1)\n",
        "\n",
        "print(\"Hangi film, hangi kategoride en az kazanç sağlamış:\")\n",
        "print(soru_93)\n",
        "\n",
        "conn.close()"
      ],
      "metadata": {
        "colab": {
          "base_uri": "https://localhost:8080/"
        },
        "id": "dWNa81XH6cl_",
        "outputId": "56f5d754-2000-4afb-9088-27f64ac2c63f"
      },
      "execution_count": null,
      "outputs": [
        {
          "output_type": "stream",
          "name": "stdout",
          "text": [
            "Hangi film, hangi kategoride en az kazanç sağlamış:\n",
            "           title    name  toplam_kazanc\n",
            "847  TEXAS WATCH  Horror           5.94\n"
          ]
        }
      ]
    },
    {
      "cell_type": "markdown",
      "source": [
        "**Soru 94: En fazla kazanç sağlayan mağaza hangisidir ve toplam kazancı nedir?  ==>  \"SQL:  \n",
        "SELECT store.store_id, SUM(payment.amount) AS total_revenue\n",
        "FROM store\n",
        "JOIN staff ON store.store_id = staff.store_id\n",
        "JOIN rental ON staff.staff_id = rental.staff_id\n",
        "JOIN payment ON rental.rental_id = payment.rental_id GROUP BY store.store_id\n",
        "ORDER BY total_revenue DESC\n",
        "LIMIT 1;\"**"
      ],
      "metadata": {
        "id": "g8fKMc1s8FXf"
      }
    },
    {
      "cell_type": "code",
      "source": [
        "import sqlite3\n",
        "import pandas as pd\n",
        "\n",
        "\n",
        "conn = sqlite3.connect('sqlite-sakila.db')\n",
        "\n",
        "\n",
        "df = {}\n",
        "for table_name in ['store', 'staff', 'rental', 'payment']:\n",
        "    query = f\"SELECT * FROM {table_name}\"\n",
        "    df[table_name] = pd.DataFrame(conn.execute(query).fetchall(),\n",
        "                                  columns=[column[0] for column in conn.execute(query).description])\n",
        "\n",
        "\n",
        "soru_94 = df['store'] \\\n",
        "    .merge(df['staff'], on='store_id', suffixes=('', '_staff')) \\\n",
        "    .merge(df['rental'], on='staff_id', suffixes=('', '_rental')) \\\n",
        "    .merge(df['payment'], on='rental_id', suffixes=('', '_payment')) \\\n",
        "    .groupby('store_id') \\\n",
        "    .agg(toplam_kazanc=('amount', 'sum')) \\\n",
        "    .reset_index() \\\n",
        "    .sort_values(by='toplam_kazanc', ascending=False) \\\n",
        "    .head(1)\n",
        "\n",
        "print(\"En fazla kazanç sağlayan mağaza ve toplam kazancı:\")\n",
        "print(soru_94)\n",
        "\n",
        "conn.close()"
      ],
      "metadata": {
        "colab": {
          "base_uri": "https://localhost:8080/"
        },
        "id": "TNownrQF6rEs",
        "outputId": "4c825f22-9018-421a-893c-3aec7d5b97e4"
      },
      "execution_count": null,
      "outputs": [
        {
          "output_type": "stream",
          "name": "stdout",
          "text": [
            "En fazla kazanç sağlayan mağaza ve toplam kazancı:\n",
            "   store_id  toplam_kazanc\n",
            "1         2       33881.94\n"
          ]
        }
      ]
    },
    {
      "cell_type": "markdown",
      "source": [
        "**Soru 95: En az kazanç sağlayan mağaza hangisidir ve toplam kazancı nedir?  ==>  \"SQL:\n",
        "SELECT store.store_id, SUM(payment.amount) AS total_revenue\n",
        "FROM store\n",
        "JOIN staff ON store.store_id = staff.store_id\n",
        "JOIN rental ON staff.staff_id = rental.staff_id\n",
        "JOIN payment ON rental.rental_id = payment.rental_id GROUP BY store.store_id\n",
        "ORDER BY total_revenue ASC\n",
        "LIMIT 1;\"**"
      ],
      "metadata": {
        "id": "h27w5rU78F86"
      }
    },
    {
      "cell_type": "code",
      "source": [
        "import sqlite3\n",
        "import pandas as pd\n",
        "\n",
        "conn = sqlite3.connect('sqlite-sakila.db')\n",
        "\n",
        "df = {}\n",
        "for table_name in ['store', 'staff', 'rental', 'payment']:\n",
        "    query = f\"SELECT * FROM {table_name}\"\n",
        "    df[table_name] = pd.DataFrame(conn.execute(query).fetchall(),\n",
        "                                  columns=[column[0] for column in conn.execute(query).description])\n",
        "\n",
        "\n",
        "soru_95 = df['store'] \\\n",
        "    .merge(df['staff'], on='store_id', suffixes=('', '_staff')) \\\n",
        "    .merge(df['rental'], on='staff_id', suffixes=('', '_rental')) \\\n",
        "    .merge(df['payment'], on='rental_id', suffixes=('', '_payment')) \\\n",
        "    .groupby('store_id') \\\n",
        "    .agg(toplam_kazanc=('amount', 'sum')) \\\n",
        "    .reset_index() \\\n",
        "    .sort_values(by='toplam_kazanc', ascending=True) \\\n",
        "    .head(1)\n",
        "\n",
        "print(\"En az kazanç sağlayan mağaza ve toplam kazancı:\")\n",
        "print(soru_95)\n",
        "\n",
        "\n",
        "conn.close()"
      ],
      "metadata": {
        "colab": {
          "base_uri": "https://localhost:8080/"
        },
        "id": "Hq4D0y4z61lm",
        "outputId": "42317673-f94c-475e-8791-a263b028cf3b"
      },
      "execution_count": null,
      "outputs": [
        {
          "output_type": "stream",
          "name": "stdout",
          "text": [
            "En az kazanç sağlayan mağaza ve toplam kazancı:\n",
            "   store_id  toplam_kazanc\n",
            "0         1       33524.62\n"
          ]
        }
      ]
    },
    {
      "cell_type": "markdown",
      "source": [
        "**Soru 96: En fazla sayıda farklı film kiralayan müşteri hangisidir?  ==>  \"SQL: SELECT\n",
        "    customer.first_name,\n",
        "    customer.last_name,\n",
        "    COUNT(DISTINCT rental.inventory_id) AS unique_rentals\n",
        "FROM\n",
        "    customer\n",
        "JOIN\n",
        "    rental ON customer.customer_id = rental.customer_id\n",
        "GROUP BY\n",
        "    customer.first_name,\n",
        "    customer.last_name\n",
        "ORDER BY\n",
        "    unique_rentals DESC\n",
        "LIMIT 1;\n",
        "\"**"
      ],
      "metadata": {
        "id": "mDYpS6wQ8GRW"
      }
    },
    {
      "cell_type": "code",
      "source": [
        "import sqlite3\n",
        "import pandas as pd\n",
        "\n",
        "conn = sqlite3.connect('sqlite-sakila.db')\n",
        "\n",
        "df = {}\n",
        "for table_name in ['customer', 'rental']:\n",
        "    query = f\"SELECT * FROM {table_name}\"\n",
        "    df[table_name] = pd.DataFrame(conn.execute(query).fetchall(),\n",
        "                                  columns=[column[0] for column in conn.execute(query).description])\n",
        "\n",
        "\n",
        "soru_96 = df['customer'] \\\n",
        "    .merge(df['rental'], on='customer_id') \\\n",
        "    .groupby(['first_name', 'last_name']) \\\n",
        "    .agg(farkli_kiralama_sayisi=('inventory_id', 'nunique')) \\\n",
        "    .reset_index() \\\n",
        "    .sort_values(by='farkli_kiralama_sayisi', ascending=False) \\\n",
        "    .head(1)\n",
        "\n",
        "print(\"En fazla sayıda farklı film kiralayan müşteri:\")\n",
        "print(soru_96)\n",
        "\n",
        "conn.close()"
      ],
      "metadata": {
        "colab": {
          "base_uri": "https://localhost:8080/"
        },
        "id": "tQ5zy_QY66Sa",
        "outputId": "a4e0e269-cf6f-4ffc-db5b-7d02616d1d92"
      },
      "execution_count": null,
      "outputs": [
        {
          "output_type": "stream",
          "name": "stdout",
          "text": [
            "En fazla sayıda farklı film kiralayan müşteri:\n",
            "    first_name last_name  farkli_kiralama_sayisi\n",
            "175    ELEANOR      HUNT                      46\n"
          ]
        }
      ]
    },
    {
      "cell_type": "markdown",
      "source": [
        "**Soru 97: En az sayıda farklı film kiralayan müşteri hangisidir?  ==>  \"SQL: SELECT\n",
        "    customer.first_name,\n",
        "    customer.last_name,\n",
        "    COUNT(DISTINCT rental.inventory_id) AS unique_rentals\n",
        "FROM\n",
        "    customer\n",
        "JOIN\n",
        "    rental ON customer.customer_id = rental.customer_id\n",
        "GROUP BY\n",
        "    customer.first_name,\n",
        "    customer.last_name\n",
        "ORDER BY\n",
        "    unique_rentals ASC\n",
        "LIMIT 1;\n",
        "\"**"
      ],
      "metadata": {
        "id": "lAxt30dO8Gxd"
      }
    },
    {
      "cell_type": "code",
      "source": [
        "import sqlite3\n",
        "import pandas as pd\n",
        "\n",
        "conn = sqlite3.connect('sqlite-sakila.db')\n",
        "\n",
        "df = {}\n",
        "for table_name in ['customer', 'rental']:\n",
        "    query = f\"SELECT * FROM {table_name}\"\n",
        "    df[table_name] = pd.DataFrame(conn.execute(query).fetchall(),\n",
        "                                  columns=[column[0] for column in conn.execute(query).description])\n",
        "\n",
        "\n",
        "soru_97 = df['customer'] \\\n",
        "    .merge(df['rental'], on='customer_id') \\\n",
        "    .groupby(['first_name', 'last_name']) \\\n",
        "    .agg(farkli_kiralama_sayisi=('inventory_id', 'nunique')) \\\n",
        "    .reset_index() \\\n",
        "    .sort_values(by='farkli_kiralama_sayisi', ascending=True) \\\n",
        "    .head(1)\n",
        "\n",
        "print(\"En az sayıda farklı film kiralayan müşteri:\")\n",
        "print(soru_97)\n",
        "\n",
        "conn.close()"
      ],
      "metadata": {
        "colab": {
          "base_uri": "https://localhost:8080/"
        },
        "id": "rsIXGSHY6_ze",
        "outputId": "7e4cd52f-d7b9-4c13-eba4-59fd51fa9649"
      },
      "execution_count": null,
      "outputs": [
        {
          "output_type": "stream",
          "name": "stdout",
          "text": [
            "En az sayıda farklı film kiralayan müşteri:\n",
            "   first_name last_name  farkli_kiralama_sayisi\n",
            "71      BRIAN     WYMAN                      12\n"
          ]
        }
      ]
    },
    {
      "cell_type": "markdown",
      "source": [
        "**Soru 98: En fazla sayıda farklı müşteri tarafından kiralanan film hangisidir?  ==>  \"SQL:\n",
        "SELECT film.title, COUNT(DISTINCT rental.customer_id) AS unique_customers\n",
        "FROM film\n",
        "JOIN inventory ON film.film_id = inventory.film_id\n",
        "JOIN rental ON inventory.inventory_id = rental.inventory_id\n",
        "GROUP BY film.title\n",
        "ORDER BY unique_customers DESC\n",
        "LIMIT 1;\n",
        "\"**"
      ],
      "metadata": {
        "id": "8gVBxgsB8H_e"
      }
    },
    {
      "cell_type": "code",
      "source": [
        "import sqlite3\n",
        "import pandas as pd\n",
        "\n",
        "\n",
        "conn = sqlite3.connect('sqlite-sakila.db')\n",
        "\n",
        "df = {}\n",
        "for table_name in ['film', 'inventory', 'rental']:\n",
        "    query = f\"SELECT * FROM {table_name}\"\n",
        "    df[table_name] = pd.DataFrame(conn.execute(query).fetchall(),\n",
        "                                  columns=[column[0] for column in conn.execute(query).description])\n",
        "\n",
        "soru_98 = df['film'] \\\n",
        "    .merge(df['inventory'], on='film_id') \\\n",
        "    .merge(df['rental'], on='inventory_id') \\\n",
        "    .groupby('title') \\\n",
        "    .agg(farkli_musteri_sayisi=('customer_id', 'nunique')) \\\n",
        "    .reset_index() \\\n",
        "    .sort_values(by='farkli_musteri_sayisi', ascending=False) \\\n",
        "    .head(1)\n",
        "\n",
        "print(\"En fazla sayıda farklı müşteri tarafından kiralanan film:\")\n",
        "print(soru_98)\n",
        "\n",
        "conn.close()"
      ],
      "metadata": {
        "colab": {
          "base_uri": "https://localhost:8080/"
        },
        "id": "dxOJQTWr7Cr3",
        "outputId": "e0691bf0-8512-4721-d9e9-298b14226327"
      },
      "execution_count": null,
      "outputs": [
        {
          "output_type": "stream",
          "name": "stdout",
          "text": [
            "En fazla sayıda farklı müşteri tarafından kiralanan film:\n",
            "                 title  farkli_musteri_sayisi\n",
            "96  BUCKET BROTHERHOOD                     33\n"
          ]
        }
      ]
    },
    {
      "cell_type": "markdown",
      "source": [
        "**Soru 99: En az sayıda farklı müşteri tarafından kiralanan film hangisidir?  ==>  \"SQL:\n",
        "SELECT film.title, COUNT(DISTINCT rental.customer_id) AS unique_customers FROM film\n",
        "JOIN inventory ON film.film_id = inventory.film_id\n",
        "JOIN rental ON inventory.inventory_id = rental.inventory_id\n",
        "GROUP BY film.title\n",
        "ORDER BY unique_customers ASC\n",
        "LIMIT 1;\"**"
      ],
      "metadata": {
        "id": "t8rxkhrm8IV9"
      }
    },
    {
      "cell_type": "code",
      "source": [
        "import sqlite3\n",
        "import pandas as pd\n",
        "\n",
        "\n",
        "conn = sqlite3.connect('sqlite-sakila.db')\n",
        "\n",
        "\n",
        "df = {}\n",
        "for table_name in ['film', 'inventory', 'rental']:\n",
        "    query = f\"SELECT * FROM {table_name}\"\n",
        "    df[table_name] = pd.DataFrame(conn.execute(query).fetchall(),\n",
        "                                  columns=[column[0] for column in conn.execute(query).description])\n",
        "\n",
        "\n",
        "soru_99 = df['film'] \\\n",
        "    .merge(df['inventory'], on='film_id') \\\n",
        "    .merge(df['rental'], on='inventory_id') \\\n",
        "    .groupby('title') \\\n",
        "    .agg(farkli_musteri_sayisi=('customer_id', 'nunique')) \\\n",
        "    .reset_index() \\\n",
        "    .sort_values(by='farkli_musteri_sayisi', ascending=True) \\\n",
        "    .head(1)\n",
        "\n",
        "print(\"En az sayıda farklı müşteri tarafından kiralanan film:\")\n",
        "print(soru_99)\n",
        "\n",
        "conn.close()"
      ],
      "metadata": {
        "colab": {
          "base_uri": "https://localhost:8080/"
        },
        "id": "BWF0nu5T7Gab",
        "outputId": "dbce202e-fa72-4601-bc67-72c8ea846f6b"
      },
      "execution_count": null,
      "outputs": [
        {
          "output_type": "stream",
          "name": "stdout",
          "text": [
            "En az sayıda farklı müşteri tarafından kiralanan film:\n",
            "           title  farkli_musteri_sayisi\n",
            "866  TRAIN BUNCH                      4\n"
          ]
        }
      ]
    },
    {
      "cell_type": "markdown",
      "source": [
        "**Soru 100: Hangi mağazada, hangi kategoride en fazla kazanç sağlanmış?  ==>  \"SQL:\n",
        "SELECT store.store_id, category.name AS genre, SUM(payment.amount) AS total_revenue\n",
        "FROM store\n",
        "JOIN staff ON store.store_id = staff.store_id\n",
        "JOIN rental ON staff.staff_id = rental.staff_id\n",
        "JOIN inventory ON rental.inventory_id = inventory.inventory_id\n",
        "JOIN film ON inventory.film_id = film.film_id\n",
        "JOIN film_category ON film.film_id = film_category.film_id\n",
        "JOIN category ON film_category.category_id = category.category_id\n",
        "JOIN payment ON rental.rental_id = payment.rental_id\n",
        "GROUP BY store.store_id, category.name\n",
        "ORDER BY total_revenue DESC\n",
        "LIMIT 1;\"**"
      ],
      "metadata": {
        "id": "a_cTggCh8JJ8"
      }
    },
    {
      "cell_type": "code",
      "source": [
        "import sqlite3\n",
        "import pandas as pd\n",
        "\n",
        "conn = sqlite3.connect('sqlite-sakila.db')\n",
        "\n",
        "df = {}\n",
        "for table_name in ['store', 'staff', 'rental', 'inventory', 'film', 'film_category', 'category', 'payment']:\n",
        "    query = f\"SELECT * FROM {table_name}\"\n",
        "    df[table_name] = pd.DataFrame(conn.execute(query).fetchall(),\n",
        "                                  columns=[column[0] for column in conn.execute(query).description])\n",
        "\n",
        "result = (df['store']\n",
        "          .merge(df['staff'], on='store_id', how='inner', suffixes=('', '_staff'))\n",
        "          .merge(df['rental'], on='staff_id', how='inner', suffixes=('', '_rental'))\n",
        "          .merge(df['inventory'], on='inventory_id', how='inner', suffixes=('', '_inventory'))\n",
        "          .merge(df['film'], on='film_id', how='inner', suffixes=('', '_film'))\n",
        "          .merge(df['film_category'], on='film_id', how='inner', suffixes=('', '_film_category'))\n",
        "          .merge(df['category'], on='category_id', how='inner', suffixes=('', '_category'))\n",
        "          .merge(df['payment'], on='rental_id', how='inner', suffixes=('', '_payment'))\n",
        "          .groupby(['store_id', 'name'])  # 'name' burada kategori adıdır\n",
        "          .agg(total_revenue=('amount', 'sum'))  # Toplam geliri hesaplama\n",
        "          .reset_index()\n",
        "          .sort_values(by='total_revenue', ascending=False)\n",
        "          .head(1))\n",
        "\n",
        "print(\"En yüksek toplam gelire sahip mağaza ve kategori:\")\n",
        "print(result)\n",
        "\n",
        "conn.close()"
      ],
      "metadata": {
        "colab": {
          "base_uri": "https://localhost:8080/"
        },
        "id": "PNC3HvA87I0b",
        "outputId": "35192484-1dd0-411b-c12a-5d6967d77df8"
      },
      "execution_count": 50,
      "outputs": [
        {
          "output_type": "stream",
          "name": "stdout",
          "text": [
            "En yüksek toplam gelire sahip mağaza ve kategori:\n",
            "    store_id    name  total_revenue\n",
            "30         2  Sports        2761.85\n"
          ]
        }
      ]
    }
  ]
}